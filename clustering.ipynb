{
 "cells": [
  {
   "cell_type": "markdown",
   "metadata": {},
   "source": [
    "- Give the objective of k-means\n",
    "- Give the k-means algorithm\n",
    "- run k-means on several examples visually. Show examples of global minimum and local minimum. resuly is sensitive to initial centroids.\n",
    "- K-means++, Bisecting K-means\n",
    "- Running time of k-means\n",
    "- Limitations of k-means: spherical clusters assumption, show examples where k-means have a problem: different sized clusters, hard assignments"
   ]
  },
  {
   "cell_type": "markdown",
   "metadata": {},
   "source": [
    "### Cluster Evaluation\n",
    "- For the same number of clusters, the objective function can be used. But don't forget that there can be no objective measure since clustering is in many cases subjective.\n",
    "- But as the number of clusters increase, the objective goes to zero, comes the elbow technique.\n"
   ]
  },
  {
   "cell_type": "markdown",
   "metadata": {},
   "source": [
    "## Mixture of Gaussians\n",
    "\n",
    "- Take 3 uni-variate normal distributions. Generate some data. \n",
    "- Question: Given the data can we discover that there are 3 distributions and their mean and stds."
   ]
  },
  {
   "cell_type": "code",
   "execution_count": null,
   "metadata": {},
   "outputs": [],
   "source": []
  }
 ],
 "metadata": {
  "kernelspec": {
   "display_name": "Python 3",
   "language": "python",
   "name": "python3"
  },
  "language_info": {
   "codemirror_mode": {
    "name": "ipython",
    "version": 3
   },
   "file_extension": ".py",
   "mimetype": "text/x-python",
   "name": "python",
   "nbconvert_exporter": "python",
   "pygments_lexer": "ipython3",
   "version": "3.6.5"
  }
 },
 "nbformat": 4,
 "nbformat_minor": 2
}
