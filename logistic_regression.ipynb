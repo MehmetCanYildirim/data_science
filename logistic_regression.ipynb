{
 "cells": [
  {
   "cell_type": "markdown",
   "metadata": {
    "colab_type": "text",
    "id": "9UxQFy8cTgAU"
   },
   "source": [
    "# Logistic Regression\n",
    "(by Tevfik Aytekin)"
   ]
  },
  {
   "cell_type": "markdown",
   "metadata": {
    "colab_type": "text",
    "id": "v_hjQxIMTgAX"
   },
   "source": [
    "Logistic regression is a classification method (do not get confused with the word \"regression\" in its name) where the aim is to separate the data instances into two groups.\n",
    "\n",
    "As an example dataset we will use the well known iris dataset."
   ]
  },
  {
   "cell_type": "code",
   "execution_count": 1,
   "metadata": {
    "colab": {
     "base_uri": "https://localhost:8080/",
     "height": 407
    },
    "colab_type": "code",
    "executionInfo": {
     "elapsed": 2391,
     "status": "ok",
     "timestamp": 1583567814779,
     "user": {
      "displayName": "Tevfik Aytekin",
      "photoUrl": "",
      "userId": "03705756795675396046"
     },
     "user_tz": -180
    },
    "id": "WHfu8FllTgAZ",
    "outputId": "02ebcf2b-4240-4ca0-a39e-9179445e9347"
   },
   "outputs": [
    {
     "data": {
      "text/html": [
       "<div>\n",
       "<style scoped>\n",
       "    .dataframe tbody tr th:only-of-type {\n",
       "        vertical-align: middle;\n",
       "    }\n",
       "\n",
       "    .dataframe tbody tr th {\n",
       "        vertical-align: top;\n",
       "    }\n",
       "\n",
       "    .dataframe thead th {\n",
       "        text-align: right;\n",
       "    }\n",
       "</style>\n",
       "<table border=\"1\" class=\"dataframe\">\n",
       "  <thead>\n",
       "    <tr style=\"text-align: right;\">\n",
       "      <th></th>\n",
       "      <th>sepal_length</th>\n",
       "      <th>sepal_width</th>\n",
       "      <th>petal_length</th>\n",
       "      <th>petal_width</th>\n",
       "      <th>species</th>\n",
       "    </tr>\n",
       "  </thead>\n",
       "  <tbody>\n",
       "    <tr>\n",
       "      <th>0</th>\n",
       "      <td>5.1</td>\n",
       "      <td>3.5</td>\n",
       "      <td>1.4</td>\n",
       "      <td>0.2</td>\n",
       "      <td>Iris-setosa</td>\n",
       "    </tr>\n",
       "    <tr>\n",
       "      <th>1</th>\n",
       "      <td>4.9</td>\n",
       "      <td>3.0</td>\n",
       "      <td>1.4</td>\n",
       "      <td>0.2</td>\n",
       "      <td>Iris-setosa</td>\n",
       "    </tr>\n",
       "    <tr>\n",
       "      <th>2</th>\n",
       "      <td>4.7</td>\n",
       "      <td>3.2</td>\n",
       "      <td>1.3</td>\n",
       "      <td>0.2</td>\n",
       "      <td>Iris-setosa</td>\n",
       "    </tr>\n",
       "    <tr>\n",
       "      <th>3</th>\n",
       "      <td>4.6</td>\n",
       "      <td>3.1</td>\n",
       "      <td>1.5</td>\n",
       "      <td>0.2</td>\n",
       "      <td>Iris-setosa</td>\n",
       "    </tr>\n",
       "    <tr>\n",
       "      <th>4</th>\n",
       "      <td>5.0</td>\n",
       "      <td>3.6</td>\n",
       "      <td>1.4</td>\n",
       "      <td>0.2</td>\n",
       "      <td>Iris-setosa</td>\n",
       "    </tr>\n",
       "    <tr>\n",
       "      <th>...</th>\n",
       "      <td>...</td>\n",
       "      <td>...</td>\n",
       "      <td>...</td>\n",
       "      <td>...</td>\n",
       "      <td>...</td>\n",
       "    </tr>\n",
       "    <tr>\n",
       "      <th>145</th>\n",
       "      <td>6.7</td>\n",
       "      <td>3.0</td>\n",
       "      <td>5.2</td>\n",
       "      <td>2.3</td>\n",
       "      <td>Iris-virginica</td>\n",
       "    </tr>\n",
       "    <tr>\n",
       "      <th>146</th>\n",
       "      <td>6.3</td>\n",
       "      <td>2.5</td>\n",
       "      <td>5.0</td>\n",
       "      <td>1.9</td>\n",
       "      <td>Iris-virginica</td>\n",
       "    </tr>\n",
       "    <tr>\n",
       "      <th>147</th>\n",
       "      <td>6.5</td>\n",
       "      <td>3.0</td>\n",
       "      <td>5.2</td>\n",
       "      <td>2.0</td>\n",
       "      <td>Iris-virginica</td>\n",
       "    </tr>\n",
       "    <tr>\n",
       "      <th>148</th>\n",
       "      <td>6.2</td>\n",
       "      <td>3.4</td>\n",
       "      <td>5.4</td>\n",
       "      <td>2.3</td>\n",
       "      <td>Iris-virginica</td>\n",
       "    </tr>\n",
       "    <tr>\n",
       "      <th>149</th>\n",
       "      <td>5.9</td>\n",
       "      <td>3.0</td>\n",
       "      <td>5.1</td>\n",
       "      <td>1.8</td>\n",
       "      <td>Iris-virginica</td>\n",
       "    </tr>\n",
       "  </tbody>\n",
       "</table>\n",
       "<p>150 rows × 5 columns</p>\n",
       "</div>"
      ],
      "text/plain": [
       "     sepal_length  sepal_width  petal_length  petal_width         species\n",
       "0             5.1          3.5           1.4          0.2     Iris-setosa\n",
       "1             4.9          3.0           1.4          0.2     Iris-setosa\n",
       "2             4.7          3.2           1.3          0.2     Iris-setosa\n",
       "3             4.6          3.1           1.5          0.2     Iris-setosa\n",
       "4             5.0          3.6           1.4          0.2     Iris-setosa\n",
       "..            ...          ...           ...          ...             ...\n",
       "145           6.7          3.0           5.2          2.3  Iris-virginica\n",
       "146           6.3          2.5           5.0          1.9  Iris-virginica\n",
       "147           6.5          3.0           5.2          2.0  Iris-virginica\n",
       "148           6.2          3.4           5.4          2.3  Iris-virginica\n",
       "149           5.9          3.0           5.1          1.8  Iris-virginica\n",
       "\n",
       "[150 rows x 5 columns]"
      ]
     },
     "execution_count": 1,
     "metadata": {},
     "output_type": "execute_result"
    }
   ],
   "source": [
    "import pandas as pd\n",
    "from sklearn import preprocessing\n",
    "import matplotlib.pyplot as plt\n",
    "import numpy as np\n",
    "\n",
    "url = \"https://archive.ics.uci.edu/ml/machine-learning-databases/iris/iris.data\"\n",
    "names = ['sepal_length', 'sepal_width', 'petal_length', 'petal_width', 'species']\n",
    "iris = pd.read_csv(url, names=names)\n",
    "iris"
   ]
  },
  {
   "cell_type": "markdown",
   "metadata": {
    "colab_type": "text",
    "id": "k3GfKDfmTgAg"
   },
   "source": [
    "In order to make this a binary classification problem we will drop 'Iris-virginica' instances.\n"
   ]
  },
  {
   "cell_type": "code",
   "execution_count": 2,
   "metadata": {
    "colab": {
     "base_uri": "https://localhost:8080/",
     "height": 281
    },
    "colab_type": "code",
    "executionInfo": {
     "elapsed": 1844,
     "status": "ok",
     "timestamp": 1583567814780,
     "user": {
      "displayName": "Tevfik Aytekin",
      "photoUrl": "",
      "userId": "03705756795675396046"
     },
     "user_tz": -180
    },
    "id": "tqeEHyu6TgAj",
    "outputId": "9950a9d4-ab3c-4f64-f5ba-5bead8189574"
   },
   "outputs": [
    {
     "data": {
      "image/png": "[encoded data removed]",
      "text/plain": [
       "<Figure size 360x288 with 1 Axes>"
      ]
     },
     "metadata": {
      "needs_background": "light"
     },
     "output_type": "display_data"
    }
   ],
   "source": [
    "iris.drop(iris[iris.species =='Iris-virginica'].index, inplace=True)\n",
    "\n",
    "le = preprocessing.LabelEncoder()\n",
    "le.fit(['Iris-setosa', 'Iris-versicolor'])\n",
    "colors = le.transform(iris.species.values)\n",
    "\n",
    "x=0;y=1;\n",
    "# change x and y values to see scatter plots of different features\n",
    "\n",
    "plt.figure(figsize=(5, 4))\n",
    "plt.scatter(iris.iloc[:, x], iris.iloc[:, y],c=colors)\n",
    "#plt.colorbar(ticks=[0, 1, 2])\n",
    "plt.xlabel(names[x]);\n",
    "plt.ylabel(names[y]);\n",
    "\n",
    "\n",
    " \n"
   ]
  },
  {
   "cell_type": "markdown",
   "metadata": {},
   "source": [
    "The aim of classification is to find a decision boundary which will seperate the two classes of flowers."
   ]
  },
  {
   "cell_type": "markdown",
   "metadata": {},
   "source": [
    "### Intiution behind logistic regression\n",
    "\n",
    "Many textbooks gives a probabilistic interpretation of logistic regression cost function, however if you are not experienced in probabilistic thinking it could be difficult to understand what is going on. So, here I would like use a more intuitive approach. Remember, our aim is to predict the class label of an instance given its features and we are using a linear model (that is a model which assumes a linear relationship between the features and class labels) of the following form:\n",
    "\n",
    "$$\n",
    "w_0+w_1*sepal\\_width+w_2*sepal\\_length\n",
    "$$\n",
    "\n",
    "Any assignment of values to the weights $w_i$ defines a linear line. We can illustrate this as follows:"
   ]
  },
  {
   "cell_type": "markdown",
   "metadata": {},
   "source": [
    "### Decision Boundary Plotting Function"
   ]
  },
  {
   "cell_type": "code",
   "execution_count": 3,
   "metadata": {},
   "outputs": [],
   "source": [
    "# if weight vector w is None then uses the clf for prediction\n",
    "def plot_decision_boundary(clf, X, y, w = None):\n",
    "    plot_step = 0.02\n",
    "    plot_colors = \"rgb\"\n",
    "    plt.scatter(X[y == 0][:, 0], X[y == 0][:, 1], color='b', label='0')\n",
    "    plt.scatter(X[y == 1][:, 0], X[y == 1][:, 1], color='r', label='1')\n",
    "    x_min, x_max = X[:, 0].min(), X[:, 0].max()\n",
    "    y_min, y_max = X[:, 1].min(), X[:, 1].max()\n",
    "    xx, yy = np.meshgrid(np.arange(x_min, x_max, plot_step),\n",
    "                         np.arange(y_min, y_max, plot_step))\n",
    "    if w is None:\n",
    "        Z = clf.predict_proba(np.c_[xx.ravel(), yy.ravel()])[:,0]\n",
    "        print(\"Using clf ...\")\n",
    "    else:\n",
    "        Z = np.dot(np.c_[np.ones(xx.ravel().size),xx.ravel(), yy.ravel()],w)\n",
    "        print(\"Using w ...\")\n",
    "\n",
    "    Z = Z.reshape(xx.shape)\n",
    "     \n",
    "    plt.contour(xx, yy, Z, [0.5], linewidths=1, colors='black');"
   ]
  },
  {
   "cell_type": "code",
   "execution_count": 4,
   "metadata": {},
   "outputs": [
    {
     "name": "stdout",
     "output_type": "stream",
     "text": [
      "Using w ...\n",
      "Using w ...\n"
     ]
    },
    {
     "data": {
      "image/png": "[encoded data removed]",
      "text/plain": [
       "<Figure size 432x288 with 1 Axes>"
      ]
     },
     "metadata": {
      "needs_background": "light"
     },
     "output_type": "display_data"
    }
   ],
   "source": [
    "clf = 1\n",
    "X = np.array([[1.25,2.5],[1.5,3.3],[1.75,3.5],[1.5,1.5],[2,2],[1.8,1]])\n",
    "y =np.array([0,0,0,1,1,1])\n",
    "\n",
    "w =  np.array([0.8,-2,1]).reshape(3,1)\n",
    "plot_decision_boundary(clf, X, y,w)\n",
    "w =  np.array([1.3,-2,1.01]).reshape(3,1)\n",
    "plot_decision_boundary(clf, X, y,w)\n"
   ]
  },
  {
   "cell_type": "markdown",
   "metadata": {},
   "source": [
    "The above graph shows two example lines and the critical question is this: what is the best line to use to seperate these two classes of points. \n",
    "\n",
    "Let us start with a simple idea. One possibility is to use a step function and use mean squared error in the cost function as follows:\n",
    "\n",
    "$$\n",
    "h_w(x) = step(w_0+w_1*sepal\\_width+w_2*sepal\\_length)\n",
    "$$\n",
    "\n",
    "where\n",
    "$$\n",
    "step(x) = 0 \\: if \\: x < 0 \\: and \\: 1 \\: if\\:  x \\geq 0\n",
    "$$\n",
    "\n",
    "As an example, if we assume that the parameter values are: 10, 4, and -5 then we get the following hypothesis:\n",
    "\n",
    "$$\n",
    "h_w(x) = step(10+4*sepal\\_width-5*sepal\\_length)\n",
    "$$\n",
    "\n",
    "In this case, an instance whose $sepal\\_width=2.8 \\:and \\:sepal\\_length=6.1$ will be classified as follows:\n",
    "\n",
    "$$\n",
    "h_w(x) = step(10+4*2.8-5*6.1) = step(-9.3) = 0\n",
    "$$\n",
    "\n",
    "Once you decide on the model, the next step is to write the cost function and solve it. Similar to linear regression we can use a cost function as follows:\n",
    "\n",
    "$$\n",
    "J(w)=\\sum_{i=1}^m(y^{(i)}-h_{w}(x^{(i)}))^2\n",
    "$$\n",
    "\n",
    "There are certain problems with the classification model we discussed up to now:\n",
    "\n",
    "- There is no unique solution, i.e., there can be multiple $h_w(x)$ which have exactly the same cost.\n",
    "- The cost function is not easy to differentiate so it is not easy to find the maximal/minimal value of the function.\n",
    "- The value of the cost function is the same for all positive and negative examples which is not realistic. In particular, for the above example, the two lines have the same cost, however, intiutively, one of them (which is closer to the center of the points), is better than the other.\n",
    "\n",
    "To solve the differentiation problem we can use the convinient logistic (or sigmoid) function. Below is the formula for the logistic function and how it looks like:\n",
    "$$\\sigma(x) = \\frac{1}{1+e^{-x}}$$\n"
   ]
  },
  {
   "cell_type": "code",
   "execution_count": 66,
   "metadata": {
    "colab": {
     "base_uri": "https://localhost:8080/",
     "height": 308
    },
    "colab_type": "code",
    "executionInfo": {
     "elapsed": 1986,
     "status": "ok",
     "timestamp": 1583567815637,
     "user": {
      "displayName": "Tevfik Aytekin",
      "photoUrl": "",
      "userId": "03705756795675396046"
     },
     "user_tz": -180
    },
    "id": "ljZw4OJRTgAq",
    "outputId": "aef447db-3434-401c-d60a-5d8582f030d9"
   },
   "outputs": [
    {
     "data": {
      "image/png": "[encoded data removed]",
      "text/plain": [
       "<Figure size 432x288 with 1 Axes>"
      ]
     },
     "metadata": {
      "needs_background": "light"
     },
     "output_type": "display_data"
    }
   ],
   "source": [
    "x = np.arange(-6, 6, 0.1)\n",
    "s = 1 / (1 + np.exp(-x))\n",
    "plt.plot(x, s)\n",
    "plt.xlabel('x')\n",
    "plt.ylabel('s(x)')\n",
    "plt.suptitle(\"Logistic/Sigmoid function\")\n",
    "plt.show()"
   ]
  },
  {
   "cell_type": "markdown",
   "metadata": {
    "colab_type": "text",
    "id": "NKgxtoUtTgAv"
   },
   "source": [
    "### Logistic Regression from Scratch\n",
    "\n",
    "Now, instead of the step function we will use the logictic function to make our hypothesis:\n",
    "$$\n",
    "h_w(x) = \\sigma(w_0+w_1*sepal\\_width+w_2*sepal\\_length)\n",
    "$$\n",
    "\n",
    "There could be different cost functions that we can write, the one which has probabilistic assumptions is this:\n",
    "\n",
    "$$\n",
    "J(w) = (h_w(x))^y(1 - h_w(x))^{(1-y)}\n",
    "$$\n",
    "\n",
    "But we can understand it without using probability. When $y==1$ the right hand side has no effect and we have a larger value of $J(w)$ as $h_w(x)$ gets larger. Note the shape of the logistic curve, it first increases rapidly by then the increase slows down. So, when $y==1$ the cost function will increase as $h_w(x)$ gets closer to 1. Similarly, when $y==0$ the cost function will increase as $h_w(x)$ gets closer to 0. Hence, maximizing the cost function will give us what we want. Note that this cost function solves all the three problems mentioned above for the step function. Also note that it is also possible to use other cost functions such as mean sqaured error. \n",
    "\n",
    "The total cost of the dataset can be written as:\n",
    "\n",
    "$$\n",
    "J(W) = \\prod_{i=1}^n(h_w(x^{(i)}))^{y^{(i)}}(1-h_w(x^{(i)}))^{1-y^{(i)}}\n",
    "$$\n",
    "\n",
    "Since it is easier to minimize/maximize the log of this formula we will try to maximize the following formula (This particular cost function, sometimes also called a loss function when applied to a single training example, is known as Cross Entropy Loss or Log Loss.).\n",
    "\n",
    "$$\n",
    "logJ(W) = \\frac{1}{m}\\sum_{i=1}^{m}y^{(i)}\\log(h(x^{(i)}))+(1-y^{(i)})\\log(1-h(x^{(i)}))\n",
    "$$\n",
    "\n",
    "Let us find the derivative of the cost function for a single training example $(x, y)$.\n",
    "\n",
    "$$\n",
    "\\frac{\\partial logJ(W)}{\\partial w_j} = \\left(y\\frac{1}{h(x)}-(1-y)\\frac{1}{1-h(x)}\\right)\\frac{\\partial h(x)}{\\partial w_j}\n",
    "$$\n",
    "\n",
    "$$=\\left(y\\frac{1}{h(x)}-(1-y)\\frac{1}{1-h(x)}\\right)h(x)(1-h(x))\\frac{\\partial w^T x}{\\partial w_j}\n",
    "$$\n",
    "\n",
    "$$\n",
    "= (y(1-h(x))-(1-y)(h(x))x_j\n",
    "$$\n",
    "\n",
    "$$=(y-h(x))x_j\n",
    "$$\n",
    "\n",
    "for $m$ examples the derivative is\n",
    "\n",
    "$$\n",
    "= \\frac{1}{m}\\sum_{i=1}^{m}(y^{(i)}-h(x^{(i)}))x^{(i)}_j\n",
    "$$ \n",
    "\n",
    "which can also be written in matrix notation as\n",
    "\n",
    "$$\n",
    "\\frac{\\partial J}{\\partial w} = \\frac{1}{m}X^T(y-A)\n",
    "$$ \n",
    "\n",
    "where\n",
    "\n",
    "X: is a  m (# examples) by n (# of features) data matrix.\n",
    "\n",
    "A: is $\\sigma(Xw)$ where $w$ is a n by 1 weight vector.\n",
    "\n",
    "y: is a m by 1 vector of actual values.\n",
    "\n",
    "If you do a similar derivation, then\n",
    "\n",
    "$$\n",
    "\\frac{\\partial J}{\\partial b} = \\frac{1}{m}(y - A)\n",
    "$$"
   ]
  },
  {
   "cell_type": "code",
   "execution_count": 67,
   "metadata": {
    "colab": {},
    "colab_type": "code",
    "id": "STlZ1BTlTgAy"
   },
   "outputs": [],
   "source": [
    "def sigmoid(x):\n",
    "    s = 1 / (1 + np.exp(-x))    \n",
    "    return s"
   ]
  },
  {
   "cell_type": "code",
   "execution_count": 68,
   "metadata": {},
   "outputs": [],
   "source": [
    "def cost(X,y,w,b):\n",
    "    A = sigmoid(np.dot(X,w) + b) \n",
    "    return (1 / m) * np.sum(y * np.log(A) + (1 - y) * (np.log(1 - A)))"
   ]
  },
  {
   "cell_type": "markdown",
   "metadata": {
    "colab_type": "text",
    "id": "fIJ10EDPTgBP"
   },
   "source": [
    "### Logistic regression Version I\n",
    "using sklearn"
   ]
  },
  {
   "cell_type": "code",
   "execution_count": 69,
   "metadata": {
    "colab": {
     "base_uri": "https://localhost:8080/",
     "height": 333
    },
    "colab_type": "code",
    "executionInfo": {
     "elapsed": 955,
     "status": "ok",
     "timestamp": 1583567846089,
     "user": {
      "displayName": "Tevfik Aytekin",
      "photoUrl": "",
      "userId": "03705756795675396046"
     },
     "user_tz": -180
    },
    "id": "Lm6_DE_HTgBQ",
    "outputId": "496b29d8-33df-4b99-b826-d1f806d9c1f3",
    "scrolled": true
   },
   "outputs": [
    {
     "name": "stdout",
     "output_type": "stream",
     "text": [
      "Using clf ...\n",
      "[[ 3.09621805 -3.01680617]]\n",
      "[-7.42914365]\n"
     ]
    },
    {
     "data": {
      "image/png": "[encoded data removed]",
      "text/plain": [
       "<Figure size 432x288 with 1 Axes>"
      ]
     },
     "metadata": {
      "needs_background": "light"
     },
     "output_type": "display_data"
    }
   ],
   "source": [
    "from sklearn.linear_model import LogisticRegression\n",
    "le = preprocessing.LabelEncoder()\n",
    "le.fit(['Iris-setosa', 'Iris-versicolor'])\n",
    "y = le.transform(iris.species.values)\n",
    "y.reshape(y.size, 1)\n",
    "X = iris.iloc[:,0:2].values\n",
    "\n",
    "\n",
    "clf = LogisticRegression().fit(X,y)\n",
    "plot_decision_boundary(clf, X, y, None)\n",
    "plt.title(\"Logistic Regression\")\n",
    "\n",
    "print(clf.coef_)\n",
    "print(clf.intercept_)"
   ]
  },
  {
   "cell_type": "markdown",
   "metadata": {
    "colab_type": "text",
    "id": "0YlHvt98-H_v"
   },
   "source": [
    "### Logistic Regression Version II\n",
    "Stochastic Gradient Descent"
   ]
  },
  {
   "cell_type": "code",
   "execution_count": 70,
   "metadata": {
    "colab": {
     "base_uri": "https://localhost:8080/",
     "height": 242
    },
    "colab_type": "code",
    "executionInfo": {
     "elapsed": 5672,
     "status": "ok",
     "timestamp": 1583569969739,
     "user": {
      "displayName": "Tevfik Aytekin",
      "photoUrl": "",
      "userId": "03705756795675396046"
     },
     "user_tz": -180
    },
    "id": "TJ3n3V6t-dht",
    "outputId": "4c51dbe2-4b3a-4548-9357-bb2fd7600b8a"
   },
   "outputs": [
    {
     "name": "stdout",
     "output_type": "stream",
     "text": [
      "-1.9471106952520405\n",
      "-0.20021399034001977\n",
      "-0.13377907570924374\n",
      "-0.10750337083772467\n",
      "-0.09332393592950623\n",
      "-0.08427503919887937\n",
      "-0.07795720334646701\n",
      "-0.07324267573496145\n",
      "-0.069611413802979\n",
      "-0.0666586909237464\n"
     ]
    }
   ],
   "source": [
    "import copy\n",
    "from sklearn.utils import shuffle\n",
    "le = preprocessing.LabelEncoder()\n",
    "le.fit(['Iris-setosa', 'Iris-versicolor'])\n",
    "y = le.transform(iris.species.values)\n",
    "y = y.reshape(y.size, 1)\n",
    "X = iris.iloc[:,0:2].values\n",
    "\n",
    "n_features = 2\n",
    "learning_rate = 0.003\n",
    "n_iter=1000\n",
    "m = X.shape[0]\n",
    "w = np.random.rand(n_features,1)\n",
    "b = np.random.rand()\n",
    "for iter in range(n_iter):\n",
    "    X,y = shuffle(X,y)\n",
    "    if(iter % 100 == 0):\n",
    "        print(cost(X,y,w,b))\n",
    "    \n",
    "    for i in range(m):\n",
    "        w_back = copy.deepcopy(w)       \n",
    "        for j in range(n_features): \n",
    "            dw=(y[i] - sigmoid(np.dot(X[i].reshape([1,2]),w_back) + b))*X[i,j]\n",
    "            w[j] = w_back[j] + learning_rate * dw;\n",
    "        db=(y[i] - sigmoid(np.dot(X[i].reshape([1,2]),w_back) + b))\n",
    "        b = b + learning_rate * db;\n",
    "    \n",
    "    "
   ]
  },
  {
   "cell_type": "code",
   "execution_count": 71,
   "metadata": {},
   "outputs": [
    {
     "name": "stdout",
     "output_type": "stream",
     "text": [
      "Using w ...\n",
      "[[-1.38768778]\n",
      " [ 4.39600961]\n",
      " [-7.24127771]]\n"
     ]
    },
    {
     "data": {
      "image/png": "[encoded data removed]",
      "text/plain": [
       "<Figure size 432x288 with 1 Axes>"
      ]
     },
     "metadata": {
      "needs_background": "light"
     },
     "output_type": "display_data"
    }
   ],
   "source": [
    "plot_decision_boundary(clf, X, y.ravel(), np.vstack((b,w)))\n",
    "plt.title(\"Logistic Regression\")\n",
    "print(np.vstack((b,w)))"
   ]
  },
  {
   "cell_type": "markdown",
   "metadata": {},
   "source": [
    "### Logistic Regression Version III\n",
    "Batch Gradient Descent"
   ]
  },
  {
   "cell_type": "code",
   "execution_count": 72,
   "metadata": {
    "colab": {
     "base_uri": "https://localhost:8080/",
     "height": 242
    },
    "colab_type": "code",
    "executionInfo": {
     "elapsed": 4493,
     "status": "ok",
     "timestamp": 1583511783735,
     "user": {
      "displayName": "Tevfik Aytekin",
      "photoUrl": "",
      "userId": "03705756795675396046"
     },
     "user_tz": -180
    },
    "id": "z8XpIl63TgBs",
    "outputId": "0ecf1aa2-794c-4ec5-af40-ebc19838b6f7"
   },
   "outputs": [
    {
     "name": "stdout",
     "output_type": "stream",
     "text": [
      "-2.598020787679027\n",
      "-0.3297027440132173\n",
      "-0.23640896190093894\n",
      "-0.1903836132405078\n",
      "-0.1628350730122373\n",
      "-0.14438839826343106\n",
      "-0.13110667101807683\n",
      "-0.12104728625158062\n",
      "-0.11313935573775386\n",
      "-0.10674285304157759\n"
     ]
    }
   ],
   "source": [
    "import copy\n",
    "le = preprocessing.LabelEncoder()\n",
    "le.fit(['Iris-setosa', 'Iris-versicolor'])\n",
    "y = le.transform(iris.species.values)\n",
    "y = y.reshape(y.size, 1)\n",
    "X = iris.iloc[:,0:2].values\n",
    "\n",
    "n_features = 2\n",
    "learning_rate = 0.1\n",
    "n_iter=1000\n",
    "m = X.shape[0]\n",
    "w = np.random.rand(n_features,1)\n",
    "b = np.random.rand()\n",
    "\n",
    "for iter in range(n_iter):\n",
    "    if(iter % 100 == 0):\n",
    "        print(cost(X,y,w,b))\n",
    "    w_back = copy.deepcopy(w)\n",
    "    for j in range(n_features): \n",
    "        dw = 0;\n",
    "        db = 0;\n",
    "        for i in range(m):\n",
    "            dw=dw+(y[i] - sigmoid(np.dot(X[i].reshape([1,2]),w_back) + b))*X[i,j]\n",
    "        w[j] = w_back[j] + learning_rate * dw/m;\n",
    "        \n",
    "    for i in range(m):\n",
    "        db=db+(y[i] - sigmoid(np.dot(X[i].reshape([1,2]),w_back) + b))\n",
    "    b = b + learning_rate * db/m;\n",
    "    \n"
   ]
  },
  {
   "cell_type": "code",
   "execution_count": 73,
   "metadata": {},
   "outputs": [
    {
     "name": "stdout",
     "output_type": "stream",
     "text": [
      "Using w ...\n",
      "[[-0.41200267]\n",
      " [ 3.03390642]\n",
      " [-5.18278232]]\n"
     ]
    },
    {
     "data": {
      "image/png": "[encoded data removed]",
      "text/plain": [
       "<Figure size 432x288 with 1 Axes>"
      ]
     },
     "metadata": {
      "needs_background": "light"
     },
     "output_type": "display_data"
    }
   ],
   "source": [
    "plot_decision_boundary(clf, X, y.ravel(), np.vstack((b,w)))\n",
    "plt.title(\"Logistic Regression\")\n",
    "print(np.vstack((b,w)))"
   ]
  },
  {
   "cell_type": "markdown",
   "metadata": {},
   "source": [
    "### Logistic Regression Version IV\n",
    "Vectorized implementation"
   ]
  },
  {
   "cell_type": "code",
   "execution_count": 74,
   "metadata": {},
   "outputs": [
    {
     "name": "stdout",
     "output_type": "stream",
     "text": [
      "-1.6179978789929903\n",
      "-0.3897054273306064\n",
      "-0.260292661944322\n",
      "-0.2028742886135631\n",
      "-0.1703886988830666\n",
      "-0.14936629728776724\n",
      "-0.13457068958235033\n",
      "-0.12354502150091634\n",
      "-0.11498200997424325\n",
      "-0.10812055555716323\n"
     ]
    }
   ],
   "source": [
    "from sklearn.linear_model import LogisticRegression\n",
    "le = preprocessing.LabelEncoder()\n",
    "le.fit(['Iris-setosa', 'Iris-versicolor'])\n",
    "y = le.transform(iris.species.values)\n",
    "y = y.reshape(y.size, 1)\n",
    "X = iris.iloc[:,0:2].values\n",
    "\n",
    "n_features = 2\n",
    "learning_rate = 0.1\n",
    "n_iter = 1000\n",
    "m = X.shape[0]\n",
    "w = np.random.rand(n_features).reshape(n_features,1)\n",
    "b = np.random.rand()\n",
    "for i in range(n_iter):\n",
    "    if(i % 100 == 0):\n",
    "        print(cost(X,y,w,b))\n",
    "    A = sigmoid(np.dot(X,w) + b)  \n",
    "    dw = (1 / m) * np.dot(X.T,y-A) \n",
    "    db = (1 / m) * np.sum(y - A)\n",
    "    \n",
    "    w = w + learning_rate * dw  # need to broadcast\n",
    "    b = b + learning_rate * db\n"
   ]
  },
  {
   "cell_type": "code",
   "execution_count": 75,
   "metadata": {},
   "outputs": [
    {
     "name": "stdout",
     "output_type": "stream",
     "text": [
      "Using w ...\n",
      "[[-0.63552727]\n",
      " [ 3.01810266]\n",
      " [-5.08239418]]\n"
     ]
    },
    {
     "data": {
      "image/png": "[encoded data removed]",
      "text/plain": [
       "<Figure size 432x288 with 1 Axes>"
      ]
     },
     "metadata": {
      "needs_background": "light"
     },
     "output_type": "display_data"
    }
   ],
   "source": [
    "plot_decision_boundary(clf, X, y.ravel(), np.vstack((b,w)))\n",
    "plt.title(\"Logistic Regression\")\n",
    "print(np.vstack((b,w)))"
   ]
  },
  {
   "cell_type": "code",
   "execution_count": null,
   "metadata": {},
   "outputs": [],
   "source": []
  },
  {
   "cell_type": "code",
   "execution_count": null,
   "metadata": {},
   "outputs": [],
   "source": []
  }
 ],
 "metadata": {
  "colab": {
   "collapsed_sections": [],
   "name": "logistic_regression.ipynb",
   "provenance": []
  },
  "kernelspec": {
   "display_name": "Python 3",
   "language": "python",
   "name": "python3"
  },
  "language_info": {
   "codemirror_mode": {
    "name": "ipython",
    "version": 3
   },
   "file_extension": ".py",
   "mimetype": "text/x-python",
   "name": "python",
   "nbconvert_exporter": "python",
   "pygments_lexer": "ipython3",
   "version": "3.7.7"
  }
 },
 "nbformat": 4,
 "nbformat_minor": 1
}
