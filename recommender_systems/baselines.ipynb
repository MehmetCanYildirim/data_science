{
 "cells": [
  {
   "cell_type": "markdown",
   "id": "68de13f3",
   "metadata": {},
   "source": [
    "# Baseline Recommender Algorithms\n",
    "\n",
    "Following are simple methods which can be used as baselines for comparing recommation techniques. Recommendation techniques in general should perform better (indeed much better) then these baseline techniques"
   ]
  },
  {
   "cell_type": "code",
   "execution_count": null,
   "id": "43dfe958",
   "metadata": {},
   "outputs": [],
   "source": [
    "import numpy as np\n",
    "import pandas as pd\n",
    "from sklearn.model_selection import train_test_split\n",
    "from sklearn.utils import shuffle\n",
    "from scipy.sparse import csr_matrix\n",
    "import copy"
   ]
  },
  {
   "cell_type": "markdown",
   "id": "b25e5a5b",
   "metadata": {},
   "source": [
    "### Movielens ml-latest-small dataset"
   ]
  },
  {
   "cell_type": "code",
   "execution_count": 7,
   "id": "c97c59f2",
   "metadata": {},
   "outputs": [
    {
     "data": {
      "text/html": [
       "<div>\n",
       "<style scoped>\n",
       "    .dataframe tbody tr th:only-of-type {\n",
       "        vertical-align: middle;\n",
       "    }\n",
       "\n",
       "    .dataframe tbody tr th {\n",
       "        vertical-align: top;\n",
       "    }\n",
       "\n",
       "    .dataframe thead th {\n",
       "        text-align: right;\n",
       "    }\n",
       "</style>\n",
       "<table border=\"1\" class=\"dataframe\">\n",
       "  <thead>\n",
       "    <tr style=\"text-align: right;\">\n",
       "      <th></th>\n",
       "      <th>userId</th>\n",
       "      <th>movieId</th>\n",
       "      <th>rating</th>\n",
       "      <th>timestamp</th>\n",
       "    </tr>\n",
       "  </thead>\n",
       "  <tbody>\n",
       "    <tr>\n",
       "      <th>0</th>\n",
       "      <td>1</td>\n",
       "      <td>1</td>\n",
       "      <td>4.0</td>\n",
       "      <td>964982703</td>\n",
       "    </tr>\n",
       "    <tr>\n",
       "      <th>1</th>\n",
       "      <td>1</td>\n",
       "      <td>3</td>\n",
       "      <td>4.0</td>\n",
       "      <td>964981247</td>\n",
       "    </tr>\n",
       "    <tr>\n",
       "      <th>2</th>\n",
       "      <td>1</td>\n",
       "      <td>6</td>\n",
       "      <td>4.0</td>\n",
       "      <td>964982224</td>\n",
       "    </tr>\n",
       "    <tr>\n",
       "      <th>3</th>\n",
       "      <td>1</td>\n",
       "      <td>47</td>\n",
       "      <td>5.0</td>\n",
       "      <td>964983815</td>\n",
       "    </tr>\n",
       "    <tr>\n",
       "      <th>4</th>\n",
       "      <td>1</td>\n",
       "      <td>50</td>\n",
       "      <td>5.0</td>\n",
       "      <td>964982931</td>\n",
       "    </tr>\n",
       "    <tr>\n",
       "      <th>5</th>\n",
       "      <td>1</td>\n",
       "      <td>70</td>\n",
       "      <td>3.0</td>\n",
       "      <td>964982400</td>\n",
       "    </tr>\n",
       "    <tr>\n",
       "      <th>6</th>\n",
       "      <td>1</td>\n",
       "      <td>101</td>\n",
       "      <td>5.0</td>\n",
       "      <td>964980868</td>\n",
       "    </tr>\n",
       "    <tr>\n",
       "      <th>7</th>\n",
       "      <td>1</td>\n",
       "      <td>110</td>\n",
       "      <td>4.0</td>\n",
       "      <td>964982176</td>\n",
       "    </tr>\n",
       "    <tr>\n",
       "      <th>8</th>\n",
       "      <td>1</td>\n",
       "      <td>151</td>\n",
       "      <td>5.0</td>\n",
       "      <td>964984041</td>\n",
       "    </tr>\n",
       "    <tr>\n",
       "      <th>9</th>\n",
       "      <td>1</td>\n",
       "      <td>157</td>\n",
       "      <td>5.0</td>\n",
       "      <td>964984100</td>\n",
       "    </tr>\n",
       "  </tbody>\n",
       "</table>\n",
       "</div>"
      ],
      "text/plain": [
       "   userId  movieId  rating  timestamp\n",
       "0       1        1     4.0  964982703\n",
       "1       1        3     4.0  964981247\n",
       "2       1        6     4.0  964982224\n",
       "3       1       47     5.0  964983815\n",
       "4       1       50     5.0  964982931\n",
       "5       1       70     3.0  964982400\n",
       "6       1      101     5.0  964980868\n",
       "7       1      110     4.0  964982176\n",
       "8       1      151     5.0  964984041\n",
       "9       1      157     5.0  964984100"
      ]
     },
     "execution_count": 7,
     "metadata": {},
     "output_type": "execute_result"
    }
   ],
   "source": [
    "ratings = pd.read_csv(\"../../datasets/ml-latest-small/ratings.csv\", sep=\",\")\n",
    "ratings.head(10)"
   ]
  },
  {
   "cell_type": "code",
   "execution_count": 9,
   "id": "20e74b7c",
   "metadata": {},
   "outputs": [
    {
     "name": "stdout",
     "output_type": "stream",
     "text": [
      "Number of users: 610\n",
      "Number of items: 9724\n",
      "Number of ratings: 100836\n",
      "Sparsity: 0.016999683055613623\n"
     ]
    }
   ],
   "source": [
    "n_users = ratings.iloc[:,0].unique().size\n",
    "n_items = ratings.iloc[:,1].unique().size\n",
    "n_ratings = ratings.iloc[:,1].size\n",
    "users = ratings.iloc[:,0].unique()\n",
    "items = ratings.iloc[:,1].unique()\n",
    "\n",
    "print(\"Number of users:\",n_users)\n",
    "print(\"Number of items:\",n_items)\n",
    "print(\"Number of ratings:\",n_ratings)\n",
    "print(\"Sparsity:\",n_ratings/(n_users*n_items))"
   ]
  },
  {
   "cell_type": "markdown",
   "id": "e7ad45c1",
   "metadata": {},
   "source": [
    "# Rating Prediction"
   ]
  },
  {
   "cell_type": "markdown",
   "id": "be569d47",
   "metadata": {},
   "source": [
    "### Random Prediction\n",
    "\n",
    "Randomly makes a rating prediction in the range 1 to 5."
   ]
  },
  {
   "cell_type": "code",
   "execution_count": 10,
   "id": "e0068c83",
   "metadata": {},
   "outputs": [
    {
     "name": "stdout",
     "output_type": "stream",
     "text": [
      "1.4867309294299655\n"
     ]
    }
   ],
   "source": [
    "error = 0\n",
    "for i in range(n_ratings): \n",
    "    error += np.abs(ratings.iloc[i,2] - np.random.randint(1,6))\n",
    "print(error/n_ratings)"
   ]
  },
  {
   "cell_type": "markdown",
   "id": "c64c0e13",
   "metadata": {},
   "source": [
    "### Average Prediction\n",
    "\n",
    "Always makes the same prediction which is the average rating of all users. This can be improved as follows: For a given $(u,i)$ pair, make the prediction as the average rating of user $u$ or the average rating of item $i$."
   ]
  },
  {
   "cell_type": "code",
   "execution_count": 11,
   "id": "fc40a971",
   "metadata": {},
   "outputs": [
    {
     "name": "stdout",
     "output_type": "stream",
     "text": [
      "Avg. rating: 3.5008870327926656\n",
      "0.8225716219300959\n"
     ]
    }
   ],
   "source": [
    "X_train, X_test = train_test_split(ratings, test_size=0.1)\n",
    "train_size = X_train.shape[0]\n",
    "test_size = X_test.shape[0]\n",
    "\n",
    "avg_rating = X_train.iloc[:,2].mean()\n",
    "print(\"Avg. rating:\",avg_rating)\n",
    "error = 0\n",
    "for i in range(test_size): \n",
    "    error += np.abs(X_test.iloc[i,2] - avg_rating)\n",
    "print(error/test_size)"
   ]
  },
  {
   "cell_type": "markdown",
   "id": "937b8f36",
   "metadata": {},
   "source": [
    "- "
   ]
  },
  {
   "cell_type": "code",
   "execution_count": null,
   "id": "1f220cf6",
   "metadata": {},
   "outputs": [],
   "source": []
  }
 ],
 "metadata": {
  "kernelspec": {
   "display_name": "Python 3",
   "language": "python",
   "name": "python3"
  },
  "language_info": {
   "codemirror_mode": {
    "name": "ipython",
    "version": 3
   },
   "file_extension": ".py",
   "mimetype": "text/x-python",
   "name": "python",
   "nbconvert_exporter": "python",
   "pygments_lexer": "ipython3",
   "version": "3.7.7"
  }
 },
 "nbformat": 4,
 "nbformat_minor": 5
}
