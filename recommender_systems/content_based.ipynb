{
 "cells": [
  {
   "cell_type": "markdown",
   "id": "4feb50c7",
   "metadata": {},
   "source": [
    "# Content-based Recommendation\n",
    "\n",
    "Content-based recommender algorithms use the content of the items for making a recommendation. For example, for movie recommendation movie contents such as plot summary, director, casting, jenres, release date, etc. and user content such as previously watched movies, gender, age, etc. can be used to find out which movies can be recommended to the users.\n",
    "(by Tevfik Aytekin)"
   ]
  },
  {
   "cell_type": "code",
   "execution_count": null,
   "id": "510f6742",
   "metadata": {},
   "outputs": [],
   "source": [
    "import numpy as np\n",
    "import pandas as pd\n",
    "from sklearn.model_selection import train_test_split\n",
    "from sklearn.utils import shuffle\n",
    "from scipy.sparse import csr_matrix\n",
    "from collections import Counter\n",
    "from sklearn.metrics import pairwise_distances\n",
    "import copy\n",
    "import heapq\n",
    "import sys, os\n",
    "import pickle\n"
   ]
  },
  {
   "cell_type": "markdown",
   "id": "c381eb7b",
   "metadata": {},
   "source": [
    "### Movielens ml-latest-small dataset"
   ]
  },
  {
   "cell_type": "code",
   "execution_count": null,
   "id": "36dd568b",
   "metadata": {},
   "outputs": [],
   "source": [
    "with open('../../datasets/ml-latest-small/README.txt', 'r') as f:\n",
    "    print(f.read())"
   ]
  },
  {
   "cell_type": "code",
   "execution_count": 2,
   "id": "2e28b48c",
   "metadata": {},
   "outputs": [
    {
     "name": "stdout",
     "output_type": "stream",
     "text": [
      "(100836, 4)\n"
     ]
    },
    {
     "data": {
      "text/html": [
       "<div>\n",
       "<style scoped>\n",
       "    .dataframe tbody tr th:only-of-type {\n",
       "        vertical-align: middle;\n",
       "    }\n",
       "\n",
       "    .dataframe tbody tr th {\n",
       "        vertical-align: top;\n",
       "    }\n",
       "\n",
       "    .dataframe thead th {\n",
       "        text-align: right;\n",
       "    }\n",
       "</style>\n",
       "<table border=\"1\" class=\"dataframe\">\n",
       "  <thead>\n",
       "    <tr style=\"text-align: right;\">\n",
       "      <th></th>\n",
       "      <th>userId</th>\n",
       "      <th>movieId</th>\n",
       "      <th>rating</th>\n",
       "      <th>timestamp</th>\n",
       "    </tr>\n",
       "  </thead>\n",
       "  <tbody>\n",
       "    <tr>\n",
       "      <th>0</th>\n",
       "      <td>1</td>\n",
       "      <td>1</td>\n",
       "      <td>4.0</td>\n",
       "      <td>964982703</td>\n",
       "    </tr>\n",
       "    <tr>\n",
       "      <th>1</th>\n",
       "      <td>1</td>\n",
       "      <td>3</td>\n",
       "      <td>4.0</td>\n",
       "      <td>964981247</td>\n",
       "    </tr>\n",
       "    <tr>\n",
       "      <th>2</th>\n",
       "      <td>1</td>\n",
       "      <td>6</td>\n",
       "      <td>4.0</td>\n",
       "      <td>964982224</td>\n",
       "    </tr>\n",
       "    <tr>\n",
       "      <th>3</th>\n",
       "      <td>1</td>\n",
       "      <td>47</td>\n",
       "      <td>5.0</td>\n",
       "      <td>964983815</td>\n",
       "    </tr>\n",
       "    <tr>\n",
       "      <th>4</th>\n",
       "      <td>1</td>\n",
       "      <td>50</td>\n",
       "      <td>5.0</td>\n",
       "      <td>964982931</td>\n",
       "    </tr>\n",
       "  </tbody>\n",
       "</table>\n",
       "</div>"
      ],
      "text/plain": [
       "   userId  movieId  rating  timestamp\n",
       "0       1        1     4.0  964982703\n",
       "1       1        3     4.0  964981247\n",
       "2       1        6     4.0  964982224\n",
       "3       1       47     5.0  964983815\n",
       "4       1       50     5.0  964982931"
      ]
     },
     "execution_count": 2,
     "metadata": {},
     "output_type": "execute_result"
    }
   ],
   "source": [
    "ratings = pd.read_csv(\"../../datasets/ml-latest-small/ratings.csv\", sep=\",\")\n",
    "print(ratings.shape)\n",
    "ratings.head()"
   ]
  },
  {
   "cell_type": "code",
   "execution_count": 3,
   "id": "f438a1e0",
   "metadata": {},
   "outputs": [
    {
     "name": "stdout",
     "output_type": "stream",
     "text": [
      "(9742, 3)\n"
     ]
    },
    {
     "data": {
      "text/html": [
       "<div>\n",
       "<style scoped>\n",
       "    .dataframe tbody tr th:only-of-type {\n",
       "        vertical-align: middle;\n",
       "    }\n",
       "\n",
       "    .dataframe tbody tr th {\n",
       "        vertical-align: top;\n",
       "    }\n",
       "\n",
       "    .dataframe thead th {\n",
       "        text-align: right;\n",
       "    }\n",
       "</style>\n",
       "<table border=\"1\" class=\"dataframe\">\n",
       "  <thead>\n",
       "    <tr style=\"text-align: right;\">\n",
       "      <th></th>\n",
       "      <th>movieId</th>\n",
       "      <th>imdbId</th>\n",
       "      <th>tmdbId</th>\n",
       "    </tr>\n",
       "  </thead>\n",
       "  <tbody>\n",
       "    <tr>\n",
       "      <th>0</th>\n",
       "      <td>1</td>\n",
       "      <td>114709</td>\n",
       "      <td>862.0</td>\n",
       "    </tr>\n",
       "    <tr>\n",
       "      <th>1</th>\n",
       "      <td>2</td>\n",
       "      <td>113497</td>\n",
       "      <td>8844.0</td>\n",
       "    </tr>\n",
       "    <tr>\n",
       "      <th>2</th>\n",
       "      <td>3</td>\n",
       "      <td>113228</td>\n",
       "      <td>15602.0</td>\n",
       "    </tr>\n",
       "    <tr>\n",
       "      <th>3</th>\n",
       "      <td>4</td>\n",
       "      <td>114885</td>\n",
       "      <td>31357.0</td>\n",
       "    </tr>\n",
       "    <tr>\n",
       "      <th>4</th>\n",
       "      <td>5</td>\n",
       "      <td>113041</td>\n",
       "      <td>11862.0</td>\n",
       "    </tr>\n",
       "  </tbody>\n",
       "</table>\n",
       "</div>"
      ],
      "text/plain": [
       "   movieId  imdbId   tmdbId\n",
       "0        1  114709    862.0\n",
       "1        2  113497   8844.0\n",
       "2        3  113228  15602.0\n",
       "3        4  114885  31357.0\n",
       "4        5  113041  11862.0"
      ]
     },
     "execution_count": 3,
     "metadata": {},
     "output_type": "execute_result"
    }
   ],
   "source": [
    "links = pd.read_csv(\"../../datasets/ml-latest-small/links.csv\", sep=\",\")\n",
    "print(links.shape)\n",
    "links.head()"
   ]
  },
  {
   "cell_type": "code",
   "execution_count": 4,
   "id": "afd90fe2",
   "metadata": {},
   "outputs": [
    {
     "name": "stdout",
     "output_type": "stream",
     "text": [
      "(9742, 3)\n"
     ]
    },
    {
     "data": {
      "text/html": [
       "<div>\n",
       "<style scoped>\n",
       "    .dataframe tbody tr th:only-of-type {\n",
       "        vertical-align: middle;\n",
       "    }\n",
       "\n",
       "    .dataframe tbody tr th {\n",
       "        vertical-align: top;\n",
       "    }\n",
       "\n",
       "    .dataframe thead th {\n",
       "        text-align: right;\n",
       "    }\n",
       "</style>\n",
       "<table border=\"1\" class=\"dataframe\">\n",
       "  <thead>\n",
       "    <tr style=\"text-align: right;\">\n",
       "      <th></th>\n",
       "      <th>movieId</th>\n",
       "      <th>title</th>\n",
       "      <th>genres</th>\n",
       "    </tr>\n",
       "  </thead>\n",
       "  <tbody>\n",
       "    <tr>\n",
       "      <th>0</th>\n",
       "      <td>1</td>\n",
       "      <td>Toy Story (1995)</td>\n",
       "      <td>Adventure|Animation|Children|Comedy|Fantasy</td>\n",
       "    </tr>\n",
       "    <tr>\n",
       "      <th>1</th>\n",
       "      <td>2</td>\n",
       "      <td>Jumanji (1995)</td>\n",
       "      <td>Adventure|Children|Fantasy</td>\n",
       "    </tr>\n",
       "    <tr>\n",
       "      <th>2</th>\n",
       "      <td>3</td>\n",
       "      <td>Grumpier Old Men (1995)</td>\n",
       "      <td>Comedy|Romance</td>\n",
       "    </tr>\n",
       "    <tr>\n",
       "      <th>3</th>\n",
       "      <td>4</td>\n",
       "      <td>Waiting to Exhale (1995)</td>\n",
       "      <td>Comedy|Drama|Romance</td>\n",
       "    </tr>\n",
       "    <tr>\n",
       "      <th>4</th>\n",
       "      <td>5</td>\n",
       "      <td>Father of the Bride Part II (1995)</td>\n",
       "      <td>Comedy</td>\n",
       "    </tr>\n",
       "  </tbody>\n",
       "</table>\n",
       "</div>"
      ],
      "text/plain": [
       "   movieId                               title  \\\n",
       "0        1                    Toy Story (1995)   \n",
       "1        2                      Jumanji (1995)   \n",
       "2        3             Grumpier Old Men (1995)   \n",
       "3        4            Waiting to Exhale (1995)   \n",
       "4        5  Father of the Bride Part II (1995)   \n",
       "\n",
       "                                        genres  \n",
       "0  Adventure|Animation|Children|Comedy|Fantasy  \n",
       "1                   Adventure|Children|Fantasy  \n",
       "2                               Comedy|Romance  \n",
       "3                         Comedy|Drama|Romance  \n",
       "4                                       Comedy  "
      ]
     },
     "execution_count": 4,
     "metadata": {},
     "output_type": "execute_result"
    }
   ],
   "source": [
    "movies = pd.read_csv(\"../../datasets/ml-latest-small/movies.csv\", sep=\",\")\n",
    "print(movies.shape)\n",
    "movies.head()"
   ]
  },
  {
   "cell_type": "code",
   "execution_count": 5,
   "id": "ddcc9382",
   "metadata": {},
   "outputs": [
    {
     "name": "stdout",
     "output_type": "stream",
     "text": [
      "(3683, 4)\n"
     ]
    },
    {
     "data": {
      "text/html": [
       "<div>\n",
       "<style scoped>\n",
       "    .dataframe tbody tr th:only-of-type {\n",
       "        vertical-align: middle;\n",
       "    }\n",
       "\n",
       "    .dataframe tbody tr th {\n",
       "        vertical-align: top;\n",
       "    }\n",
       "\n",
       "    .dataframe thead th {\n",
       "        text-align: right;\n",
       "    }\n",
       "</style>\n",
       "<table border=\"1\" class=\"dataframe\">\n",
       "  <thead>\n",
       "    <tr style=\"text-align: right;\">\n",
       "      <th></th>\n",
       "      <th>userId</th>\n",
       "      <th>movieId</th>\n",
       "      <th>tag</th>\n",
       "      <th>timestamp</th>\n",
       "    </tr>\n",
       "  </thead>\n",
       "  <tbody>\n",
       "    <tr>\n",
       "      <th>0</th>\n",
       "      <td>2</td>\n",
       "      <td>60756</td>\n",
       "      <td>funny</td>\n",
       "      <td>1445714994</td>\n",
       "    </tr>\n",
       "    <tr>\n",
       "      <th>1</th>\n",
       "      <td>2</td>\n",
       "      <td>60756</td>\n",
       "      <td>Highly quotable</td>\n",
       "      <td>1445714996</td>\n",
       "    </tr>\n",
       "    <tr>\n",
       "      <th>2</th>\n",
       "      <td>2</td>\n",
       "      <td>60756</td>\n",
       "      <td>will ferrell</td>\n",
       "      <td>1445714992</td>\n",
       "    </tr>\n",
       "    <tr>\n",
       "      <th>3</th>\n",
       "      <td>2</td>\n",
       "      <td>89774</td>\n",
       "      <td>Boxing story</td>\n",
       "      <td>1445715207</td>\n",
       "    </tr>\n",
       "    <tr>\n",
       "      <th>4</th>\n",
       "      <td>2</td>\n",
       "      <td>89774</td>\n",
       "      <td>MMA</td>\n",
       "      <td>1445715200</td>\n",
       "    </tr>\n",
       "  </tbody>\n",
       "</table>\n",
       "</div>"
      ],
      "text/plain": [
       "   userId  movieId              tag   timestamp\n",
       "0       2    60756            funny  1445714994\n",
       "1       2    60756  Highly quotable  1445714996\n",
       "2       2    60756     will ferrell  1445714992\n",
       "3       2    89774     Boxing story  1445715207\n",
       "4       2    89774              MMA  1445715200"
      ]
     },
     "execution_count": 5,
     "metadata": {},
     "output_type": "execute_result"
    }
   ],
   "source": [
    "tags = pd.read_csv(\"../../datasets/ml-latest-small/tags.csv\", sep=\",\")\n",
    "print(tags.shape)\n",
    "tags.head()"
   ]
  },
  {
   "cell_type": "markdown",
   "id": "71d3800e",
   "metadata": {},
   "source": [
    "## Create User Item Rating Map\n",
    "It might take some time but will be useful later."
   ]
  },
  {
   "cell_type": "code",
   "execution_count": 6,
   "id": "749b4bb1",
   "metadata": {},
   "outputs": [],
   "source": [
    "rating_map = {}\n",
    "for i in range(len(ratings)):\n",
    "    key = str(ratings.iloc[i,0]) + '_' +str(ratings.iloc[i,1])\n",
    "    rating_map[key]=ratings.iloc[i,2]"
   ]
  },
  {
   "cell_type": "code",
   "execution_count": 7,
   "id": "fd29dac0",
   "metadata": {},
   "outputs": [
    {
     "data": {
      "text/plain": [
       "5.0"
      ]
     },
     "execution_count": 7,
     "metadata": {},
     "output_type": "execute_result"
    }
   ],
   "source": [
    "rating_map[\"1_47\"]"
   ]
  },
  {
   "cell_type": "code",
   "execution_count": 8,
   "id": "dbb143c2",
   "metadata": {},
   "outputs": [
    {
     "name": "stdout",
     "output_type": "stream",
     "text": [
      "('1_1', 4.0)\n",
      "('1_3', 4.0)\n",
      "('1_6', 4.0)\n",
      "('1_47', 5.0)\n",
      "('1_50', 5.0)\n"
     ]
    }
   ],
   "source": [
    "iterator = iter(rating_map.items())\n",
    "for i in range(5):\n",
    "    print(next(iterator))"
   ]
  },
  {
   "cell_type": "code",
   "execution_count": null,
   "id": "fb51140e",
   "metadata": {},
   "outputs": [],
   "source": []
  },
  {
   "cell_type": "markdown",
   "id": "9f41c4aa",
   "metadata": {},
   "source": [
    "## Create movie genre map\n",
    "This map will also be useful later"
   ]
  },
  {
   "cell_type": "code",
   "execution_count": 9,
   "id": "7179624f",
   "metadata": {},
   "outputs": [],
   "source": [
    "movie_genres = {}\n",
    "for i in range(len(movies)):\n",
    "    key = movies.iloc[i,0]\n",
    "    movie_genres[key]=movies.iloc[i,2].split('|')"
   ]
  },
  {
   "cell_type": "code",
   "execution_count": 10,
   "id": "ff151fd9",
   "metadata": {},
   "outputs": [
    {
     "name": "stdout",
     "output_type": "stream",
     "text": [
      "(1, ['Adventure', 'Animation', 'Children', 'Comedy', 'Fantasy'])\n",
      "(2, ['Adventure', 'Children', 'Fantasy'])\n",
      "(3, ['Comedy', 'Romance'])\n",
      "(4, ['Comedy', 'Drama', 'Romance'])\n",
      "(5, ['Comedy'])\n"
     ]
    }
   ],
   "source": [
    "iterator = iter(movie_genres.items())\n",
    "for i in range(5):\n",
    "    print(next(iterator))"
   ]
  },
  {
   "cell_type": "markdown",
   "id": "ec5d5454",
   "metadata": {},
   "source": [
    "## Rating Prediction\n",
    "\n",
    "### Algorithm \n",
    " \n",
    "Predict rating of user $u$ for item $i$\n",
    "- Calculate the similarity of items that are rated by $u$ with $i$.\n",
    "- Use these similarities to calculate a weighted average of the ratings.\n",
    "\n",
    "Below we only use the genres to calculate the content similarity between movies, but in general, one can use many other information such as the director, date, casting and plot summary. In order to do this one needs to find a way to represent this information and a similarity metric to quantify the similarity.\n",
    "\n",
    "Let us first see an example. "
   ]
  },
  {
   "cell_type": "code",
   "execution_count": 11,
   "id": "67da882d",
   "metadata": {},
   "outputs": [],
   "source": [
    "movies_ratings_join = movies.join(ratings, on=\"movieId\", lsuffix='_caller', rsuffix='_other')"
   ]
  },
  {
   "cell_type": "code",
   "execution_count": 12,
   "id": "442b46b8",
   "metadata": {},
   "outputs": [
    {
     "data": {
      "text/html": [
       "<div>\n",
       "<style scoped>\n",
       "    .dataframe tbody tr th:only-of-type {\n",
       "        vertical-align: middle;\n",
       "    }\n",
       "\n",
       "    .dataframe tbody tr th {\n",
       "        vertical-align: top;\n",
       "    }\n",
       "\n",
       "    .dataframe thead th {\n",
       "        text-align: right;\n",
       "    }\n",
       "</style>\n",
       "<table border=\"1\" class=\"dataframe\">\n",
       "  <thead>\n",
       "    <tr style=\"text-align: right;\">\n",
       "      <th></th>\n",
       "      <th>movieId_caller</th>\n",
       "      <th>title</th>\n",
       "      <th>genres</th>\n",
       "      <th>userId</th>\n",
       "      <th>movieId_other</th>\n",
       "      <th>rating</th>\n",
       "      <th>timestamp</th>\n",
       "    </tr>\n",
       "  </thead>\n",
       "  <tbody>\n",
       "    <tr>\n",
       "      <th>0</th>\n",
       "      <td>1</td>\n",
       "      <td>Toy Story (1995)</td>\n",
       "      <td>Adventure|Animation|Children|Comedy|Fantasy</td>\n",
       "      <td>1.0</td>\n",
       "      <td>3.0</td>\n",
       "      <td>4.0</td>\n",
       "      <td>964981247.0</td>\n",
       "    </tr>\n",
       "    <tr>\n",
       "      <th>1</th>\n",
       "      <td>2</td>\n",
       "      <td>Jumanji (1995)</td>\n",
       "      <td>Adventure|Children|Fantasy</td>\n",
       "      <td>1.0</td>\n",
       "      <td>6.0</td>\n",
       "      <td>4.0</td>\n",
       "      <td>964982224.0</td>\n",
       "    </tr>\n",
       "    <tr>\n",
       "      <th>2</th>\n",
       "      <td>3</td>\n",
       "      <td>Grumpier Old Men (1995)</td>\n",
       "      <td>Comedy|Romance</td>\n",
       "      <td>1.0</td>\n",
       "      <td>47.0</td>\n",
       "      <td>5.0</td>\n",
       "      <td>964983815.0</td>\n",
       "    </tr>\n",
       "    <tr>\n",
       "      <th>3</th>\n",
       "      <td>4</td>\n",
       "      <td>Waiting to Exhale (1995)</td>\n",
       "      <td>Comedy|Drama|Romance</td>\n",
       "      <td>1.0</td>\n",
       "      <td>50.0</td>\n",
       "      <td>5.0</td>\n",
       "      <td>964982931.0</td>\n",
       "    </tr>\n",
       "    <tr>\n",
       "      <th>4</th>\n",
       "      <td>5</td>\n",
       "      <td>Father of the Bride Part II (1995)</td>\n",
       "      <td>Comedy</td>\n",
       "      <td>1.0</td>\n",
       "      <td>70.0</td>\n",
       "      <td>3.0</td>\n",
       "      <td>964982400.0</td>\n",
       "    </tr>\n",
       "  </tbody>\n",
       "</table>\n",
       "</div>"
      ],
      "text/plain": [
       "   movieId_caller                               title  \\\n",
       "0               1                    Toy Story (1995)   \n",
       "1               2                      Jumanji (1995)   \n",
       "2               3             Grumpier Old Men (1995)   \n",
       "3               4            Waiting to Exhale (1995)   \n",
       "4               5  Father of the Bride Part II (1995)   \n",
       "\n",
       "                                        genres  userId  movieId_other  rating  \\\n",
       "0  Adventure|Animation|Children|Comedy|Fantasy     1.0            3.0     4.0   \n",
       "1                   Adventure|Children|Fantasy     1.0            6.0     4.0   \n",
       "2                               Comedy|Romance     1.0           47.0     5.0   \n",
       "3                         Comedy|Drama|Romance     1.0           50.0     5.0   \n",
       "4                                       Comedy     1.0           70.0     3.0   \n",
       "\n",
       "     timestamp  \n",
       "0  964981247.0  \n",
       "1  964982224.0  \n",
       "2  964983815.0  \n",
       "3  964982931.0  \n",
       "4  964982400.0  "
      ]
     },
     "execution_count": 12,
     "metadata": {},
     "output_type": "execute_result"
    }
   ],
   "source": [
    "movies_ratings_join.query(\"userId == 1\").head(5)\n"
   ]
  },
  {
   "cell_type": "markdown",
   "id": "785b319b",
   "metadata": {},
   "source": [
    "What would be the rating of this user for the following movie?"
   ]
  },
  {
   "cell_type": "code",
   "execution_count": 13,
   "id": "3a1044fa",
   "metadata": {},
   "outputs": [
    {
     "data": {
      "text/html": [
       "<div>\n",
       "<style scoped>\n",
       "    .dataframe tbody tr th:only-of-type {\n",
       "        vertical-align: middle;\n",
       "    }\n",
       "\n",
       "    .dataframe tbody tr th {\n",
       "        vertical-align: top;\n",
       "    }\n",
       "\n",
       "    .dataframe thead th {\n",
       "        text-align: right;\n",
       "    }\n",
       "</style>\n",
       "<table border=\"1\" class=\"dataframe\">\n",
       "  <thead>\n",
       "    <tr style=\"text-align: right;\">\n",
       "      <th></th>\n",
       "      <th>movieId_caller</th>\n",
       "      <th>title</th>\n",
       "      <th>genres</th>\n",
       "      <th>userId</th>\n",
       "      <th>movieId_other</th>\n",
       "      <th>rating</th>\n",
       "      <th>timestamp</th>\n",
       "    </tr>\n",
       "  </thead>\n",
       "  <tbody>\n",
       "    <tr>\n",
       "      <th>53</th>\n",
       "      <td>60</td>\n",
       "      <td>Indian in the Cupboard, The (1995)</td>\n",
       "      <td>Adventure|Children|Fantasy</td>\n",
       "      <td>1.0</td>\n",
       "      <td>1073.0</td>\n",
       "      <td>5.0</td>\n",
       "      <td>964981680.0</td>\n",
       "    </tr>\n",
       "  </tbody>\n",
       "</table>\n",
       "</div>"
      ],
      "text/plain": [
       "    movieId_caller                               title  \\\n",
       "53              60  Indian in the Cupboard, The (1995)   \n",
       "\n",
       "                        genres  userId  movieId_other  rating    timestamp  \n",
       "53  Adventure|Children|Fantasy     1.0         1073.0     5.0  964981680.0  "
      ]
     },
     "execution_count": 13,
     "metadata": {},
     "output_type": "execute_result"
    }
   ],
   "source": [
    "movies_ratings_join.query(\"userId == 1 and movieId_caller == 60\")\n"
   ]
  },
  {
   "cell_type": "markdown",
   "id": "ce32d797",
   "metadata": {},
   "source": [
    "Following is the calculation for this example:\n",
    "\n",
    "Jaccard(Toy Story, Indian in the Cupboard) = 3/5 <br>\n",
    "Jaccard(Jumanji, Indian in the Cupboard) = 1 <br>\n",
    "Jaccard(Grumpier Old Men, Indian in the Cupboard) = 0 <br>\n",
    "Jaccard(Waiting to Exhale, Indian in the Cupboard) = 0 <br>\n",
    "Jaccard(Father of the Bride Part II, Indian in the Cupboard) = 0<br>\n"
   ]
  },
  {
   "cell_type": "code",
   "execution_count": 14,
   "id": "68871ec9",
   "metadata": {},
   "outputs": [
    {
     "data": {
      "text/plain": [
       "4.0"
      ]
     },
     "execution_count": 14,
     "metadata": {},
     "output_type": "execute_result"
    }
   ],
   "source": [
    "prediction = (0.6*4+1*4+0+0+0)/(0.6+1+0+0+0)\n",
    "prediction"
   ]
  },
  {
   "cell_type": "markdown",
   "id": "b0e553da",
   "metadata": {},
   "source": [
    "### Jaccard Similarity\n",
    "\n",
    "Given two sets $A$ and $B$,\n",
    "\n",
    "$Jaccard(A, B) = \\frac{|A \\cap B|}{|A \\cup B|}$\n",
    "\n",
    "For example if $A = \\{a, b, c, d\\}$ and $B = \\{b, d, e ,f, g\\}$ then\n",
    "\n",
    "$Jaccard(A, B) = \\frac{2}{7}$"
   ]
  },
  {
   "cell_type": "code",
   "execution_count": 15,
   "id": "37328e31",
   "metadata": {},
   "outputs": [],
   "source": [
    "def content_based_rating_prediction(u, i):\n",
    "    r = 0\n",
    "    sum_sim = 0\n",
    "    # find the movies rated by u\n",
    "    movies = ratings[ratings[\"userId\"]==u].movieId\n",
    "    for j in movies:\n",
    "        sim = genre_sim(i, j)\n",
    "        key = str(u)+\"_\"+str(j)\n",
    "        r += sim*rating_map[key]\n",
    "        sum_sim += sim\n",
    "    if sum_sim == 0:\n",
    "        return 0\n",
    "    else:\n",
    "        return r / sum_sim        "
   ]
  },
  {
   "cell_type": "code",
   "execution_count": 17,
   "id": "bbf6dafb",
   "metadata": {},
   "outputs": [],
   "source": [
    "# finds the genre similary of items i and j using Jaccard similarity\n",
    "def genre_sim(i,j):\n",
    "    genres_i = movie_genres[i]\n",
    "    genres_j = movie_genres[j]\n",
    "    #print(genres_i)\n",
    "    #print(genres_j)\n",
    "    intersection_size = len(set(genres_i).intersection(genres_j))\n",
    "    union_size = len(set(genres_i).union(genres_j))\n",
    "    return intersection_size / union_size\n",
    "    "
   ]
  },
  {
   "cell_type": "code",
   "execution_count": 18,
   "id": "b06d3d43",
   "metadata": {},
   "outputs": [],
   "source": [
    "# finds the genre similary of items i and j using Jaccard similarity\n",
    "def genre_sim2(i,j):\n",
    "    x = item_content_matrix.loc[i].to_numpy()\n",
    "    y = item_content_matrix.loc[j].to_numpy()\n",
    "    intersection_size = np.count_nonzero(np.bitwise_and(x,y))\n",
    "    union_size = np.count_nonzero(np.bitwise_or(x,y))\n",
    "    return intersection_size / union_size\n"
   ]
  },
  {
   "cell_type": "markdown",
   "id": "6ce68b8d",
   "metadata": {},
   "source": [
    "## Evaluation\n",
    "\n",
    "How can we measure the performance of a recommender algorithm? This is similar to the evaluation used in machine learning."
   ]
  },
  {
   "cell_type": "code",
   "execution_count": 19,
   "id": "11bcab01",
   "metadata": {},
   "outputs": [
    {
     "name": "stdout",
     "output_type": "stream",
     "text": [
      "Test size: 1000\n",
      "0.6725509373400788\n"
     ]
    }
   ],
   "source": [
    "X_train, X_test = train_test_split(ratings, test_size=1000)\n",
    "train_size = X_train.shape[0]\n",
    "test_size = X_test.shape[0]\n",
    "print(\"Test size:\", test_size)\n",
    "error = 0\n",
    "for k in range(test_size): \n",
    "    u = X_test.iloc[k,0]\n",
    "    i = X_test.iloc[k,1]\n",
    "    r = X_test.iloc[k,2]\n",
    "    error += np.abs(r - content_based_rating_prediction(u,i))\n",
    "print(error/test_size)"
   ]
  },
  {
   "cell_type": "markdown",
   "id": "c2eb0801",
   "metadata": {},
   "source": [
    "## Top-N recommendation\n",
    "The task in top-$N$ prediction is to recommend $N$ items to a user. \n",
    "\n",
    "\n",
    "Recommend $N$ movies to user $u$\n",
    "- Predict the ratings of all items which are not watched by $u$\n",
    "- Sort the predicted ratings\n",
    "- Recommend the movies with the highest predicted ratings"
   ]
  },
  {
   "cell_type": "code",
   "execution_count": 22,
   "id": "6583258f",
   "metadata": {},
   "outputs": [
    {
     "data": {
      "text/plain": [
       "9723"
      ]
     },
     "execution_count": 22,
     "metadata": {},
     "output_type": "execute_result"
    }
   ],
   "source": [
    "x  = ratings.query(\"userId != 1\").movieId.unique()\n",
    "len(x)"
   ]
  },
  {
   "cell_type": "code",
   "execution_count": 23,
   "id": "bb1d7323",
   "metadata": {},
   "outputs": [],
   "source": [
    "def top_N_rec(u):\n",
    "    preds = pd.Series([], dtype='float')\n",
    "    # find the movies not rated by u\n",
    "    movies_not_rated = ratings.query(\"userId != @u\").movieId.unique()\n",
    "    for m in movies_not_rated:\n",
    "        preds[m] = content_based_rating_prediction(u, m)\n",
    "    return preds.sort_values(ascending=False)[:10]    "
   ]
  },
  {
   "cell_type": "code",
   "execution_count": 24,
   "id": "975cd7e1",
   "metadata": {},
   "outputs": [
    {
     "data": {
      "text/plain": [
       "7335      5.000000\n",
       "4426      5.000000\n",
       "2066      5.000000\n",
       "72603     4.718136\n",
       "170597    4.718136\n",
       "163386    4.718136\n",
       "163112    4.718136\n",
       "153236    4.718136\n",
       "193573    4.718136\n",
       "151769    4.718136\n",
       "dtype: float64"
      ]
     },
     "execution_count": 24,
     "metadata": {},
     "output_type": "execute_result"
    }
   ],
   "source": [
    "top_N_rec(1)"
   ]
  },
  {
   "cell_type": "markdown",
   "id": "dc9766a2",
   "metadata": {},
   "source": [
    "## Efficiency Issues\n",
    "\n",
    "There are important inefficiencies in this algorithm:\n",
    "\n",
    "- The algorithm predicts the rating of all items which are not rated by the user. In the case of millions of items this algorithm is practically infeasible. Numerous techniques have been developed to remedy this problem. Can you suggest a solution? \n",
    "- In rating prediction, similarity between target item and items rated by the user are calculated. To make a recommendation to another user similarity calculations will be done again. For making recommendations to users in general many similarity calculations will be repeated. A general solution to this problem is to precalculate the similarities between items. Moreover, you don't need to store all similarities, only storing $k$ most similar items to every item will be enough. Size of $k$ can be determined according to the needs.\n"
   ]
  },
  {
   "cell_type": "markdown",
   "id": "008e77bc",
   "metadata": {},
   "source": [
    "## Building an item similarity table\n",
    "This table will hold the most similar $k$ items for each item. In order to build this table we need to calculate all pairwise similarities which takes $O(n^2)$ time. There is no escape from this $O(n^2)$ time unless you use an approximation algorithm such as LSH (Locality Sensitive Hashing) for nearest neighbor search. "
   ]
  },
  {
   "cell_type": "markdown",
   "id": "da529a58",
   "metadata": {},
   "source": [
    "## Efficiency Improvements\n",
    "\n",
    "### Create movie similarity matrix first\n",
    "\n",
    "Given $n$ items finding all pairwise similarities requires $O(n^2)$ similarity calculations which can take a lot of time if $n$ is large as the following code illustrates."
   ]
  },
  {
   "cell_type": "code",
   "execution_count": 26,
   "id": "226648ab",
   "metadata": {},
   "outputs": [
    {
     "data": {
      "text/plain": [
       "[1, 3]"
      ]
     },
     "execution_count": 26,
     "metadata": {},
     "output_type": "execute_result"
    }
   ],
   "source": [
    "pq =[1,20,3]\n",
    "type(pq)\n",
    "heapq.heappush(pq, 8)\n",
    "heapq.heapify(pq)\n",
    "heapq.nsmallest(2,pq)"
   ]
  },
  {
   "cell_type": "code",
   "execution_count": 27,
   "id": "c44ad103",
   "metadata": {
    "scrolled": true
   },
   "outputs": [
    {
     "name": "stdout",
     "output_type": "stream",
     "text": [
      "9742\n",
      "0\n",
      "100\n",
      "200\n",
      "300\n",
      "400\n",
      "500\n",
      "600\n",
      "700\n",
      "800\n",
      "900\n",
      "1000\n",
      "1100\n",
      "1200\n",
      "1300\n",
      "1400\n",
      "1500\n",
      "1600\n",
      "1700\n",
      "1800\n",
      "1900\n",
      "2000\n",
      "2100\n",
      "2200\n",
      "2300\n",
      "2400\n",
      "2500\n",
      "2600\n",
      "2700\n",
      "2800\n",
      "2900\n",
      "3000\n",
      "3100\n",
      "3200\n",
      "3300\n",
      "3400\n",
      "3500\n",
      "3600\n",
      "3700\n",
      "3800\n",
      "3900\n",
      "4000\n",
      "4100\n",
      "4200\n",
      "4300\n",
      "4400\n",
      "4500\n",
      "4600\n",
      "4700\n",
      "4800\n",
      "4900\n",
      "5000\n",
      "5100\n",
      "5200\n",
      "5300\n",
      "5400\n",
      "5500\n",
      "5600\n",
      "5700\n",
      "5800\n",
      "5900\n",
      "6000\n",
      "6100\n",
      "6200\n",
      "6300\n",
      "6400\n",
      "6500\n",
      "6600\n",
      "6700\n",
      "6800\n",
      "6900\n",
      "7000\n",
      "7100\n",
      "7200\n",
      "7300\n",
      "7400\n",
      "7500\n",
      "7600\n",
      "7700\n",
      "7800\n",
      "7900\n",
      "8000\n",
      "8100\n",
      "8200\n",
      "8300\n",
      "8400\n",
      "8500\n",
      "8600\n",
      "8700\n",
      "8800\n",
      "8900\n",
      "9000\n",
      "9100\n",
      "9200\n",
      "9300\n",
      "9400\n",
      "9500\n",
      "9600\n",
      "9700\n"
     ]
    }
   ],
   "source": [
    "K = 10\n",
    "similarity_map = {}\n",
    "movie_ids = movies['movieId'].to_numpy()\n",
    "print(len(movie_ids))\n",
    "for i in range(len(movie_ids)):\n",
    "    if (i % 100 == 0):\n",
    "        print(i)\n",
    "    if i not in similarity_map:\n",
    "        similarity_map[i] = []\n",
    "    pq = similarity_map[i]\n",
    "    for j in range(i+1, len(movie_ids)):\n",
    "        sim = genre_sim(movie_ids[i],movie_ids[j])\n",
    "        if (len(pq) >= K):\n",
    "            smallest = pq[0]\n",
    "            if (sim > smallest[0]):\n",
    "                heapq.heappop(pq)\n",
    "                heapq.heappush(pq, (sim, j))\n",
    "        else:\n",
    "            heapq.heappush(pq, (sim, j))"
   ]
  },
  {
   "cell_type": "code",
   "execution_count": 35,
   "id": "bfa53f8f",
   "metadata": {},
   "outputs": [
    {
     "data": {
      "text/plain": [
       "[(1.0, 654),\n",
       " (1.0, 1478),\n",
       " (1.0, 1891),\n",
       " (1.0, 1619),\n",
       " (1.0, 1479),\n",
       " (1.0, 2027),\n",
       " (1.0, 1963),\n",
       " (1.0, 2068),\n",
       " (1.0, 2270),\n",
       " (1.0, 2754)]"
      ]
     },
     "execution_count": 35,
     "metadata": {},
     "output_type": "execute_result"
    }
   ],
   "source": [
    "similarity_map[11]"
   ]
  },
  {
   "cell_type": "code",
   "execution_count": null,
   "id": "017125ae",
   "metadata": {},
   "outputs": [],
   "source": []
  }
 ],
 "metadata": {
  "kernelspec": {
   "display_name": "Python 3",
   "language": "python",
   "name": "python3"
  },
  "language_info": {
   "codemirror_mode": {
    "name": "ipython",
    "version": 3
   },
   "file_extension": ".py",
   "mimetype": "text/x-python",
   "name": "python",
   "nbconvert_exporter": "python",
   "pygments_lexer": "ipython3",
   "version": "3.7.7"
  }
 },
 "nbformat": 4,
 "nbformat_minor": 5
}
