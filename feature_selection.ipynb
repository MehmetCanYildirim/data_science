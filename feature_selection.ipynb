{
 "cells": [
  {
   "cell_type": "markdown",
   "metadata": {},
   "source": [
    "# Feature Selection\n",
    "(by Tevfik Aytekin)"
   ]
  },
  {
   "cell_type": "markdown",
   "metadata": {},
   "source": [
    "In feature election we try to find relevant features, that is, features which have an influence on the output. We will also try to quantify the influence of a feature. There are several ways we can find the relevance of features, in this notebook we will look at univariate filter methods. In other words, we will try to find the relevance of a single feature (independent of the others) on the output.\n"
   ]
  },
  {
   "cell_type": "code",
   "execution_count": 18,
   "metadata": {},
   "outputs": [],
   "source": [
    "import numpy as np\n",
    "from sklearn.tree import DecisionTreeRegressor\n",
    "import pandas as pd\n",
    "import seaborn as sns\n",
    "from sklearn.metrics import mutual_info_score\n",
    "from sklearn.utils import resample\n",
    "from scipy.stats import chisquare\n",
    "from sklearn.feature_selection import chi2, SelectKBest, f_classif, f_regression\n",
    "from sklearn.preprocessing import LabelBinarizer\n",
    "import matplotlib.pyplot as plt\n",
    "from scipy.stats import chi2\n",
    "import scipy.stats as stats\n",
    "from sklearn.feature_selection import mutual_info_classif\n",
    "\n"
   ]
  },
  {
   "cell_type": "markdown",
   "metadata": {},
   "source": [
    "### Univariate Feature Selection\n",
    "We will look at the pairwise relationships between the output variable and each one of the input variables. Our aim is to understand whether these pairs of variables are independent of each other or there is some kind of relationship between them. Different from visualizations, we will generate a numerical value for measuring the strength of the relationship.\n",
    "\n",
    "We will use the following two datasets for illustration.\n",
    "#### Example Datasets"
   ]
  },
  {
   "cell_type": "code",
   "execution_count": 2,
   "metadata": {},
   "outputs": [
    {
     "data": {
      "text/plain": [
       "(45211, 17)"
      ]
     },
     "execution_count": 2,
     "metadata": {},
     "output_type": "execute_result"
    }
   ],
   "source": [
    "# Bank Marketing Dataset from\n",
    "# https://archive.ics.uci.edu/ml/datasets/Bank+Marketing\n",
    "\n",
    "bank = pd.read_csv(\"../datasets/bank/bank-full.csv\", delimiter = \";\")\n",
    "bank.shape"
   ]
  },
  {
   "cell_type": "code",
   "execution_count": 3,
   "metadata": {},
   "outputs": [
    {
     "data": {
      "text/html": [
       "<div>\n",
       "<style scoped>\n",
       "    .dataframe tbody tr th:only-of-type {\n",
       "        vertical-align: middle;\n",
       "    }\n",
       "\n",
       "    .dataframe tbody tr th {\n",
       "        vertical-align: top;\n",
       "    }\n",
       "\n",
       "    .dataframe thead th {\n",
       "        text-align: right;\n",
       "    }\n",
       "</style>\n",
       "<table border=\"1\" class=\"dataframe\">\n",
       "  <thead>\n",
       "    <tr style=\"text-align: right;\">\n",
       "      <th></th>\n",
       "      <th>age</th>\n",
       "      <th>job</th>\n",
       "      <th>marital</th>\n",
       "      <th>education</th>\n",
       "      <th>default</th>\n",
       "      <th>balance</th>\n",
       "      <th>housing</th>\n",
       "      <th>loan</th>\n",
       "      <th>contact</th>\n",
       "      <th>day</th>\n",
       "      <th>month</th>\n",
       "      <th>duration</th>\n",
       "      <th>campaign</th>\n",
       "      <th>pdays</th>\n",
       "      <th>previous</th>\n",
       "      <th>poutcome</th>\n",
       "      <th>y</th>\n",
       "    </tr>\n",
       "  </thead>\n",
       "  <tbody>\n",
       "    <tr>\n",
       "      <th>24826</th>\n",
       "      <td>36</td>\n",
       "      <td>technician</td>\n",
       "      <td>married</td>\n",
       "      <td>secondary</td>\n",
       "      <td>no</td>\n",
       "      <td>154</td>\n",
       "      <td>yes</td>\n",
       "      <td>no</td>\n",
       "      <td>cellular</td>\n",
       "      <td>18</td>\n",
       "      <td>nov</td>\n",
       "      <td>231</td>\n",
       "      <td>1</td>\n",
       "      <td>96</td>\n",
       "      <td>2</td>\n",
       "      <td>other</td>\n",
       "      <td>no</td>\n",
       "    </tr>\n",
       "    <tr>\n",
       "      <th>3150</th>\n",
       "      <td>57</td>\n",
       "      <td>technician</td>\n",
       "      <td>divorced</td>\n",
       "      <td>secondary</td>\n",
       "      <td>no</td>\n",
       "      <td>3105</td>\n",
       "      <td>yes</td>\n",
       "      <td>no</td>\n",
       "      <td>unknown</td>\n",
       "      <td>14</td>\n",
       "      <td>may</td>\n",
       "      <td>173</td>\n",
       "      <td>11</td>\n",
       "      <td>-1</td>\n",
       "      <td>0</td>\n",
       "      <td>unknown</td>\n",
       "      <td>no</td>\n",
       "    </tr>\n",
       "    <tr>\n",
       "      <th>6465</th>\n",
       "      <td>30</td>\n",
       "      <td>management</td>\n",
       "      <td>married</td>\n",
       "      <td>secondary</td>\n",
       "      <td>no</td>\n",
       "      <td>-397</td>\n",
       "      <td>yes</td>\n",
       "      <td>no</td>\n",
       "      <td>unknown</td>\n",
       "      <td>27</td>\n",
       "      <td>may</td>\n",
       "      <td>141</td>\n",
       "      <td>3</td>\n",
       "      <td>-1</td>\n",
       "      <td>0</td>\n",
       "      <td>unknown</td>\n",
       "      <td>no</td>\n",
       "    </tr>\n",
       "    <tr>\n",
       "      <th>3214</th>\n",
       "      <td>52</td>\n",
       "      <td>blue-collar</td>\n",
       "      <td>divorced</td>\n",
       "      <td>primary</td>\n",
       "      <td>no</td>\n",
       "      <td>-191</td>\n",
       "      <td>yes</td>\n",
       "      <td>no</td>\n",
       "      <td>unknown</td>\n",
       "      <td>15</td>\n",
       "      <td>may</td>\n",
       "      <td>755</td>\n",
       "      <td>1</td>\n",
       "      <td>-1</td>\n",
       "      <td>0</td>\n",
       "      <td>unknown</td>\n",
       "      <td>yes</td>\n",
       "    </tr>\n",
       "    <tr>\n",
       "      <th>27180</th>\n",
       "      <td>37</td>\n",
       "      <td>management</td>\n",
       "      <td>married</td>\n",
       "      <td>tertiary</td>\n",
       "      <td>no</td>\n",
       "      <td>489</td>\n",
       "      <td>yes</td>\n",
       "      <td>no</td>\n",
       "      <td>cellular</td>\n",
       "      <td>21</td>\n",
       "      <td>nov</td>\n",
       "      <td>202</td>\n",
       "      <td>1</td>\n",
       "      <td>106</td>\n",
       "      <td>5</td>\n",
       "      <td>failure</td>\n",
       "      <td>no</td>\n",
       "    </tr>\n",
       "    <tr>\n",
       "      <th>180</th>\n",
       "      <td>31</td>\n",
       "      <td>services</td>\n",
       "      <td>married</td>\n",
       "      <td>tertiary</td>\n",
       "      <td>no</td>\n",
       "      <td>37</td>\n",
       "      <td>yes</td>\n",
       "      <td>no</td>\n",
       "      <td>unknown</td>\n",
       "      <td>5</td>\n",
       "      <td>may</td>\n",
       "      <td>313</td>\n",
       "      <td>1</td>\n",
       "      <td>-1</td>\n",
       "      <td>0</td>\n",
       "      <td>unknown</td>\n",
       "      <td>no</td>\n",
       "    </tr>\n",
       "    <tr>\n",
       "      <th>23210</th>\n",
       "      <td>55</td>\n",
       "      <td>services</td>\n",
       "      <td>married</td>\n",
       "      <td>unknown</td>\n",
       "      <td>no</td>\n",
       "      <td>2944</td>\n",
       "      <td>no</td>\n",
       "      <td>no</td>\n",
       "      <td>cellular</td>\n",
       "      <td>27</td>\n",
       "      <td>aug</td>\n",
       "      <td>672</td>\n",
       "      <td>6</td>\n",
       "      <td>-1</td>\n",
       "      <td>0</td>\n",
       "      <td>unknown</td>\n",
       "      <td>yes</td>\n",
       "    </tr>\n",
       "    <tr>\n",
       "      <th>39457</th>\n",
       "      <td>35</td>\n",
       "      <td>technician</td>\n",
       "      <td>single</td>\n",
       "      <td>secondary</td>\n",
       "      <td>no</td>\n",
       "      <td>204</td>\n",
       "      <td>yes</td>\n",
       "      <td>no</td>\n",
       "      <td>cellular</td>\n",
       "      <td>25</td>\n",
       "      <td>may</td>\n",
       "      <td>236</td>\n",
       "      <td>1</td>\n",
       "      <td>-1</td>\n",
       "      <td>0</td>\n",
       "      <td>unknown</td>\n",
       "      <td>yes</td>\n",
       "    </tr>\n",
       "    <tr>\n",
       "      <th>28058</th>\n",
       "      <td>30</td>\n",
       "      <td>admin.</td>\n",
       "      <td>married</td>\n",
       "      <td>secondary</td>\n",
       "      <td>no</td>\n",
       "      <td>358</td>\n",
       "      <td>no</td>\n",
       "      <td>no</td>\n",
       "      <td>cellular</td>\n",
       "      <td>28</td>\n",
       "      <td>jan</td>\n",
       "      <td>156</td>\n",
       "      <td>2</td>\n",
       "      <td>-1</td>\n",
       "      <td>0</td>\n",
       "      <td>unknown</td>\n",
       "      <td>no</td>\n",
       "    </tr>\n",
       "    <tr>\n",
       "      <th>23590</th>\n",
       "      <td>44</td>\n",
       "      <td>technician</td>\n",
       "      <td>married</td>\n",
       "      <td>secondary</td>\n",
       "      <td>no</td>\n",
       "      <td>65</td>\n",
       "      <td>no</td>\n",
       "      <td>no</td>\n",
       "      <td>telephone</td>\n",
       "      <td>28</td>\n",
       "      <td>aug</td>\n",
       "      <td>53</td>\n",
       "      <td>11</td>\n",
       "      <td>-1</td>\n",
       "      <td>0</td>\n",
       "      <td>unknown</td>\n",
       "      <td>no</td>\n",
       "    </tr>\n",
       "  </tbody>\n",
       "</table>\n",
       "</div>"
      ],
      "text/plain": [
       "       age          job   marital  education default  balance housing loan  \\\n",
       "24826   36   technician   married  secondary      no      154     yes   no   \n",
       "3150    57   technician  divorced  secondary      no     3105     yes   no   \n",
       "6465    30   management   married  secondary      no     -397     yes   no   \n",
       "3214    52  blue-collar  divorced    primary      no     -191     yes   no   \n",
       "27180   37   management   married   tertiary      no      489     yes   no   \n",
       "180     31     services   married   tertiary      no       37     yes   no   \n",
       "23210   55     services   married    unknown      no     2944      no   no   \n",
       "39457   35   technician    single  secondary      no      204     yes   no   \n",
       "28058   30       admin.   married  secondary      no      358      no   no   \n",
       "23590   44   technician   married  secondary      no       65      no   no   \n",
       "\n",
       "         contact  day month  duration  campaign  pdays  previous poutcome    y  \n",
       "24826   cellular   18   nov       231         1     96         2    other   no  \n",
       "3150     unknown   14   may       173        11     -1         0  unknown   no  \n",
       "6465     unknown   27   may       141         3     -1         0  unknown   no  \n",
       "3214     unknown   15   may       755         1     -1         0  unknown  yes  \n",
       "27180   cellular   21   nov       202         1    106         5  failure   no  \n",
       "180      unknown    5   may       313         1     -1         0  unknown   no  \n",
       "23210   cellular   27   aug       672         6     -1         0  unknown  yes  \n",
       "39457   cellular   25   may       236         1     -1         0  unknown  yes  \n",
       "28058   cellular   28   jan       156         2     -1         0  unknown   no  \n",
       "23590  telephone   28   aug        53        11     -1         0  unknown   no  "
      ]
     },
     "execution_count": 3,
     "metadata": {},
     "output_type": "execute_result"
    }
   ],
   "source": [
    "# list random rows from the dataset\n",
    "bank.iloc[np.random.randint(1,bank.shape[0],10),:] "
   ]
  },
  {
   "cell_type": "code",
   "execution_count": 4,
   "metadata": {},
   "outputs": [
    {
     "data": {
      "text/html": [
       "<div>\n",
       "<style scoped>\n",
       "    .dataframe tbody tr th:only-of-type {\n",
       "        vertical-align: middle;\n",
       "    }\n",
       "\n",
       "    .dataframe tbody tr th {\n",
       "        vertical-align: top;\n",
       "    }\n",
       "\n",
       "    .dataframe thead th {\n",
       "        text-align: right;\n",
       "    }\n",
       "</style>\n",
       "<table border=\"1\" class=\"dataframe\">\n",
       "  <thead>\n",
       "    <tr style=\"text-align: right;\">\n",
       "      <th></th>\n",
       "      <th>Id</th>\n",
       "      <th>MSSubClass</th>\n",
       "      <th>MSZoning</th>\n",
       "      <th>LotFrontage</th>\n",
       "      <th>LotArea</th>\n",
       "      <th>Street</th>\n",
       "      <th>Alley</th>\n",
       "      <th>LotShape</th>\n",
       "      <th>LandContour</th>\n",
       "      <th>Utilities</th>\n",
       "      <th>...</th>\n",
       "      <th>PoolArea</th>\n",
       "      <th>PoolQC</th>\n",
       "      <th>Fence</th>\n",
       "      <th>MiscFeature</th>\n",
       "      <th>MiscVal</th>\n",
       "      <th>MoSold</th>\n",
       "      <th>YrSold</th>\n",
       "      <th>SaleType</th>\n",
       "      <th>SaleCondition</th>\n",
       "      <th>SalePrice</th>\n",
       "    </tr>\n",
       "  </thead>\n",
       "  <tbody>\n",
       "    <tr>\n",
       "      <th>0</th>\n",
       "      <td>1</td>\n",
       "      <td>60</td>\n",
       "      <td>RL</td>\n",
       "      <td>65.0</td>\n",
       "      <td>8450</td>\n",
       "      <td>Pave</td>\n",
       "      <td>NaN</td>\n",
       "      <td>Reg</td>\n",
       "      <td>Lvl</td>\n",
       "      <td>AllPub</td>\n",
       "      <td>...</td>\n",
       "      <td>0</td>\n",
       "      <td>NaN</td>\n",
       "      <td>NaN</td>\n",
       "      <td>NaN</td>\n",
       "      <td>0</td>\n",
       "      <td>2</td>\n",
       "      <td>2008</td>\n",
       "      <td>WD</td>\n",
       "      <td>Normal</td>\n",
       "      <td>208500</td>\n",
       "    </tr>\n",
       "    <tr>\n",
       "      <th>1</th>\n",
       "      <td>2</td>\n",
       "      <td>20</td>\n",
       "      <td>RL</td>\n",
       "      <td>80.0</td>\n",
       "      <td>9600</td>\n",
       "      <td>Pave</td>\n",
       "      <td>NaN</td>\n",
       "      <td>Reg</td>\n",
       "      <td>Lvl</td>\n",
       "      <td>AllPub</td>\n",
       "      <td>...</td>\n",
       "      <td>0</td>\n",
       "      <td>NaN</td>\n",
       "      <td>NaN</td>\n",
       "      <td>NaN</td>\n",
       "      <td>0</td>\n",
       "      <td>5</td>\n",
       "      <td>2007</td>\n",
       "      <td>WD</td>\n",
       "      <td>Normal</td>\n",
       "      <td>181500</td>\n",
       "    </tr>\n",
       "    <tr>\n",
       "      <th>2</th>\n",
       "      <td>3</td>\n",
       "      <td>60</td>\n",
       "      <td>RL</td>\n",
       "      <td>68.0</td>\n",
       "      <td>11250</td>\n",
       "      <td>Pave</td>\n",
       "      <td>NaN</td>\n",
       "      <td>IR1</td>\n",
       "      <td>Lvl</td>\n",
       "      <td>AllPub</td>\n",
       "      <td>...</td>\n",
       "      <td>0</td>\n",
       "      <td>NaN</td>\n",
       "      <td>NaN</td>\n",
       "      <td>NaN</td>\n",
       "      <td>0</td>\n",
       "      <td>9</td>\n",
       "      <td>2008</td>\n",
       "      <td>WD</td>\n",
       "      <td>Normal</td>\n",
       "      <td>223500</td>\n",
       "    </tr>\n",
       "    <tr>\n",
       "      <th>3</th>\n",
       "      <td>4</td>\n",
       "      <td>70</td>\n",
       "      <td>RL</td>\n",
       "      <td>60.0</td>\n",
       "      <td>9550</td>\n",
       "      <td>Pave</td>\n",
       "      <td>NaN</td>\n",
       "      <td>IR1</td>\n",
       "      <td>Lvl</td>\n",
       "      <td>AllPub</td>\n",
       "      <td>...</td>\n",
       "      <td>0</td>\n",
       "      <td>NaN</td>\n",
       "      <td>NaN</td>\n",
       "      <td>NaN</td>\n",
       "      <td>0</td>\n",
       "      <td>2</td>\n",
       "      <td>2006</td>\n",
       "      <td>WD</td>\n",
       "      <td>Abnorml</td>\n",
       "      <td>140000</td>\n",
       "    </tr>\n",
       "    <tr>\n",
       "      <th>4</th>\n",
       "      <td>5</td>\n",
       "      <td>60</td>\n",
       "      <td>RL</td>\n",
       "      <td>84.0</td>\n",
       "      <td>14260</td>\n",
       "      <td>Pave</td>\n",
       "      <td>NaN</td>\n",
       "      <td>IR1</td>\n",
       "      <td>Lvl</td>\n",
       "      <td>AllPub</td>\n",
       "      <td>...</td>\n",
       "      <td>0</td>\n",
       "      <td>NaN</td>\n",
       "      <td>NaN</td>\n",
       "      <td>NaN</td>\n",
       "      <td>0</td>\n",
       "      <td>12</td>\n",
       "      <td>2008</td>\n",
       "      <td>WD</td>\n",
       "      <td>Normal</td>\n",
       "      <td>250000</td>\n",
       "    </tr>\n",
       "  </tbody>\n",
       "</table>\n",
       "<p>5 rows × 81 columns</p>\n",
       "</div>"
      ],
      "text/plain": [
       "   Id  MSSubClass MSZoning  LotFrontage  LotArea Street Alley LotShape  \\\n",
       "0   1          60       RL         65.0     8450   Pave   NaN      Reg   \n",
       "1   2          20       RL         80.0     9600   Pave   NaN      Reg   \n",
       "2   3          60       RL         68.0    11250   Pave   NaN      IR1   \n",
       "3   4          70       RL         60.0     9550   Pave   NaN      IR1   \n",
       "4   5          60       RL         84.0    14260   Pave   NaN      IR1   \n",
       "\n",
       "  LandContour Utilities  ... PoolArea PoolQC Fence MiscFeature MiscVal MoSold  \\\n",
       "0         Lvl    AllPub  ...        0    NaN   NaN         NaN       0      2   \n",
       "1         Lvl    AllPub  ...        0    NaN   NaN         NaN       0      5   \n",
       "2         Lvl    AllPub  ...        0    NaN   NaN         NaN       0      9   \n",
       "3         Lvl    AllPub  ...        0    NaN   NaN         NaN       0      2   \n",
       "4         Lvl    AllPub  ...        0    NaN   NaN         NaN       0     12   \n",
       "\n",
       "  YrSold  SaleType  SaleCondition  SalePrice  \n",
       "0   2008        WD         Normal     208500  \n",
       "1   2007        WD         Normal     181500  \n",
       "2   2008        WD         Normal     223500  \n",
       "3   2006        WD        Abnorml     140000  \n",
       "4   2008        WD         Normal     250000  \n",
       "\n",
       "[5 rows x 81 columns]"
      ]
     },
     "execution_count": 4,
     "metadata": {},
     "output_type": "execute_result"
    }
   ],
   "source": [
    "# load train.csv file from Kaggle \"House Prices: Advanced Regression Techniques\" dataset \n",
    "house = pd.read_csv(\"../datasets/house_prices/train.csv\")\n",
    "# print first 5 examples\n",
    "house.head(5)"
   ]
  },
  {
   "cell_type": "markdown",
   "metadata": {},
   "source": [
    "# Case 1: Numerical Input vs. Numeric Output\n",
    "\n",
    "For this type of analysis a common technique is to look at the correlation between the variables. There are three commonly used correlation measures: Pearson, Spearman, and Kendall. We will look at each in turn.\n",
    "\n",
    "\n",
    "### Pearson correlation\n",
    "\n",
    "Pearson correlation is a measure of linear relationship between two random variables X and Y. It is a scaled version of covariance (between -1 and 1); note that the two parameters always have the same sign (positive, negative, or 0). When the sign is positive, the variables are said to be positively correlated; when the sign is negative, the variables are said to be negatively correlated; and when the sign is 0, the variables are said to be uncorrelated. For basic statistical concepts like variance, covariance, and standard deviation check this [notebook](stats.ipynb).\n",
    "\n",
    "$$pcorr(X,Y) = \\frac{cov(X,Y)}{\\sigma_X \\sigma_Y}$$"
   ]
  },
  {
   "cell_type": "code",
   "execution_count": 5,
   "metadata": {},
   "outputs": [
    {
     "data": {
      "text/plain": [
       "(0.9874100874179736, 7.282637065765987e-07)"
      ]
     },
     "execution_count": 5,
     "metadata": {},
     "output_type": "execute_result"
    },
    {
     "data": {
      "image/png": "[encoded data removed]",
      "text/plain": [
       "<Figure size 432x288 with 1 Axes>"
      ]
     },
     "metadata": {
      "needs_background": "light"
     },
     "output_type": "display_data"
    }
   ],
   "source": [
    "# Example\n",
    "X = [2, 4, 6, 8, 12, 14, 18, 21, 23]\n",
    "Y = [3, 5, 7, 9, 11, 12, 17, 22, 24]\n",
    "\n",
    "plt.plot(X,Y, \"o\")\n",
    "\n",
    "# returns correlation and p-value\n",
    "stats.pearsonr(X,Y)"
   ]
  },
  {
   "cell_type": "markdown",
   "metadata": {},
   "source": [
    "### A note on p-value\n",
    "\n",
    "P-value is an important statistical concept used in hypothesis testing. Technically, the p-value is the probability of observing a test statistic that is as extreme or more extreme than the observed test statistic under the null hypothesis. Intiutively, it means how likely it is to observe the sample by chance. If the p-value is small (typically less then 0.05) then we can reject the null hypothesis, that is, we can conclude that its very unlikely to observe the sample by chance.\n",
    "\n",
    "For Pearson correlation the null hypothesis is that the samples come from uncorrelated normal distributed populations.\n",
    "\n",
    "p-values are important when the sample sizes are small. Check out the sample below, the correlation is high but p-value > 0.05 which implies that the samples might come from uncorrelated populations. As a rule of thumb, you should ignore correlations which are not statistically significant (p > 0.05) even if the correlation is high."
   ]
  },
  {
   "cell_type": "code",
   "execution_count": 6,
   "metadata": {},
   "outputs": [
    {
     "data": {
      "text/plain": [
       "(0.8944271909999159, 0.10557280900008414)"
      ]
     },
     "execution_count": 6,
     "metadata": {},
     "output_type": "execute_result"
    },
    {
     "data": {
      "image/png": "[encoded data removed]",
      "text/plain": [
       "<Figure size 432x288 with 1 Axes>"
      ]
     },
     "metadata": {
      "needs_background": "light"
     },
     "output_type": "display_data"
    }
   ],
   "source": [
    "# Example\n",
    "X = [6, 4, 6, 8] \n",
    "Y = [6, 5, 8, 9] \n",
    "plt.plot(X,Y, \"o\")\n",
    "\n",
    "# returns correlation and p-value\n",
    "stats.pearsonr(X,Y)"
   ]
  },
  {
   "cell_type": "markdown",
   "metadata": {},
   "source": [
    "Below are some example datases with various degrees of Pearson correlation.\n",
    "\n",
    "Question: Note that there is no correlation coefficient value for the dataset in the middle position. Why is that? Hint: Check the definition of correlation.\n",
    "\n",
    "[image source](http://commons.wikimedia.org/wiki/File:Correlation_examples2.svg)\n",
    "\n",
    "<img src=\"images/cor1.png\" alt=\"drawing\" width=\"500\" align=\"left\">\n"
   ]
  },
  {
   "cell_type": "markdown",
   "metadata": {},
   "source": [
    "### <center>Anscombe's Quartet</center>\n",
    "\n",
    "For all four datasets below the Pearson correlation coefficient is: +0.816.\n",
    "\n",
    "<img src=\"images/cor2.png\" alt=\"drawing\" width=\"500\" align=\"left\">  \n",
    "\n",
    "\n",
    "[image source](http://commons.wikimedia.org/wiki/File:Anscombe%27s_quartet_3.svg)  \n"
   ]
  },
  {
   "cell_type": "markdown",
   "metadata": {},
   "source": [
    "#### Outlier Problem\n",
    "\n",
    "Outliers might dratically influence the correlation values, so one should be careful with outliers in the evaluation of correlation results."
   ]
  },
  {
   "cell_type": "code",
   "execution_count": 7,
   "metadata": {},
   "outputs": [
    {
     "data": {
      "text/plain": [
       "(0.0020896678072882535, 0.9957429791908522)"
      ]
     },
     "execution_count": 7,
     "metadata": {},
     "output_type": "execute_result"
    },
    {
     "data": {
      "image/png": "[encoded data removed]",
      "text/plain": [
       "<Figure size 432x288 with 1 Axes>"
      ]
     },
     "metadata": {
      "needs_background": "light"
     },
     "output_type": "display_data"
    }
   ],
   "source": [
    "# Example\n",
    "X = [13, 10, 6, 8, 12, 9, 18, 21, 6]\n",
    "Y = [3, 5, 7, 9, 11, 12, 17, 12, 24]\n",
    "plt.plot(X,Y, \"o\")\n",
    "stats.pearsonr(X,Y)"
   ]
  },
  {
   "cell_type": "code",
   "execution_count": 8,
   "metadata": {},
   "outputs": [
    {
     "data": {
      "text/plain": [
       "(0.9632125532618062, 7.664333701501002e-06)"
      ]
     },
     "execution_count": 8,
     "metadata": {},
     "output_type": "execute_result"
    },
    {
     "data": {
      "image/png": "[encoded data removed]",
      "text/plain": [
       "<Figure size 432x288 with 1 Axes>"
      ]
     },
     "metadata": {
      "needs_background": "light"
     },
     "output_type": "display_data"
    }
   ],
   "source": [
    "# After adding a single outlier\n",
    "X = [13, 10, 6, 8, 12, 9, 18, 21, 6, 100]\n",
    "Y = [3, 5, 7, 9, 11, 12, 17, 12, 24, 100]\n",
    "plt.plot(X,Y, \"o\")\n",
    "stats.pearsonr(X,Y)"
   ]
  },
  {
   "cell_type": "markdown",
   "metadata": {},
   "source": [
    "### Spearman rank correlation\n",
    "Spearman rank correlation is the Pearson correlation between the rank values of two variables.\n",
    "\n",
    "<img src=\"images/spearman.png\" style=\"max-width:100%; width: 40%\" align=\"left\">\n",
    "\n",
    "[image source](https://upload.wikimedia.org/wikipedia/commons/thumb/4/4e/Spearman_fig1.svg/600px-Spearman_fig1.svg.png)"
   ]
  },
  {
   "cell_type": "code",
   "execution_count": 9,
   "metadata": {},
   "outputs": [
    {
     "data": {
      "text/plain": [
       "SpearmanrResult(correlation=1.0, pvalue=0.0)"
      ]
     },
     "execution_count": 9,
     "metadata": {},
     "output_type": "execute_result"
    },
    {
     "data": {
      "image/png": "[encoded data removed]",
      "text/plain": [
       "<Figure size 432x288 with 1 Axes>"
      ]
     },
     "metadata": {
      "needs_background": "light"
     },
     "output_type": "display_data"
    }
   ],
   "source": [
    "# Example\n",
    "X = [2, 4, 6, 8, 12, 14, 18, 21, 23]\n",
    "Y = [3, 5, 7, 9, 11, 12, 17, 22, 24]\n",
    "\n",
    "plt.plot(X,Y, \"o\")\n",
    "stats.spearmanr(X,Y)"
   ]
  },
  {
   "cell_type": "code",
   "execution_count": 10,
   "metadata": {},
   "outputs": [
    {
     "name": "stdout",
     "output_type": "stream",
     "text": [
      "[1. 2. 3. 4. 5. 6. 7. 8. 9.]\n",
      "[1. 2. 3. 4. 5. 6. 7. 8. 9.]\n"
     ]
    }
   ],
   "source": [
    "print(stats.rankdata(X))\n",
    "print(stats.rankdata(Y))"
   ]
  },
  {
   "cell_type": "code",
   "execution_count": 11,
   "metadata": {},
   "outputs": [
    {
     "data": {
      "text/plain": [
       "SpearmanrResult(correlation=0.9833333333333333, pvalue=1.9361963037459243e-06)"
      ]
     },
     "execution_count": 11,
     "metadata": {},
     "output_type": "execute_result"
    },
    {
     "data": {
      "image/png": "[encoded data removed]",
      "text/plain": [
       "<Figure size 432x288 with 1 Axes>"
      ]
     },
     "metadata": {
      "needs_background": "light"
     },
     "output_type": "display_data"
    }
   ],
   "source": [
    "# Let us change the example a little\n",
    "X = [2, 4, 6, 8, 12, 14, 18, 21, 23]\n",
    "Y = [3, 5, 7, 9, 11, 10, 17, 22, 24]\n",
    "\n",
    "plt.plot(X,Y, \"o\")\n",
    "stats.spearmanr(X,Y)"
   ]
  },
  {
   "cell_type": "code",
   "execution_count": 12,
   "metadata": {},
   "outputs": [
    {
     "name": "stdout",
     "output_type": "stream",
     "text": [
      "[1. 2. 3. 4. 5. 6. 7. 8. 9.]\n",
      "[1. 2. 3. 4. 6. 5. 7. 8. 9.]\n"
     ]
    }
   ],
   "source": [
    "X_ranks = stats.rankdata(X)\n",
    "Y_ranks = stats.rankdata(Y)\n",
    "print(X_ranks); print(Y_ranks)"
   ]
  },
  {
   "cell_type": "code",
   "execution_count": 13,
   "metadata": {},
   "outputs": [
    {
     "data": {
      "text/plain": [
       "(0.9833333333333333, 1.936196303745927e-06)"
      ]
     },
     "execution_count": 13,
     "metadata": {},
     "output_type": "execute_result"
    }
   ],
   "source": [
    "stats.pearsonr(X_ranks,Y_ranks)"
   ]
  },
  {
   "cell_type": "markdown",
   "metadata": {},
   "source": [
    "### Kendall Rank Correlation"
   ]
  },
  {
   "cell_type": "code",
   "execution_count": 14,
   "metadata": {},
   "outputs": [],
   "source": [
    "def kendall_tau(x,y):\n",
    "    concordant = 0\n",
    "    discordant = 0\n",
    "    for i in range(len(x)):\n",
    "        for j in range(i+1, len(x)):\n",
    "            if ((x[i]-x[j]) * (y[i]-y[j])) > 0:\n",
    "                concordant += 1\n",
    "            else:\n",
    "                discordant += 1\n",
    "    return (concordant-discordant)/(concordant+discordant)"
   ]
  },
  {
   "cell_type": "code",
   "execution_count": 15,
   "metadata": {},
   "outputs": [
    {
     "data": {
      "text/plain": [
       "KendalltauResult(correlation=0.7777777777777777, pvalue=0.0009463183421516755)"
      ]
     },
     "execution_count": 15,
     "metadata": {},
     "output_type": "execute_result"
    },
    {
     "data": {
      "image/png": "[encoded data removed]",
      "text/plain": [
       "<Figure size 432x288 with 1 Axes>"
      ]
     },
     "metadata": {
      "needs_background": "light"
     },
     "output_type": "display_data"
    }
   ],
   "source": [
    "X = [1,2,3,4,5,6,7,8,9,10]\n",
    "Y = [2,1,4,3,6,5,8,7,10,9]\n",
    "plt.plot(X,Y, \"o\")\n",
    "stats.kendalltau(X,Y)"
   ]
  },
  {
   "cell_type": "code",
   "execution_count": 16,
   "metadata": {},
   "outputs": [
    {
     "data": {
      "text/plain": [
       "0.7777777777777778"
      ]
     },
     "execution_count": 16,
     "metadata": {},
     "output_type": "execute_result"
    }
   ],
   "source": [
    "kendall_tau(X,Y)"
   ]
  },
  {
   "cell_type": "markdown",
   "metadata": {},
   "source": [
    "### SelectKBest\n",
    "\n",
    "We can use SelectKBest to find features with the highest scores."
   ]
  },
  {
   "cell_type": "code",
   "execution_count": 19,
   "metadata": {},
   "outputs": [],
   "source": [
    "X = house.select_dtypes(include=np.number) # select numeric columns\n",
    "X = X.drop(\"SalePrice\", axis=1)\n",
    "y = house.loc[:,'SalePrice']\n",
    "X = X.fillna(X.mean())\n",
    "\n",
    "selector = SelectKBest(f_regression, k=4)\n",
    "selector.fit(X, y);"
   ]
  },
  {
   "cell_type": "code",
   "execution_count": 20,
   "metadata": {},
   "outputs": [
    {
     "data": {
      "text/html": [
       "<div>\n",
       "<style scoped>\n",
       "    .dataframe tbody tr th:only-of-type {\n",
       "        vertical-align: middle;\n",
       "    }\n",
       "\n",
       "    .dataframe tbody tr th {\n",
       "        vertical-align: top;\n",
       "    }\n",
       "\n",
       "    .dataframe thead th {\n",
       "        text-align: right;\n",
       "    }\n",
       "</style>\n",
       "<table border=\"1\" class=\"dataframe\">\n",
       "  <thead>\n",
       "    <tr style=\"text-align: right;\">\n",
       "      <th></th>\n",
       "      <th>features</th>\n",
       "      <th>values</th>\n",
       "      <th>p-values</th>\n",
       "    </tr>\n",
       "  </thead>\n",
       "  <tbody>\n",
       "    <tr>\n",
       "      <th>0</th>\n",
       "      <td>OverallQual</td>\n",
       "      <td>2436.770591</td>\n",
       "      <td>2.185675e-313</td>\n",
       "    </tr>\n",
       "    <tr>\n",
       "      <th>1</th>\n",
       "      <td>GrLivArea</td>\n",
       "      <td>1470.585010</td>\n",
       "      <td>4.518034e-223</td>\n",
       "    </tr>\n",
       "    <tr>\n",
       "      <th>2</th>\n",
       "      <td>GarageCars</td>\n",
       "      <td>1013.705666</td>\n",
       "      <td>2.498644e-169</td>\n",
       "    </tr>\n",
       "    <tr>\n",
       "      <th>3</th>\n",
       "      <td>GarageArea</td>\n",
       "      <td>926.951287</td>\n",
       "      <td>5.265038e-158</td>\n",
       "    </tr>\n",
       "    <tr>\n",
       "      <th>4</th>\n",
       "      <td>TotalBsmtSF</td>\n",
       "      <td>880.341282</td>\n",
       "      <td>9.484229e-152</td>\n",
       "    </tr>\n",
       "    <tr>\n",
       "      <th>5</th>\n",
       "      <td>1stFlrSF</td>\n",
       "      <td>845.524488</td>\n",
       "      <td>5.394711e-147</td>\n",
       "    </tr>\n",
       "    <tr>\n",
       "      <th>6</th>\n",
       "      <td>FullBath</td>\n",
       "      <td>668.430296</td>\n",
       "      <td>1.236470e-121</td>\n",
       "    </tr>\n",
       "    <tr>\n",
       "      <th>7</th>\n",
       "      <td>TotRmsAbvGrd</td>\n",
       "      <td>580.762801</td>\n",
       "      <td>2.772281e-108</td>\n",
       "    </tr>\n",
       "    <tr>\n",
       "      <th>8</th>\n",
       "      <td>YearBuilt</td>\n",
       "      <td>548.665821</td>\n",
       "      <td>2.990229e-103</td>\n",
       "    </tr>\n",
       "    <tr>\n",
       "      <th>9</th>\n",
       "      <td>YearRemodAdd</td>\n",
       "      <td>504.714855</td>\n",
       "      <td>3.164948e-96</td>\n",
       "    </tr>\n",
       "    <tr>\n",
       "      <th>10</th>\n",
       "      <td>MasVnrArea</td>\n",
       "      <td>425.366422</td>\n",
       "      <td>3.924712e-83</td>\n",
       "    </tr>\n",
       "    <tr>\n",
       "      <th>11</th>\n",
       "      <td>GarageYrBlt</td>\n",
       "      <td>413.790894</td>\n",
       "      <td>3.550785e-81</td>\n",
       "    </tr>\n",
       "    <tr>\n",
       "      <th>12</th>\n",
       "      <td>Fireplaces</td>\n",
       "      <td>406.503866</td>\n",
       "      <td>6.141487e-80</td>\n",
       "    </tr>\n",
       "    <tr>\n",
       "      <th>13</th>\n",
       "      <td>BsmtFinSF1</td>\n",
       "      <td>255.923517</td>\n",
       "      <td>3.394110e-53</td>\n",
       "    </tr>\n",
       "    <tr>\n",
       "      <th>14</th>\n",
       "      <td>LotFrontage</td>\n",
       "      <td>184.185156</td>\n",
       "      <td>1.346651e-39</td>\n",
       "    </tr>\n",
       "    <tr>\n",
       "      <th>15</th>\n",
       "      <td>WoodDeckSF</td>\n",
       "      <td>171.494673</td>\n",
       "      <td>3.972217e-37</td>\n",
       "    </tr>\n",
       "    <tr>\n",
       "      <th>16</th>\n",
       "      <td>2ndFlrSF</td>\n",
       "      <td>165.561151</td>\n",
       "      <td>5.764335e-36</td>\n",
       "    </tr>\n",
       "    <tr>\n",
       "      <th>17</th>\n",
       "      <td>OpenPorchSF</td>\n",
       "      <td>161.577391</td>\n",
       "      <td>3.493374e-35</td>\n",
       "    </tr>\n",
       "    <tr>\n",
       "      <th>18</th>\n",
       "      <td>HalfBath</td>\n",
       "      <td>128.018964</td>\n",
       "      <td>1.650473e-28</td>\n",
       "    </tr>\n",
       "    <tr>\n",
       "      <th>19</th>\n",
       "      <td>LotArea</td>\n",
       "      <td>109.090355</td>\n",
       "      <td>1.123139e-24</td>\n",
       "    </tr>\n",
       "    <tr>\n",
       "      <th>20</th>\n",
       "      <td>BsmtFullBath</td>\n",
       "      <td>79.300912</td>\n",
       "      <td>1.550344e-18</td>\n",
       "    </tr>\n",
       "    <tr>\n",
       "      <th>21</th>\n",
       "      <td>BsmtUnfSF</td>\n",
       "      <td>70.303948</td>\n",
       "      <td>1.182976e-16</td>\n",
       "    </tr>\n",
       "    <tr>\n",
       "      <th>22</th>\n",
       "      <td>BedroomAbvGr</td>\n",
       "      <td>42.456412</td>\n",
       "      <td>9.927497e-11</td>\n",
       "    </tr>\n",
       "    <tr>\n",
       "      <th>23</th>\n",
       "      <td>KitchenAbvGr</td>\n",
       "      <td>27.437234</td>\n",
       "      <td>1.860426e-07</td>\n",
       "    </tr>\n",
       "    <tr>\n",
       "      <th>24</th>\n",
       "      <td>EnclosedPorch</td>\n",
       "      <td>24.509275</td>\n",
       "      <td>8.255770e-07</td>\n",
       "    </tr>\n",
       "    <tr>\n",
       "      <th>25</th>\n",
       "      <td>ScreenPorch</td>\n",
       "      <td>18.336600</td>\n",
       "      <td>1.972140e-05</td>\n",
       "    </tr>\n",
       "    <tr>\n",
       "      <th>26</th>\n",
       "      <td>PoolArea</td>\n",
       "      <td>12.556221</td>\n",
       "      <td>4.073490e-04</td>\n",
       "    </tr>\n",
       "    <tr>\n",
       "      <th>27</th>\n",
       "      <td>MSSubClass</td>\n",
       "      <td>10.431466</td>\n",
       "      <td>1.266472e-03</td>\n",
       "    </tr>\n",
       "    <tr>\n",
       "      <th>28</th>\n",
       "      <td>OverallCond</td>\n",
       "      <td>8.891623</td>\n",
       "      <td>2.912351e-03</td>\n",
       "    </tr>\n",
       "    <tr>\n",
       "      <th>29</th>\n",
       "      <td>MoSold</td>\n",
       "      <td>3.150172</td>\n",
       "      <td>7.612758e-02</td>\n",
       "    </tr>\n",
       "    <tr>\n",
       "      <th>30</th>\n",
       "      <td>3SsnPorch</td>\n",
       "      <td>2.903843</td>\n",
       "      <td>8.858170e-02</td>\n",
       "    </tr>\n",
       "    <tr>\n",
       "      <th>31</th>\n",
       "      <td>YrSold</td>\n",
       "      <td>1.220661</td>\n",
       "      <td>2.694132e-01</td>\n",
       "    </tr>\n",
       "    <tr>\n",
       "      <th>32</th>\n",
       "      <td>LowQualFinSF</td>\n",
       "      <td>0.956600</td>\n",
       "      <td>3.282073e-01</td>\n",
       "    </tr>\n",
       "    <tr>\n",
       "      <th>33</th>\n",
       "      <td>Id</td>\n",
       "      <td>0.700676</td>\n",
       "      <td>4.026938e-01</td>\n",
       "    </tr>\n",
       "    <tr>\n",
       "      <th>34</th>\n",
       "      <td>MiscVal</td>\n",
       "      <td>0.654934</td>\n",
       "      <td>4.184863e-01</td>\n",
       "    </tr>\n",
       "    <tr>\n",
       "      <th>35</th>\n",
       "      <td>BsmtHalfBath</td>\n",
       "      <td>0.413789</td>\n",
       "      <td>5.201536e-01</td>\n",
       "    </tr>\n",
       "    <tr>\n",
       "      <th>36</th>\n",
       "      <td>BsmtFinSF2</td>\n",
       "      <td>0.188780</td>\n",
       "      <td>6.639987e-01</td>\n",
       "    </tr>\n",
       "  </tbody>\n",
       "</table>\n",
       "</div>"
      ],
      "text/plain": [
       "         features       values       p-values\n",
       "0     OverallQual  2436.770591  2.185675e-313\n",
       "1       GrLivArea  1470.585010  4.518034e-223\n",
       "2      GarageCars  1013.705666  2.498644e-169\n",
       "3      GarageArea   926.951287  5.265038e-158\n",
       "4     TotalBsmtSF   880.341282  9.484229e-152\n",
       "5        1stFlrSF   845.524488  5.394711e-147\n",
       "6        FullBath   668.430296  1.236470e-121\n",
       "7    TotRmsAbvGrd   580.762801  2.772281e-108\n",
       "8       YearBuilt   548.665821  2.990229e-103\n",
       "9    YearRemodAdd   504.714855   3.164948e-96\n",
       "10     MasVnrArea   425.366422   3.924712e-83\n",
       "11    GarageYrBlt   413.790894   3.550785e-81\n",
       "12     Fireplaces   406.503866   6.141487e-80\n",
       "13     BsmtFinSF1   255.923517   3.394110e-53\n",
       "14    LotFrontage   184.185156   1.346651e-39\n",
       "15     WoodDeckSF   171.494673   3.972217e-37\n",
       "16       2ndFlrSF   165.561151   5.764335e-36\n",
       "17    OpenPorchSF   161.577391   3.493374e-35\n",
       "18       HalfBath   128.018964   1.650473e-28\n",
       "19        LotArea   109.090355   1.123139e-24\n",
       "20   BsmtFullBath    79.300912   1.550344e-18\n",
       "21      BsmtUnfSF    70.303948   1.182976e-16\n",
       "22   BedroomAbvGr    42.456412   9.927497e-11\n",
       "23   KitchenAbvGr    27.437234   1.860426e-07\n",
       "24  EnclosedPorch    24.509275   8.255770e-07\n",
       "25    ScreenPorch    18.336600   1.972140e-05\n",
       "26       PoolArea    12.556221   4.073490e-04\n",
       "27     MSSubClass    10.431466   1.266472e-03\n",
       "28    OverallCond     8.891623   2.912351e-03\n",
       "29         MoSold     3.150172   7.612758e-02\n",
       "30      3SsnPorch     2.903843   8.858170e-02\n",
       "31         YrSold     1.220661   2.694132e-01\n",
       "32   LowQualFinSF     0.956600   3.282073e-01\n",
       "33             Id     0.700676   4.026938e-01\n",
       "34        MiscVal     0.654934   4.184863e-01\n",
       "35   BsmtHalfBath     0.413789   5.201536e-01\n",
       "36     BsmtFinSF2     0.188780   6.639987e-01"
      ]
     },
     "execution_count": 20,
     "metadata": {},
     "output_type": "execute_result"
    }
   ],
   "source": [
    "sorted_idx = np.argsort(selector.scores_)[::-1]\n",
    "sorted_vals = np.sort(selector.scores_)[::-1]\n",
    "\n",
    "d = {\"features\":X.columns[sorted_idx], \"values\":sorted_vals, \"p-values\":selector.pvalues_[sorted_idx]}\n",
    "df = pd.DataFrame(d)\n",
    "df"
   ]
  },
  {
   "cell_type": "markdown",
   "metadata": {},
   "source": [
    "The values shown are not Pearson correlation values but instead F-statistic which is calculated as follows:\n",
    "\n",
    "$$\n",
    "\\frac{r^2}{1-r^2}*(n-2)\n",
    "$$\n",
    "\n",
    "where $r$ is the Pearson correlation, and $n$ is the number of examples. As shown in the following figure since this is a strictly growing function between -1 and 1, the order of the features is the same as $r$."
   ]
  },
  {
   "cell_type": "code",
   "execution_count": 21,
   "metadata": {},
   "outputs": [
    {
     "name": "stderr",
     "output_type": "stream",
     "text": [
      "/Users/tevfikaytekin/anaconda3/lib/python3.7/site-packages/ipykernel_launcher.py:2: RuntimeWarning: divide by zero encountered in true_divide\n",
      "  \n"
     ]
    },
    {
     "data": {
      "text/plain": [
       "[<matplotlib.lines.Line2D at 0x7fa36727b250>]"
      ]
     },
     "execution_count": 21,
     "metadata": {},
     "output_type": "execute_result"
    },
    {
     "data": {
      "image/png": "[encoded data removed]",
      "text/plain": [
       "<Figure size 432x288 with 1 Axes>"
      ]
     },
     "metadata": {
      "needs_background": "light"
     },
     "output_type": "display_data"
    }
   ],
   "source": [
    "x = np.arange(-1,1,0.01)\n",
    "y = x**2/(1-x**2)\n",
    "plt.plot(x,y)"
   ]
  },
  {
   "cell_type": "markdown",
   "metadata": {},
   "source": [
    "# Case 2: Numerical Input vs. Categorical Output\n"
   ]
  },
  {
   "cell_type": "markdown",
   "metadata": {},
   "source": [
    "Now we will try to see if a numerical feature is relevant for a categorical class variable. One thing we can do is to look at the distribution of the numerical variable grouped by each value of the categorical variable. If the categorical and numerical variables are independent then we expect to see a similar distribution of the values of the numerical variable for each value of the categorical variable (i.e., the grouping of the numerical variable by the values of the categorical variable should not create any difference). But if the distributions are not similar then we may say that the numerical variable is relevant and also as the dissimilarity of the distributions increase it is reasonable to assume that the relevancy also increases. Of course we need some formula to measure similarity of distributions. Note that there can be two or more distributions. So our measure should work for two or more distributions. One such measure is Anova F-value.\n",
    "\n",
    "F-statistic is a way of measuring the difference between sample distributions which is defined below. Further below you will find the implementation.\n",
    "\n",
    "$$ F = \\frac{Variation\\: between\\: sample\\: means}{Variation\\: witin\\: the\\: samples} $$\n",
    "\n",
    "\n",
    "**Look at the following figures and try to answer this question: are these groups come from the same population or not? How can we measure this probability, that is, the probability of coming form the same distribution?**"
   ]
  },
  {
   "cell_type": "code",
   "execution_count": 22,
   "metadata": {},
   "outputs": [
    {
     "data": {
      "text/plain": [
       "<matplotlib.axes._subplots.AxesSubplot at 0x7fa36709b990>"
      ]
     },
     "execution_count": 22,
     "metadata": {},
     "output_type": "execute_result"
    },
    {
     "data": {
      "image/png": "[encoded data removed]",
      "text/plain": [
       "<Figure size 864x720 with 4 Axes>"
      ]
     },
     "metadata": {
      "needs_background": "light"
     },
     "output_type": "display_data"
    }
   ],
   "source": [
    "f, ax = plt.subplots(2,2)\n",
    "ax[0,0].set_xlim(-10,10)\n",
    "f.set_size_inches(12,10)\n",
    "\n",
    "x = np.arange(-10, 10, 0.01)\n",
    "sns.lineplot(x=x, y=stats.norm.pdf(x,-1,1), ax= ax[0,0])\n",
    "sns.lineplot(x=x, y=stats.norm.pdf(x,1,1), ax= ax[0,0])\n",
    "\n",
    "ax[0,1].set_xlim(-10,10)\n",
    "sns.lineplot(x=x, y=stats.norm.pdf(x,-5,1), ax= ax[0,1])\n",
    "sns.lineplot(x=x, y=stats.norm.pdf(x,5,1), ax= ax[0,1])\n",
    "\n",
    "ax[1,0].set_xlim(-10,10)\n",
    "sns.lineplot(x=x, y=stats.norm.pdf(x,-1,5), ax= ax[1,0])\n",
    "sns.lineplot(x=x, y=stats.norm.pdf(x,1,5), ax= ax[1,0])\n",
    "\n",
    "\n",
    "# Mean = 0, Std = 2. You can play wth these parameters.\n"
   ]
  },
  {
   "cell_type": "code",
   "execution_count": 23,
   "metadata": {},
   "outputs": [
    {
     "data": {
      "image/png": "[encoded data removed]",
      "text/plain": [
       "<Figure size 864x720 with 4 Axes>"
      ]
     },
     "metadata": {
      "needs_background": "light"
     },
     "output_type": "display_data"
    }
   ],
   "source": [
    "f, ax = plt.subplots(2,2)\n",
    "f.set_size_inches(12,10)\n",
    "sns.boxplot(y=\"age\", x=\"y\", data= bank, ax = ax[0,0]);\n",
    "sns.boxplot(y=\"duration\", x=\"y\", data= bank, ax = ax[0,1]);\n",
    "sns.boxplot(x=\"MSZoning\", y=\"SalePrice\", data= house, ax = ax[1,0]);\n",
    "sns.boxplot(x=\"SaleCondition\", y=\"SalePrice\", data= house, ax = ax[1,1]);\n"
   ]
  },
  {
   "cell_type": "code",
   "execution_count": null,
   "metadata": {},
   "outputs": [],
   "source": []
  },
  {
   "cell_type": "code",
   "execution_count": 24,
   "metadata": {},
   "outputs": [
    {
     "data": {
      "text/plain": [
       "array([<matplotlib.axes._subplots.AxesSubplot object at 0x7fa36833d710>,\n",
       "       <matplotlib.axes._subplots.AxesSubplot object at 0x7fa36850b550>],\n",
       "      dtype=object)"
      ]
     },
     "execution_count": 24,
     "metadata": {},
     "output_type": "execute_result"
    },
    {
     "data": {
      "image/png": "[encoded data removed]",
      "text/plain": [
       "<Figure size 432x288 with 2 Axes>"
      ]
     },
     "metadata": {
      "needs_background": "light"
     },
     "output_type": "display_data"
    }
   ],
   "source": [
    "bank[\"age\"].hist(by=bank[\"y\"])"
   ]
  },
  {
   "cell_type": "markdown",
   "metadata": {},
   "source": [
    "Below is the result of one-way anova test. As can be seen the result is statistically significant, so smaller age indeeds affects the result in the positive way, however, what is the size of this affect? If we look at the above plots the distribution of ages are not that much different, fvalue is t\n"
   ]
  },
  {
   "cell_type": "code",
   "execution_count": 25,
   "metadata": {},
   "outputs": [
    {
     "name": "stdout",
     "output_type": "stream",
     "text": [
      "28.625233091728465 8.825643691900577e-08\n"
     ]
    }
   ],
   "source": [
    "group1 = bank[bank[\"y\"]==\"yes\"].age\n",
    "group2 = bank[bank[\"y\"]==\"no\"].age\n",
    "fvalue, pvalue = stats.f_oneway(group1, group2)\n",
    "print(fvalue, pvalue)\n"
   ]
  },
  {
   "cell_type": "markdown",
   "metadata": {},
   "source": [
    "Let us calculate the f-value from scratch."
   ]
  },
  {
   "cell_type": "code",
   "execution_count": 26,
   "metadata": {},
   "outputs": [],
   "source": [
    "def f_statistic(*groups):\n",
    "    \n",
    "    merged_groups = np.concatenate(groups)\n",
    "    grand_mean = np.mean(merged_groups)\n",
    "    ss_total = sum((merged_groups - grand_mean)**2)    \n",
    "    group_means = [np.mean(g) for g in groups]\n",
    "    ss_within = 0\n",
    "    ss_between = 0\n",
    "    for i in range(len(groups)):\n",
    "        x = groups[i] - group_means[i]\n",
    "        ss_within += np.sum((groups[i] - group_means[i])**2)\n",
    "        ss_between += groups[i].size * (group_means[i] - grand_mean)**2\n",
    "        \n",
    "    df1 = len(groups) - 1\n",
    "    df2 = merged_groups.size - len(groups)\n",
    "    f_stat = (ss_between / df1) / (ss_within / df2)\n",
    "    \n",
    "    #print(ss_between / df1)\n",
    "    #print(ss_within / df2)\n",
    "    #print(ss_total,\" \",ss_within,\" \", ss_between)\n",
    "    #print(ss_within + ss_between)\n",
    "    #print(f_statistic)\n",
    "    \n",
    "    return f_stat"
   ]
  },
  {
   "cell_type": "code",
   "execution_count": 27,
   "metadata": {},
   "outputs": [
    {
     "data": {
      "text/plain": [
       "28.62523309172829"
      ]
     },
     "execution_count": 27,
     "metadata": {},
     "output_type": "execute_result"
    }
   ],
   "source": [
    "group1 = bank[bank[\"y\"]==\"yes\"].age.values\n",
    "group2 = bank[bank[\"y\"]==\"no\"].age.values\n",
    "f_statistic(group1, group2)\n"
   ]
  },
  {
   "cell_type": "code",
   "execution_count": 28,
   "metadata": {},
   "outputs": [
    {
     "name": "stderr",
     "output_type": "stream",
     "text": [
      "/Users/tevfikaytekin/anaconda3/lib/python3.7/site-packages/numpy/core/_asarray.py:83: VisibleDeprecationWarning: Creating an ndarray from ragged nested sequences (which is a list-or-tuple of lists-or-tuples-or ndarrays with different lengths or shapes) is deprecated. If you meant to do this, you must specify 'dtype=object' when creating the ndarray\n",
      "  return array(a, dtype, copy=False, order=order)\n"
     ]
    },
    {
     "data": {
      "text/plain": [
       "<matplotlib.axes._subplots.AxesSubplot at 0x7fa36858ad50>"
      ]
     },
     "execution_count": 28,
     "metadata": {},
     "output_type": "execute_result"
    },
    {
     "data": {
      "image/png": "[encoded data removed]",
      "text/plain": [
       "<Figure size 432x288 with 1 Axes>"
      ]
     },
     "metadata": {
      "needs_background": "light"
     },
     "output_type": "display_data"
    }
   ],
   "source": [
    "bank.boxplot(column=[\"balance\"], by=\"y\")"
   ]
  },
  {
   "cell_type": "code",
   "execution_count": 29,
   "metadata": {},
   "outputs": [
    {
     "name": "stderr",
     "output_type": "stream",
     "text": [
      "/Users/tevfikaytekin/anaconda3/lib/python3.7/site-packages/numpy/core/_asarray.py:83: VisibleDeprecationWarning: Creating an ndarray from ragged nested sequences (which is a list-or-tuple of lists-or-tuples-or ndarrays with different lengths or shapes) is deprecated. If you meant to do this, you must specify 'dtype=object' when creating the ndarray\n",
      "  return array(a, dtype, copy=False, order=order)\n"
     ]
    },
    {
     "data": {
      "text/plain": [
       "<matplotlib.axes._subplots.AxesSubplot at 0x7fa3693d4410>"
      ]
     },
     "execution_count": 29,
     "metadata": {},
     "output_type": "execute_result"
    },
    {
     "data": {
      "image/png": "[encoded data removed]",
      "text/plain": [
       "<Figure size 432x288 with 1 Axes>"
      ]
     },
     "metadata": {
      "needs_background": "light"
     },
     "output_type": "display_data"
    }
   ],
   "source": [
    "bank2 = bank[(bank.balance < 5000)]\n",
    "bank2.boxplot(column=[\"balance\"], by=\"y\")"
   ]
  },
  {
   "cell_type": "code",
   "execution_count": 30,
   "metadata": {},
   "outputs": [
    {
     "name": "stdout",
     "output_type": "stream",
     "text": [
      "126.57227551143087 2.5211136918594683e-29\n"
     ]
    }
   ],
   "source": [
    "group1 = bank[bank[\"y\"]==\"yes\"].balance\n",
    "group2 = bank[bank[\"y\"]==\"no\"].balance\n",
    "fvalue, pvalue = stats.f_oneway(group1, group2)\n",
    "print(fvalue, pvalue)"
   ]
  },
  {
   "cell_type": "code",
   "execution_count": 31,
   "metadata": {},
   "outputs": [
    {
     "name": "stderr",
     "output_type": "stream",
     "text": [
      "/Users/tevfikaytekin/anaconda3/lib/python3.7/site-packages/numpy/core/_asarray.py:83: VisibleDeprecationWarning: Creating an ndarray from ragged nested sequences (which is a list-or-tuple of lists-or-tuples-or ndarrays with different lengths or shapes) is deprecated. If you meant to do this, you must specify 'dtype=object' when creating the ndarray\n",
      "  return array(a, dtype, copy=False, order=order)\n"
     ]
    },
    {
     "data": {
      "text/plain": [
       "<matplotlib.axes._subplots.AxesSubplot at 0x7fa366da51d0>"
      ]
     },
     "execution_count": 31,
     "metadata": {},
     "output_type": "execute_result"
    },
    {
     "data": {
      "image/png": "[encoded data removed]",
      "text/plain": [
       "<Figure size 432x288 with 1 Axes>"
      ]
     },
     "metadata": {
      "needs_background": "light"
     },
     "output_type": "display_data"
    }
   ],
   "source": [
    "bank2 = bank[(bank.duration < 2000)]\n",
    "bank2.boxplot(column=[\"duration\"], by=\"y\")"
   ]
  },
  {
   "cell_type": "code",
   "execution_count": 32,
   "metadata": {},
   "outputs": [
    {
     "name": "stdout",
     "output_type": "stream",
     "text": [
      "8333.761148332413 0.0\n"
     ]
    }
   ],
   "source": [
    "group1 = bank[bank[\"y\"]==\"yes\"].duration\n",
    "group2 = bank[bank[\"y\"]==\"no\"].duration\n",
    "fvalue, pvalue = stats.f_oneway(group1, group2)\n",
    "print(fvalue, pvalue)"
   ]
  },
  {
   "cell_type": "markdown",
   "metadata": {},
   "source": [
    "### SelectKBest\n",
    "\n",
    "We can use SelectKBest to find features with the highest scores."
   ]
  },
  {
   "cell_type": "code",
   "execution_count": 33,
   "metadata": {},
   "outputs": [
    {
     "data": {
      "text/plain": [
       "SelectKBest(k=4, score_func=<function f_classif at 0x7fa366f0ed40>)"
      ]
     },
     "execution_count": 33,
     "metadata": {},
     "output_type": "execute_result"
    }
   ],
   "source": [
    "X = bank.loc[:,'age':'poutcome']\n",
    "X = bank.select_dtypes(include=np.number) # select numeric columns\n",
    "\n",
    "y = bank.loc[:,'y']\n",
    "y = y.replace([\"yes\",\"no\"],[1,-1])\n",
    "selector = SelectKBest(f_classif, k=4)\n",
    "selector.fit(X, y)"
   ]
  },
  {
   "cell_type": "code",
   "execution_count": 34,
   "metadata": {},
   "outputs": [
    {
     "data": {
      "text/html": [
       "<div>\n",
       "<style scoped>\n",
       "    .dataframe tbody tr th:only-of-type {\n",
       "        vertical-align: middle;\n",
       "    }\n",
       "\n",
       "    .dataframe tbody tr th {\n",
       "        vertical-align: top;\n",
       "    }\n",
       "\n",
       "    .dataframe thead th {\n",
       "        text-align: right;\n",
       "    }\n",
       "</style>\n",
       "<table border=\"1\" class=\"dataframe\">\n",
       "  <thead>\n",
       "    <tr style=\"text-align: right;\">\n",
       "      <th></th>\n",
       "      <th>features</th>\n",
       "      <th>values</th>\n",
       "      <th>p-values</th>\n",
       "    </tr>\n",
       "  </thead>\n",
       "  <tbody>\n",
       "    <tr>\n",
       "      <th>0</th>\n",
       "      <td>duration</td>\n",
       "      <td>8333.761148</td>\n",
       "      <td>0.000000e+00</td>\n",
       "    </tr>\n",
       "    <tr>\n",
       "      <th>1</th>\n",
       "      <td>pdays</td>\n",
       "      <td>490.696563</td>\n",
       "      <td>3.790553e-108</td>\n",
       "    </tr>\n",
       "    <tr>\n",
       "      <th>2</th>\n",
       "      <td>previous</td>\n",
       "      <td>396.443989</td>\n",
       "      <td>7.801830e-88</td>\n",
       "    </tr>\n",
       "    <tr>\n",
       "      <th>3</th>\n",
       "      <td>campaign</td>\n",
       "      <td>243.358404</td>\n",
       "      <td>1.012347e-54</td>\n",
       "    </tr>\n",
       "    <tr>\n",
       "      <th>4</th>\n",
       "      <td>balance</td>\n",
       "      <td>126.572276</td>\n",
       "      <td>2.521114e-29</td>\n",
       "    </tr>\n",
       "    <tr>\n",
       "      <th>5</th>\n",
       "      <td>day</td>\n",
       "      <td>36.359010</td>\n",
       "      <td>1.653880e-09</td>\n",
       "    </tr>\n",
       "    <tr>\n",
       "      <th>6</th>\n",
       "      <td>age</td>\n",
       "      <td>28.625233</td>\n",
       "      <td>8.825644e-08</td>\n",
       "    </tr>\n",
       "  </tbody>\n",
       "</table>\n",
       "</div>"
      ],
      "text/plain": [
       "   features       values       p-values\n",
       "0  duration  8333.761148   0.000000e+00\n",
       "1     pdays   490.696563  3.790553e-108\n",
       "2  previous   396.443989   7.801830e-88\n",
       "3  campaign   243.358404   1.012347e-54\n",
       "4   balance   126.572276   2.521114e-29\n",
       "5       day    36.359010   1.653880e-09\n",
       "6       age    28.625233   8.825644e-08"
      ]
     },
     "execution_count": 34,
     "metadata": {},
     "output_type": "execute_result"
    }
   ],
   "source": [
    "sorted_idx = np.argsort(selector.scores_)[::-1]\n",
    "sorted_vals = np.sort(selector.scores_)[::-1]\n",
    "\n",
    "d = {\"features\":X.columns[sorted_idx], \"values\":sorted_vals, \"p-values\":selector.pvalues_[sorted_idx]}\n",
    "df = pd.DataFrame(d)\n",
    "df"
   ]
  },
  {
   "cell_type": "markdown",
   "metadata": {},
   "source": [
    "### More than two groups"
   ]
  },
  {
   "cell_type": "code",
   "execution_count": 35,
   "metadata": {},
   "outputs": [
    {
     "name": "stderr",
     "output_type": "stream",
     "text": [
      "/Users/tevfikaytekin/anaconda3/lib/python3.7/site-packages/numpy/core/_asarray.py:83: VisibleDeprecationWarning: Creating an ndarray from ragged nested sequences (which is a list-or-tuple of lists-or-tuples-or ndarrays with different lengths or shapes) is deprecated. If you meant to do this, you must specify 'dtype=object' when creating the ndarray\n",
      "  return array(a, dtype, copy=False, order=order)\n"
     ]
    },
    {
     "data": {
      "text/plain": [
       "<matplotlib.axes._subplots.AxesSubplot at 0x7fa365c9ae50>"
      ]
     },
     "execution_count": 35,
     "metadata": {},
     "output_type": "execute_result"
    },
    {
     "data": {
      "image/png": "[encoded data removed]",
      "text/plain": [
       "<Figure size 432x288 with 1 Axes>"
      ]
     },
     "metadata": {
      "needs_background": "light"
     },
     "output_type": "display_data"
    }
   ],
   "source": [
    "bank.boxplot(column=[\"age\"], by=\"education\")"
   ]
  },
  {
   "cell_type": "code",
   "execution_count": 36,
   "metadata": {},
   "outputs": [
    {
     "name": "stdout",
     "output_type": "stream",
     "text": [
      "731.7577454812724 0.0\n"
     ]
    }
   ],
   "source": [
    "group1 = bank[bank[\"education\"]==\"primary\"].age\n",
    "group2 = bank[bank[\"education\"]==\"secondary\"].age\n",
    "group3 = bank[bank[\"education\"]==\"tertiary\"].age\n",
    "group4 = bank[bank[\"education\"]==\"unknown\"].age\n",
    "\n",
    "fvalue, pvalue = stats.f_oneway(group1, group2, group3, group4)\n",
    "print(fvalue, pvalue)"
   ]
  },
  {
   "cell_type": "code",
   "execution_count": 37,
   "metadata": {},
   "outputs": [
    {
     "name": "stderr",
     "output_type": "stream",
     "text": [
      "/Users/tevfikaytekin/anaconda3/lib/python3.7/site-packages/numpy/core/_asarray.py:83: VisibleDeprecationWarning: Creating an ndarray from ragged nested sequences (which is a list-or-tuple of lists-or-tuples-or ndarrays with different lengths or shapes) is deprecated. If you meant to do this, you must specify 'dtype=object' when creating the ndarray\n",
      "  return array(a, dtype, copy=False, order=order)\n"
     ]
    },
    {
     "data": {
      "text/plain": [
       "<matplotlib.axes._subplots.AxesSubplot at 0x7fa36a4be850>"
      ]
     },
     "execution_count": 37,
     "metadata": {},
     "output_type": "execute_result"
    },
    {
     "data": {
      "image/png": "[encoded data removed]",
      "text/plain": [
       "<Figure size 432x288 with 1 Axes>"
      ]
     },
     "metadata": {
      "needs_background": "light"
     },
     "output_type": "display_data"
    }
   ],
   "source": [
    "bank.boxplot(column=[\"age\"], by=\"marital\")"
   ]
  },
  {
   "cell_type": "code",
   "execution_count": 38,
   "metadata": {},
   "outputs": [
    {
     "name": "stdout",
     "output_type": "stream",
     "text": [
      "5228.732920484922 0.0\n"
     ]
    }
   ],
   "source": [
    "group1 = bank[bank[\"marital\"]==\"single\"].age\n",
    "group2 = bank[bank[\"marital\"]==\"married\"].age\n",
    "group3 = bank[bank[\"marital\"]==\"divorced\"].age\n",
    "\n",
    "\n",
    "fvalue, pvalue = stats.f_oneway(group1, group2, group3)\n",
    "print(fvalue, pvalue)"
   ]
  },
  {
   "cell_type": "markdown",
   "metadata": {},
   "source": [
    "# Case 3: Categorical Input vs. Numerical Output\n",
    "\n",
    "Actually this case is essentially the same as case 3, so we can use F-value.\n"
   ]
  },
  {
   "cell_type": "markdown",
   "metadata": {},
   "source": [
    "# Case 4: Categorical Input vs. Categorical Output\n",
    "\n",
    "When the input feature is categorical and the class is also categorical, the most common measures used are chi-square test and mutual information.\n"
   ]
  },
  {
   "cell_type": "markdown",
   "metadata": {},
   "source": [
    "## Chi Square Test"
   ]
  },
  {
   "cell_type": "markdown",
   "metadata": {},
   "source": [
    "As an example let us consider if there is a relationship between marital status and the class y for the banking dataset. Chi-square test relies on a contingency table. "
   ]
  },
  {
   "cell_type": "code",
   "execution_count": 39,
   "metadata": {},
   "outputs": [],
   "source": [
    "group1 = np.unique(bank.y)\n",
    "group2 = np.unique(bank.marital)\n",
    "con_table = np.zeros((len(group1),len(group2)))\n",
    "for i in range(len(group1)):\n",
    "    for j in range(len(group2)):\n",
    "        con_table[i][j] = sum((bank.y == group1[i]) & (bank.marital == group2[j]))"
   ]
  },
  {
   "cell_type": "code",
   "execution_count": 40,
   "metadata": {},
   "outputs": [],
   "source": [
    "def calc_contingency_table(df, a1, a2):\n",
    "    group1 = np.unique(df[a1])\n",
    "    group2 = np.unique(df[a2])\n",
    "    con_table = np.zeros((len(group1),len(group2)))\n",
    "    for i in range(len(group1)):\n",
    "        for j in range(len(group2)):\n",
    "            con_table[i][j] = sum((df[a1] == group1[i]) & (df[a2] == group2[j]))\n",
    "    return con_table, group1, group1"
   ]
  },
  {
   "cell_type": "code",
   "execution_count": 41,
   "metadata": {},
   "outputs": [
    {
     "name": "stdout",
     "output_type": "stream",
     "text": [
      "['no' 'yes']\n"
     ]
    }
   ],
   "source": [
    "x,a,b = calc_contingency_table(bank,\"y\",\"marital\")\n",
    "print(a)"
   ]
  },
  {
   "cell_type": "code",
   "execution_count": 42,
   "metadata": {},
   "outputs": [
    {
     "data": {
      "text/plain": [
       "array([[ 4585., 24459., 10878.],\n",
       "       [  622.,  2755.,  1912.]])"
      ]
     },
     "execution_count": 42,
     "metadata": {},
     "output_type": "execute_result"
    }
   ],
   "source": [
    "con_table"
   ]
  },
  {
   "cell_type": "code",
   "execution_count": 43,
   "metadata": {},
   "outputs": [
    {
     "data": {
      "text/plain": [
       "(196.4959456560396,\n",
       " 2.1450999986791486e-43,\n",
       " 2,\n",
       " array([[ 4597.86012254, 24030.37552808, 11293.76434938],\n",
       "        [  609.13987746,  3183.62447192,  1496.23565062]]))"
      ]
     },
     "execution_count": 43,
     "metadata": {},
     "output_type": "execute_result"
    }
   ],
   "source": [
    "stats.chi2_contingency(con_table)"
   ]
  },
  {
   "cell_type": "code",
   "execution_count": 44,
   "metadata": {},
   "outputs": [],
   "source": [
    "def calc_chi2_contingency(con_table):\n",
    "    con_table = con_table.astype(float)\n",
    "    expected_arr = np.zeros((con_table.shape[0],con_table.shape[1]))\n",
    "    marginals_col = con_table.sum(axis=0)\n",
    "    marginals_row = con_table.sum(axis=1)\n",
    "    total = con_table.sum()\n",
    "    for i in range(con_table.shape[0]):\n",
    "        for j in range(con_table.shape[1]):\n",
    "            expected = (marginals_row[i]) * (marginals_col[j]) / total\n",
    "            con_table[i][j] = ((con_table[i][j] - expected)**2) / expected\n",
    "            expected_arr[i][j] = expected\n",
    "    #print(expected_arr)\n",
    "    return con_table.sum()"
   ]
  },
  {
   "cell_type": "code",
   "execution_count": 45,
   "metadata": {},
   "outputs": [
    {
     "data": {
      "text/plain": [
       "196.4959456560396"
      ]
     },
     "execution_count": 45,
     "metadata": {},
     "output_type": "execute_result"
    }
   ],
   "source": [
    "chi2_stat = calc_chi2_contingency(con_table)\n",
    "chi2_stat"
   ]
  },
  {
   "cell_type": "code",
   "execution_count": 46,
   "metadata": {},
   "outputs": [],
   "source": [
    "def mutual_info(df, a1, a2):\n",
    "    con_table = calc_contingency_table(df, a1, a2)\n",
    "    print(con_table)\n",
    "    marginals_col = con_table.sum(axis=0)\n",
    "    marginals_row = con_table.sum(axis=1)\n",
    "    total = con_table.sum()\n",
    "    mi = 0\n",
    "    for i in range(con_table.shape[0]):\n",
    "        for j in range(con_table.shape[1]):\n",
    "            p = con_table[i][j] / total\n",
    "            print(i,\" \", j,\" \", p)\n",
    "\n",
    "            m = (marginals_row[i] / total)*(marginals_col[j] / total)\n",
    "            \n",
    "            if (p > 0):\n",
    "                mi += p*np.log(p / m)\n",
    "            \n",
    "    return mi"
   ]
  },
  {
   "cell_type": "code",
   "execution_count": null,
   "metadata": {},
   "outputs": [],
   "source": [
    "mutual_info(bank,\"y\",\"marital\")"
   ]
  },
  {
   "cell_type": "code",
   "execution_count": 48,
   "metadata": {},
   "outputs": [
    {
     "data": {
      "text/plain": [
       "0.29110316603236885"
      ]
     },
     "execution_count": 48,
     "metadata": {},
     "output_type": "execute_result"
    }
   ],
   "source": [
    "H_x = H_y = -(3/5) * np.log(3/5) - (2/5) * np.log(2/5)\n",
    "H_xy = -1/5 * np.log(1/5) - 2/5 * np.log(2/5) - 2/5 * np.log(2/5)\n",
    "I_xy = H_x + H_y - H_xy\n",
    "I_xy"
   ]
  },
  {
   "cell_type": "code",
   "execution_count": 49,
   "metadata": {},
   "outputs": [
    {
     "name": "stdout",
     "output_type": "stream",
     "text": [
      "0.2911031660323686\n"
     ]
    }
   ],
   "source": [
    "a = np.array([0,1,1, 0, 0])\n",
    "b = np.array([1, 0, 0, 0, 1])\n",
    "print(mutual_info_score(a, b))"
   ]
  },
  {
   "cell_type": "code",
   "execution_count": 50,
   "metadata": {},
   "outputs": [
    {
     "data": {
      "text/html": [
       "<div>\n",
       "<style scoped>\n",
       "    .dataframe tbody tr th:only-of-type {\n",
       "        vertical-align: middle;\n",
       "    }\n",
       "\n",
       "    .dataframe tbody tr th {\n",
       "        vertical-align: top;\n",
       "    }\n",
       "\n",
       "    .dataframe thead th {\n",
       "        text-align: right;\n",
       "    }\n",
       "</style>\n",
       "<table border=\"1\" class=\"dataframe\">\n",
       "  <thead>\n",
       "    <tr style=\"text-align: right;\">\n",
       "      <th></th>\n",
       "      <th>a</th>\n",
       "      <th>b</th>\n",
       "    </tr>\n",
       "  </thead>\n",
       "  <tbody>\n",
       "    <tr>\n",
       "      <th>0</th>\n",
       "      <td>0</td>\n",
       "      <td>1</td>\n",
       "    </tr>\n",
       "    <tr>\n",
       "      <th>1</th>\n",
       "      <td>1</td>\n",
       "      <td>0</td>\n",
       "    </tr>\n",
       "    <tr>\n",
       "      <th>2</th>\n",
       "      <td>1</td>\n",
       "      <td>0</td>\n",
       "    </tr>\n",
       "    <tr>\n",
       "      <th>3</th>\n",
       "      <td>0</td>\n",
       "      <td>0</td>\n",
       "    </tr>\n",
       "    <tr>\n",
       "      <th>4</th>\n",
       "      <td>0</td>\n",
       "      <td>1</td>\n",
       "    </tr>\n",
       "  </tbody>\n",
       "</table>\n",
       "</div>"
      ],
      "text/plain": [
       "   a  b\n",
       "0  0  1\n",
       "1  1  0\n",
       "2  1  0\n",
       "3  0  0\n",
       "4  0  1"
      ]
     },
     "execution_count": 50,
     "metadata": {},
     "output_type": "execute_result"
    }
   ],
   "source": [
    "df = pd.DataFrame({\"a\":[0,1,1, 0, 0], \"b\":[1, 0, 0, 0, 1]}, columns = [\"a\",\"b\"])\n",
    "df"
   ]
  },
  {
   "cell_type": "code",
   "execution_count": null,
   "metadata": {
    "scrolled": true
   },
   "outputs": [],
   "source": [
    "mutual_info(df,\"a\",\"b\")"
   ]
  },
  {
   "cell_type": "code",
   "execution_count": 52,
   "metadata": {},
   "outputs": [
    {
     "data": {
      "text/plain": [
       "array([6.16978557e-05, 4.67116793e-03, 4.17401410e-03, 3.69146387e-01,\n",
       "       3.61073130e-01])"
      ]
     },
     "execution_count": 52,
     "metadata": {},
     "output_type": "execute_result"
    }
   ],
   "source": [
    "X = bank.loc[:,['marital', 'y']]\n",
    "X = pd.get_dummies(X)\n",
    "y = bank.loc[:,'y']\n",
    "importances_mi = mutual_info_classif(X, y)\n",
    "importances_mi"
   ]
  },
  {
   "cell_type": "code",
   "execution_count": null,
   "metadata": {},
   "outputs": [],
   "source": [
    "mi = mutual_info(X,\"y_yes\",\"y_no\")\n",
    "print(mi)"
   ]
  },
  {
   "cell_type": "code",
   "execution_count": 54,
   "metadata": {},
   "outputs": [
    {
     "data": {
      "text/plain": [
       "(array([[35337.,  4585.],\n",
       "        [ 4667.,   622.]]),\n",
       " array([0, 1], dtype=uint8),\n",
       " array([0, 1], dtype=uint8))"
      ]
     },
     "execution_count": 54,
     "metadata": {},
     "output_type": "execute_result"
    }
   ],
   "source": [
    "calc_contingency_table(X,\"y_yes\",\"marital_divorced\")"
   ]
  },
  {
   "cell_type": "code",
   "execution_count": 55,
   "metadata": {},
   "outputs": [
    {
     "data": {
      "text/plain": [
       "[<matplotlib.lines.Line2D at 0x7fa36ad6f050>]"
      ]
     },
     "execution_count": 55,
     "metadata": {},
     "output_type": "execute_result"
    },
    {
     "data": {
      "image/png": "[encoded data removed]",
      "text/plain": [
       "<Figure size 432x288 with 1 Axes>"
      ]
     },
     "metadata": {
      "needs_background": "light"
     },
     "output_type": "display_data"
    }
   ],
   "source": [
    "plt.plot(chi2.pdf(np.arange(0.0,15,0.1),5))"
   ]
  },
  {
   "cell_type": "code",
   "execution_count": 56,
   "metadata": {},
   "outputs": [
    {
     "data": {
      "text/plain": [
       "1.0725499993395723e-43"
      ]
     },
     "execution_count": 56,
     "metadata": {},
     "output_type": "execute_result"
    }
   ],
   "source": [
    "chi2.pdf(chi2_stat,2) ## df ???"
   ]
  },
  {
   "cell_type": "code",
   "execution_count": 57,
   "metadata": {},
   "outputs": [],
   "source": [
    "x = [2, 4, 6]"
   ]
  },
  {
   "cell_type": "markdown",
   "metadata": {},
   "source": [
    "# Categorical (nominal), Ordinal, and Numerical Variables\n",
    "\n",
    "https://stats.idre.ucla.edu/other/mult-pkg/whatstat/what-is-the-difference-between-categorical-ordinal-and-numerical-variables/"
   ]
  },
  {
   "cell_type": "code",
   "execution_count": null,
   "metadata": {},
   "outputs": [],
   "source": []
  }
 ],
 "metadata": {
  "kernelspec": {
   "display_name": "Python 3",
   "language": "python",
   "name": "python3"
  },
  "language_info": {
   "codemirror_mode": {
    "name": "ipython",
    "version": 3
   },
   "file_extension": ".py",
   "mimetype": "text/x-python",
   "name": "python",
   "nbconvert_exporter": "python",
   "pygments_lexer": "ipython3",
   "version": "3.7.7"
  }
 },
 "nbformat": 4,
 "nbformat_minor": 4
}
