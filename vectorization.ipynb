{
 "cells": [
  {
   "cell_type": "markdown",
   "metadata": {},
   "source": [
    "# Vectorization \n",
    "(by Tevfik Aytekin)\n",
    "\n",
    "Examples showing the speed difference between vectorization vs. for loops in Python.\n",
    "\n",
    "### Dot Product"
   ]
  },
  {
   "cell_type": "code",
   "execution_count": 23,
   "metadata": {},
   "outputs": [
    {
     "name": "stdout",
     "output_type": "stream",
     "text": [
      "250399.5057003638\n",
      "For loop: 609.1539859771729ms\n",
      "250399.5057003618\n",
      "Vectorized version: 1.1780261993408203ms\n"
     ]
    }
   ],
   "source": [
    "# This example is taken from a lecture of Andrew Ng.\n",
    "import numpy as np\n",
    "import time\n",
    "\n",
    "a = np.random.rand(1000000)\n",
    "b = np.random.rand(1000000)\n",
    "\n",
    "\n",
    "c = 0\n",
    "tic = time.time()\n",
    "for i in range(1000000):\n",
    "    c+=a[i]*b[i]\n",
    "toc = time.time()\n",
    "\n",
    "print(c)\n",
    "print(\"For loop: \"+str(1000*(toc-tic))+\"ms\")\n",
    "tic = time.time()\n",
    "c = np.dot(a,b)\n",
    "toc = time.time()\n",
    "\n",
    "print(c)\n",
    "print(\"Vectorized version: \"+str(1000*(toc-tic))+\"ms\")\n",
    "\n"
   ]
  },
  {
   "cell_type": "markdown",
   "metadata": {},
   "source": [
    "### Matrix Multiplication"
   ]
  },
  {
   "cell_type": "code",
   "execution_count": 24,
   "metadata": {},
   "outputs": [
    {
     "name": "stdout",
     "output_type": "stream",
     "text": [
      "For loop: 1421.5929508209229ms\n",
      "Vectorized version: 0.19216537475585938ms\n"
     ]
    }
   ],
   "source": [
    "Ax = 100\n",
    "Ay = 100\n",
    "Bx = 100\n",
    "By = 100\n",
    "A = np.random.rand(Ax,Ay)\n",
    "B = np.random.rand(Bx,By)\n",
    "\n",
    "result = np.zeros((Ax,  By))\n",
    "tic = time.time()\n",
    "for i in range(Ax):\n",
    "    for j in range(By):\n",
    "        for k in range(Bx):\n",
    "            result[i][j] += A[i][k] * B[k][j]\n",
    "toc = time.time()\n",
    "print(\"For loop: \"+str(1000*(toc-tic))+\"ms\")\n",
    "\n",
    "result = np.zeros((Ax,  By))\n",
    "tic = time.time()\n",
    "result = np.dot(Ax,By)\n",
    "toc = time.time()\n",
    "print(\"Vectorized version: \"+str(1000*(toc-tic))+\"ms\")\n"
   ]
  },
  {
   "cell_type": "markdown",
   "metadata": {},
   "source": [
    "### dot vs matmul\n",
    "\n",
    "In Python in addition to dot function there is another matrix multiplication function called matmul. Look at this [discussion](https://stackoverflow.com/questions/34142485/difference-between-numpy-dot-and-python-3-5-matrix-multiplication) for their difference."
   ]
  }
 ],
 "metadata": {
  "kernelspec": {
   "display_name": "Python 3",
   "language": "python",
   "name": "python3"
  },
  "language_info": {
   "codemirror_mode": {
    "name": "ipython",
    "version": 3
   },
   "file_extension": ".py",
   "mimetype": "text/x-python",
   "name": "python",
   "nbconvert_exporter": "python",
   "pygments_lexer": "ipython3",
   "version": "3.7.7"
  }
 },
 "nbformat": 4,
 "nbformat_minor": 2
}
