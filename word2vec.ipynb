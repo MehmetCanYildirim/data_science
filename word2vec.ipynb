{
 "cells": [
  {
   "cell_type": "markdown",
   "metadata": {},
   "source": [
    "# Word2Vec\n",
    "(by Tevfik Aytekin)"
   ]
  },
  {
   "cell_type": "code",
   "execution_count": 2,
   "metadata": {},
   "outputs": [],
   "source": [
    "import nltk\n",
    "from nltk.tokenize import sent_tokenize, word_tokenize \n",
    "from nltk.corpus import gutenberg\n",
    "import gensim \n",
    "from gensim.models import Word2Vec \n",
    "from gensim.parsing.preprocessing import remove_stopwords\n",
    "from nltk.tokenize import RegexpTokenizer\n",
    "\n",
    "# You need to call nltk.download() to download all the nltk corpora"
   ]
  },
  {
   "cell_type": "code",
   "execution_count": 3,
   "metadata": {},
   "outputs": [
    {
     "name": "stdout",
     "output_type": "stream",
     "text": [
      "num_words:  192427\n"
     ]
    }
   ],
   "source": [
    "text = gutenberg.raw('austen-emma.txt')\n",
    "print(\"num_words: \", len(gutenberg.words('austen-emma.txt')))\n"
   ]
  },
  {
   "cell_type": "code",
   "execution_count": 5,
   "metadata": {},
   "outputs": [
    {
     "data": {
      "text/plain": [
       "\"[Emma by Jane Austen 1816]\\n\\nVOLUME I\\n\\nCHAPTER I\\n\\n\\nEmma Woodhouse, handsome, clever, and rich, with a comfortable home\\nand happy disposition, seemed to unite some of the best blessings\\nof existence; and had lived nearly twenty-one years in the world\\nwith very little to distress or vex her.\\n\\nShe was the youngest of the two daughters of a most affectionate,\\nindulgent father; and had, in consequence of her sister's marriage,\\nbeen mistress of his house from a very early period.  Her mother\\nhad died too long ago for her to have more than an indistinct\\nremembrance of her caresses; and her place had been supplied\\nby an excellent woman as governess, who had fallen little short\\nof a mother in affection.\\n\\nSixteen years had Miss Taylor been in Mr. Woodhouse's family,\\nless as a governess than a friend, very fond of both daughters,\\nbut particularly of Emma.  Between _them_ it was more the intimacy\\nof sisters.  Even before Miss Taylor had ceased to hold the nominal\\noffice of governess, the mildness o\""
      ]
     },
     "execution_count": 5,
     "metadata": {},
     "output_type": "execute_result"
    }
   ],
   "source": [
    "text[:1000]"
   ]
  },
  {
   "cell_type": "code",
   "execution_count": 4,
   "metadata": {},
   "outputs": [],
   "source": [
    "text = remove_stopwords(text)"
   ]
  },
  {
   "cell_type": "code",
   "execution_count": 6,
   "metadata": {},
   "outputs": [],
   "source": [
    "tokenizer = RegexpTokenizer(r'\\w+')\n",
    "data = [] \n",
    "for i in sent_tokenize(text): \n",
    "    temp = [] \n",
    "    for j in tokenizer.tokenize(i): \n",
    "        temp.append(j.lower()) \n",
    "  \n",
    "    data.append(temp) "
   ]
  },
  {
   "cell_type": "code",
   "execution_count": 7,
   "metadata": {},
   "outputs": [
    {
     "data": {
      "text/plain": [
       "['emma',\n",
       " 'by',\n",
       " 'jane',\n",
       " 'austen',\n",
       " '1816',\n",
       " 'volume',\n",
       " 'i',\n",
       " 'chapter',\n",
       " 'i',\n",
       " 'emma',\n",
       " 'woodhouse',\n",
       " 'handsome',\n",
       " 'clever',\n",
       " 'and',\n",
       " 'rich',\n",
       " 'with',\n",
       " 'a',\n",
       " 'comfortable',\n",
       " 'home',\n",
       " 'and',\n",
       " 'happy',\n",
       " 'disposition',\n",
       " 'seemed',\n",
       " 'to',\n",
       " 'unite',\n",
       " 'some',\n",
       " 'of',\n",
       " 'the',\n",
       " 'best',\n",
       " 'blessings',\n",
       " 'of',\n",
       " 'existence',\n",
       " 'and',\n",
       " 'had',\n",
       " 'lived',\n",
       " 'nearly',\n",
       " 'twenty',\n",
       " 'one',\n",
       " 'years',\n",
       " 'in',\n",
       " 'the',\n",
       " 'world',\n",
       " 'with',\n",
       " 'very',\n",
       " 'little',\n",
       " 'to',\n",
       " 'distress',\n",
       " 'or',\n",
       " 'vex',\n",
       " 'her']"
      ]
     },
     "execution_count": 7,
     "metadata": {},
     "output_type": "execute_result"
    }
   ],
   "source": [
    "data[0]"
   ]
  },
  {
   "cell_type": "code",
   "execution_count": 8,
   "metadata": {},
   "outputs": [],
   "source": [
    "# Create model \n",
    "model = gensim.models.Word2Vec(data, min_count = 1,  \n",
    "                              size = 100, window = 5) "
   ]
  },
  {
   "cell_type": "code",
   "execution_count": 9,
   "metadata": {},
   "outputs": [
    {
     "name": "stdout",
     "output_type": "stream",
     "text": [
      "Cosine similarity between 'home' and 'happy' - CBOW :  0.9942075\n"
     ]
    }
   ],
   "source": [
    "print(\"Cosine similarity between 'home' \" + \n",
    "               \"and 'happy' - CBOW : \", \n",
    "    model.wv.similarity('home', 'happy')) "
   ]
  },
  {
   "cell_type": "code",
   "execution_count": 10,
   "metadata": {},
   "outputs": [
    {
     "data": {
      "text/plain": [
       "[('isabella', 0.9989608526229858),\n",
       " ('towards', 0.9989355802536011),\n",
       " ('looks', 0.9988465905189514),\n",
       " ('near', 0.9987842440605164),\n",
       " ('became', 0.9986475706100464)]"
      ]
     },
     "execution_count": 10,
     "metadata": {},
     "output_type": "execute_result"
    }
   ],
   "source": [
    "model.wv.most_similar(positive='friend', topn=5)"
   ]
  },
  {
   "cell_type": "code",
   "execution_count": 11,
   "metadata": {
    "scrolled": true
   },
   "outputs": [
    {
     "data": {
      "text/plain": [
       "array([ 0.45827785, -0.44172487, -0.12176165,  0.12233178,  0.05520872,\n",
       "       -0.6077416 ,  0.7178411 , -0.2231695 ,  0.55209386, -0.14880037,\n",
       "       -0.348411  ,  0.25484174, -0.43844402, -0.28176418,  0.38730022,\n",
       "       -0.74136615, -0.19781218,  0.00579581, -0.05395631, -0.30161655,\n",
       "       -0.2701442 ,  0.20550719,  0.09370674, -0.1381972 ,  0.4678049 ,\n",
       "       -0.10224696, -0.2221067 ,  0.2768428 , -0.2958746 , -0.8448977 ,\n",
       "       -0.5154456 , -0.6028929 ,  0.17660762, -0.33711678,  0.46171984,\n",
       "        0.2075493 , -0.17261714, -0.3107516 ,  0.16176172, -0.3937709 ,\n",
       "        0.04082135,  0.09299976,  0.17602955,  0.33017817, -0.19537713,\n",
       "       -0.08492216,  0.97739416, -0.19566737,  0.44349873, -0.2778141 ,\n",
       "       -0.27458706, -0.1363758 , -0.4018571 , -0.34044376,  0.1628924 ,\n",
       "       -0.08806945,  0.5782594 ,  0.0487115 ,  0.29075357,  0.00820251,\n",
       "       -0.5616262 , -0.53499365, -0.7801935 , -0.49364096, -0.15957908,\n",
       "        0.35536233, -0.35399276, -0.10840175, -0.951173  , -0.21604596,\n",
       "       -0.10881618, -0.37870798,  0.07442338,  0.1309836 ,  0.8584209 ,\n",
       "       -0.02420521, -0.25395888, -0.6612106 ,  0.79532754,  0.4674604 ,\n",
       "        0.23169388, -0.20841399, -0.19183113,  0.31528673, -0.10139084,\n",
       "       -0.412872  ,  0.28289685, -0.10994352,  0.4964102 ,  0.37526157,\n",
       "       -0.20764607,  0.4762851 , -0.0728763 ,  0.4659385 , -0.21262571,\n",
       "       -0.08106534,  0.16102293, -0.18995817,  0.3191186 , -0.4328018 ],\n",
       "      dtype=float32)"
      ]
     },
     "execution_count": 11,
     "metadata": {},
     "output_type": "execute_result"
    }
   ],
   "source": [
    "model.wv['friend']"
   ]
  },
  {
   "cell_type": "code",
   "execution_count": null,
   "metadata": {},
   "outputs": [],
   "source": []
  },
  {
   "cell_type": "code",
   "execution_count": null,
   "metadata": {},
   "outputs": [],
   "source": []
  }
 ],
 "metadata": {
  "kernelspec": {
   "display_name": "Python 3",
   "language": "python",
   "name": "python3"
  },
  "language_info": {
   "codemirror_mode": {
    "name": "ipython",
    "version": 3
   },
   "file_extension": ".py",
   "mimetype": "text/x-python",
   "name": "python",
   "nbconvert_exporter": "python",
   "pygments_lexer": "ipython3",
   "version": "3.7.7"
  }
 },
 "nbformat": 4,
 "nbformat_minor": 2
}
