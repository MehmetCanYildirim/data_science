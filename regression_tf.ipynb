{
  "nbformat": 4,
  "nbformat_minor": 0,
  "metadata": {
    "colab": {
      "name": "regression_tf.ipynb",
      "provenance": [],
      "collapsed_sections": [],
      "authorship_tag": "ABX9TyP+UEs+kIvYTmYIN56PJEUE",
      "include_colab_link": true
    },
    "kernelspec": {
      "name": "python3",
      "display_name": "Python 3"
    }
  },
  "cells": [
    {
      "cell_type": "markdown",
      "metadata": {
        "id": "view-in-github",
        "colab_type": "text"
      },
      "source": [
        "<a href=\"https://colab.research.google.com/github/tevfikaytekin/data_science/blob/master/regression_tf.ipynb\" target=\"_parent\"><img src=\"https://colab.research.google.com/assets/colab-badge.svg\" alt=\"Open In Colab\"/></a>"
      ]
    },
    {
      "cell_type": "code",
      "metadata": {
        "id": "xAt-QXvav4Ok",
        "colab_type": "code",
        "colab": {
          "base_uri": "https://localhost:8080/",
          "height": 35
        },
        "outputId": "681ab7d7-4bbf-440b-f961-1f75a6f49148"
      },
      "source": [
        "import pandas as pd\n",
        "import matplotlib.pyplot as plt\n",
        "import numpy as np\n",
        "from sklearn.metrics import mean_squared_error, mean_absolute_error\n",
        "from sklearn.model_selection import cross_val_score\n",
        "from sklearn import linear_model\n",
        "from sklearn.model_selection import train_test_split\n",
        "from sklearn.metrics.scorer import make_scorer\n",
        "\n",
        "import tensorflow as tf\n",
        "\n",
        "from tensorflow import keras\n",
        "from tensorflow.keras import layers\n",
        "\n",
        "print(tf.__version__)\n",
        "\n",
        "\n"
      ],
      "execution_count": 16,
      "outputs": [
        {
          "output_type": "stream",
          "text": [
            "2.3.0\n"
          ],
          "name": "stdout"
        }
      ]
    },
    {
      "cell_type": "code",
      "metadata": {
        "id": "L9viPGjB0YXm",
        "colab_type": "code",
        "colab": {
          "base_uri": "https://localhost:8080/",
          "height": 338
        },
        "outputId": "c518442c-241a-49bc-d253-dc005e460367"
      },
      "source": [
        "import tensorflow_docs as tfdocs\n",
        "import tensorflow_docs.plots\n",
        "import tensorflow_docs.modeling"
      ],
      "execution_count": 17,
      "outputs": [
        {
          "output_type": "error",
          "ename": "ModuleNotFoundError",
          "evalue": "ignored",
          "traceback": [
            "\u001b[0;31m---------------------------------------------------------------------------\u001b[0m",
            "\u001b[0;31mModuleNotFoundError\u001b[0m                       Traceback (most recent call last)",
            "\u001b[0;32m<ipython-input-17-46b8d5cb9e0e>\u001b[0m in \u001b[0;36m<module>\u001b[0;34m()\u001b[0m\n\u001b[0;32m----> 1\u001b[0;31m \u001b[0;32mimport\u001b[0m \u001b[0mtensorflow_docs\u001b[0m \u001b[0;32mas\u001b[0m \u001b[0mtfdocs\u001b[0m\u001b[0;34m\u001b[0m\u001b[0;34m\u001b[0m\u001b[0m\n\u001b[0m\u001b[1;32m      2\u001b[0m \u001b[0;32mimport\u001b[0m \u001b[0mtensorflow_docs\u001b[0m\u001b[0;34m.\u001b[0m\u001b[0mplots\u001b[0m\u001b[0;34m\u001b[0m\u001b[0;34m\u001b[0m\u001b[0m\n\u001b[1;32m      3\u001b[0m \u001b[0;32mimport\u001b[0m \u001b[0mtensorflow_docs\u001b[0m\u001b[0;34m.\u001b[0m\u001b[0mmodeling\u001b[0m\u001b[0;34m\u001b[0m\u001b[0;34m\u001b[0m\u001b[0m\n",
            "\u001b[0;31mModuleNotFoundError\u001b[0m: No module named 'tensorflow_docs'",
            "",
            "\u001b[0;31m---------------------------------------------------------------------------\u001b[0;32m\nNOTE: If your import is failing due to a missing package, you can\nmanually install dependencies using either !pip or !apt.\n\nTo view examples of installing some common dependencies, click the\n\"Open Examples\" button below.\n\u001b[0;31m---------------------------------------------------------------------------\u001b[0m\n"
          ]
        }
      ]
    },
    {
      "cell_type": "code",
      "metadata": {
        "id": "KbaOj04JybNJ",
        "colab_type": "code",
        "colab": {}
      },
      "source": [
        "train = pd.read_csv(\"train.csv\")"
      ],
      "execution_count": null,
      "outputs": []
    },
    {
      "cell_type": "code",
      "metadata": {
        "id": "4ggBENMrw5-W",
        "colab_type": "code",
        "colab": {
          "base_uri": "https://localhost:8080/",
          "height": 282
        },
        "outputId": "b1aefdc1-8c8b-4c80-ba8b-fd78a893666e"
      },
      "source": [
        "plt.scatter(train.loc[:,\"GrLivArea\"], train.loc[:,\"SalePrice\"])"
      ],
      "execution_count": 2,
      "outputs": [
        {
          "output_type": "execute_result",
          "data": {
            "text/plain": [
              "<matplotlib.collections.PathCollection at 0x7f408eaf3e80>"
            ]
          },
          "metadata": {
            "tags": []
          },
          "execution_count": 2
        },
        {
          "output_type": "display_data",
          "data": {
            "image/png": "[encoded data removed]",
            "text/plain": [
              "<Figure size 432x288 with 1 Axes>"
            ]
          },
          "metadata": {
            "tags": [],
            "needs_background": "light"
          }
        }
      ]
    },
    {
      "cell_type": "code",
      "metadata": {
        "id": "ZvwgYM23w8kW",
        "colab_type": "code",
        "colab": {}
      },
      "source": [
        "# Run regression with top correlated 10 attributes with SalePrice\n",
        "cors = train.corr(); \n",
        "top10 = cors.loc[:, \"SalePrice\"].sort_values(ascending = False).head(11)\n",
        "top10 = top10.index.values.tolist()\n",
        "top10.pop(0)\n",
        "\n",
        "X = train.loc[:,top10]\n",
        "y = train.loc[:,'SalePrice']\n",
        "X_train, X_test, y_train, y_test = train_test_split(X, y, test_size=0.1)"
      ],
      "execution_count": 6,
      "outputs": []
    },
    {
      "cell_type": "code",
      "metadata": {
        "id": "FFTLz7M4xOV_",
        "colab_type": "code",
        "colab": {}
      },
      "source": [
        "model = keras.Sequential([\n",
        "    layers.Dense(64, activation='relu', input_shape=[len(X_train.keys())]),\n",
        "    #layers.Dense(64, activation='relu'),\n",
        "    layers.Dense(1)\n",
        "])\n",
        "\n",
        "optimizer = tf.keras.optimizers.RMSprop(0.001)\n",
        "\n",
        "model.compile(loss='mse',\n",
        "              optimizer=optimizer,\n",
        "              metrics=['mae', 'mse'])"
      ],
      "execution_count": 28,
      "outputs": []
    },
    {
      "cell_type": "code",
      "metadata": {
        "id": "gqDfoa9Nye5x",
        "colab_type": "code",
        "colab": {
          "base_uri": "https://localhost:8080/",
          "height": 225
        },
        "outputId": "127bfb1a-5cc6-4b8e-ddc7-9044c41006a3"
      },
      "source": [
        "model.summary()"
      ],
      "execution_count": 29,
      "outputs": [
        {
          "output_type": "stream",
          "text": [
            "Model: \"sequential_1\"\n",
            "_________________________________________________________________\n",
            "Layer (type)                 Output Shape              Param #   \n",
            "=================================================================\n",
            "dense_3 (Dense)              (None, 64)                704       \n",
            "_________________________________________________________________\n",
            "dense_4 (Dense)              (None, 1)                 65        \n",
            "=================================================================\n",
            "Total params: 769\n",
            "Trainable params: 769\n",
            "Non-trainable params: 0\n",
            "_________________________________________________________________\n"
          ],
          "name": "stdout"
        }
      ]
    },
    {
      "cell_type": "code",
      "metadata": {
        "id": "nYqpCtFhytH9",
        "colab_type": "code",
        "colab": {
          "base_uri": "https://localhost:8080/",
          "height": 190
        },
        "outputId": "a7b91cb4-979f-4cad-ab3e-e297d186f521"
      },
      "source": [
        "example_batch = X[:10]\n",
        "example_result = model.predict(example_batch)\n",
        "example_result"
      ],
      "execution_count": 30,
      "outputs": [
        {
          "output_type": "execute_result",
          "data": {
            "text/plain": [
              "array([[-126.89461 ],\n",
              "       [  12.080307],\n",
              "       [-115.91498 ],\n",
              "       [ -83.671005],\n",
              "       [ -92.35979 ],\n",
              "       [-111.70584 ],\n",
              "       [  59.009644],\n",
              "       [-107.309784],\n",
              "       [ -89.75102 ],\n",
              "       [ -28.345352]], dtype=float32)"
            ]
          },
          "metadata": {
            "tags": []
          },
          "execution_count": 30
        }
      ]
    },
    {
      "cell_type": "code",
      "metadata": {
        "id": "FJv877snzOKm",
        "colab_type": "code",
        "colab": {
          "base_uri": "https://localhost:8080/",
          "height": 1000
        },
        "outputId": "bebcedfb-e4a2-4afa-99bd-a7b5999759f1"
      },
      "source": [
        "EPOCHS = 100\n",
        "\n",
        "history = model.fit(\n",
        "  X, y,\n",
        "  epochs=EPOCHS, validation_split = 0.2)\n",
        "  #callbacks=[tfdocs.modeling.EpochDots()])"
      ],
      "execution_count": 31,
      "outputs": [
        {
          "output_type": "stream",
          "text": [
            "Epoch 1/100\n",
            "37/37 [==============================] - 0s 5ms/step - loss: 38352908288.0000 - mae: 179374.6094 - mse: 38352908288.0000 - val_loss: 38987096064.0000 - val_mae: 179802.9531 - val_mse: 38987096064.0000\n",
            "Epoch 2/100\n",
            "37/37 [==============================] - 0s 2ms/step - loss: 37486288896.0000 - mae: 177020.6094 - mse: 37486288896.0000 - val_loss: 38036627456.0000 - val_mae: 177257.1719 - val_mse: 38036627456.0000\n",
            "Epoch 3/100\n",
            "37/37 [==============================] - 0s 2ms/step - loss: 36428050432.0000 - mae: 174155.4844 - mse: 36428050432.0000 - val_loss: 36805382144.0000 - val_mae: 173918.2812 - val_mse: 36805382144.0000\n",
            "Epoch 4/100\n",
            "37/37 [==============================] - 0s 2ms/step - loss: 35118067712.0000 - mae: 170532.0938 - mse: 35118067712.0000 - val_loss: 35334332416.0000 - val_mae: 169860.7969 - val_mse: 35334332416.0000\n",
            "Epoch 5/100\n",
            "37/37 [==============================] - 0s 2ms/step - loss: 33571528704.0000 - mae: 166180.6094 - mse: 33571528704.0000 - val_loss: 33641629696.0000 - val_mae: 165073.9531 - val_mse: 33641629696.0000\n",
            "Epoch 6/100\n",
            "37/37 [==============================] - 0s 2ms/step - loss: 31802308608.0000 - mae: 161083.6094 - mse: 31802308608.0000 - val_loss: 31721621504.0000 - val_mae: 159477.2500 - val_mse: 31721621504.0000\n",
            "Epoch 7/100\n",
            "37/37 [==============================] - 0s 2ms/step - loss: 29867104256.0000 - mae: 155256.8438 - mse: 29867104256.0000 - val_loss: 29642403840.0000 - val_mae: 153195.0625 - val_mse: 29642403840.0000\n",
            "Epoch 8/100\n",
            "37/37 [==============================] - 0s 2ms/step - loss: 27763838976.0000 - mae: 148715.0625 - mse: 27763838976.0000 - val_loss: 27430471680.0000 - val_mae: 146225.7344 - val_mse: 27430471680.0000\n",
            "Epoch 9/100\n",
            "37/37 [==============================] - 0s 2ms/step - loss: 25538269184.0000 - mae: 141436.4688 - mse: 25538269184.0000 - val_loss: 25088759808.0000 - val_mae: 138478.6094 - val_mse: 25088759808.0000\n",
            "Epoch 10/100\n",
            "37/37 [==============================] - 0s 2ms/step - loss: 23184152576.0000 - mae: 133410.1406 - mse: 23184152576.0000 - val_loss: 22642257920.0000 - val_mae: 129912.0938 - val_mse: 22642257920.0000\n",
            "Epoch 11/100\n",
            "37/37 [==============================] - 0s 2ms/step - loss: 20794564608.0000 - mae: 124679.4922 - mse: 20794564608.0000 - val_loss: 20205297664.0000 - val_mae: 120797.7969 - val_mse: 20205297664.0000\n",
            "Epoch 12/100\n",
            "37/37 [==============================] - 0s 2ms/step - loss: 18366593024.0000 - mae: 115316.8516 - mse: 18366593024.0000 - val_loss: 17725136896.0000 - val_mae: 110931.1016 - val_mse: 17725136896.0000\n",
            "Epoch 13/100\n",
            "37/37 [==============================] - 0s 2ms/step - loss: 15959592960.0000 - mae: 105274.0781 - mse: 15959592960.0000 - val_loss: 15296462848.0000 - val_mae: 100586.1406 - val_mse: 15296462848.0000\n",
            "Epoch 14/100\n",
            "37/37 [==============================] - 0s 2ms/step - loss: 13605836800.0000 - mae: 94623.3984 - mse: 13605836800.0000 - val_loss: 12950823936.0000 - val_mae: 89575.9297 - val_mse: 12950823936.0000\n",
            "Epoch 15/100\n",
            "37/37 [==============================] - 0s 2ms/step - loss: 11404328960.0000 - mae: 83500.3203 - mse: 11404328960.0000 - val_loss: 10824803328.0000 - val_mae: 78437.5625 - val_mse: 10824803328.0000\n",
            "Epoch 16/100\n",
            "37/37 [==============================] - 0s 2ms/step - loss: 9395064832.0000 - mae: 72379.4766 - mse: 9395064832.0000 - val_loss: 8912387072.0000 - val_mae: 67371.9766 - val_mse: 8912387072.0000\n",
            "Epoch 17/100\n",
            "37/37 [==============================] - 0s 2ms/step - loss: 7556919296.0000 - mae: 61909.3906 - mse: 7556919296.0000 - val_loss: 7200542208.0000 - val_mae: 57027.7383 - val_mse: 7200542208.0000\n",
            "Epoch 18/100\n",
            "37/37 [==============================] - 0s 2ms/step - loss: 6030398464.0000 - mae: 52335.9492 - mse: 6030398464.0000 - val_loss: 5850786816.0000 - val_mae: 48557.3789 - val_mse: 5850786816.0000\n",
            "Epoch 19/100\n",
            "37/37 [==============================] - 0s 2ms/step - loss: 4823019520.0000 - mae: 45324.8750 - mse: 4823019520.0000 - val_loss: 4853382656.0000 - val_mae: 43341.8594 - val_mse: 4853382656.0000\n",
            "Epoch 20/100\n",
            "37/37 [==============================] - 0s 2ms/step - loss: 4021394432.0000 - mae: 41888.2812 - mse: 4021394432.0000 - val_loss: 4291157248.0000 - val_mae: 41711.5938 - val_mse: 4291157248.0000\n",
            "Epoch 21/100\n",
            "37/37 [==============================] - 0s 2ms/step - loss: 3585108736.0000 - mae: 41280.9727 - mse: 3585108736.0000 - val_loss: 4078799616.0000 - val_mae: 42165.6211 - val_mse: 4078799616.0000\n",
            "Epoch 22/100\n",
            "37/37 [==============================] - 0s 2ms/step - loss: 3435186944.0000 - mae: 41692.5078 - mse: 3435186944.0000 - val_loss: 4019617280.0000 - val_mae: 42723.0781 - val_mse: 4019617280.0000\n",
            "Epoch 23/100\n",
            "37/37 [==============================] - 0s 2ms/step - loss: 3372378880.0000 - mae: 41715.7500 - mse: 3372378880.0000 - val_loss: 4000113152.0000 - val_mae: 43200.1250 - val_mse: 4000113152.0000\n",
            "Epoch 24/100\n",
            "37/37 [==============================] - 0s 2ms/step - loss: 3338947584.0000 - mae: 42058.2148 - mse: 3338947584.0000 - val_loss: 3976684544.0000 - val_mae: 43035.6367 - val_mse: 3976684544.0000\n",
            "Epoch 25/100\n",
            "37/37 [==============================] - 0s 2ms/step - loss: 3304312064.0000 - mae: 41797.7383 - mse: 3304312064.0000 - val_loss: 3953780224.0000 - val_mae: 42889.0156 - val_mse: 3953780224.0000\n",
            "Epoch 26/100\n",
            "37/37 [==============================] - 0s 2ms/step - loss: 3272035328.0000 - mae: 41550.1367 - mse: 3272035328.0000 - val_loss: 3930265344.0000 - val_mae: 42691.3516 - val_mse: 3930265344.0000\n",
            "Epoch 27/100\n",
            "37/37 [==============================] - 0s 2ms/step - loss: 3236348672.0000 - mae: 41471.3867 - mse: 3236348672.0000 - val_loss: 3899184128.0000 - val_mae: 42215.6250 - val_mse: 3899184128.0000\n",
            "Epoch 28/100\n",
            "37/37 [==============================] - 0s 2ms/step - loss: 3203989504.0000 - mae: 41092.2930 - mse: 3203989504.0000 - val_loss: 3877563648.0000 - val_mae: 41992.8750 - val_mse: 3877563648.0000\n",
            "Epoch 29/100\n",
            "37/37 [==============================] - 0s 2ms/step - loss: 3171766272.0000 - mae: 40672.2070 - mse: 3171766272.0000 - val_loss: 3859779072.0000 - val_mae: 41964.6523 - val_mse: 3859779072.0000\n",
            "Epoch 30/100\n",
            "37/37 [==============================] - 0s 2ms/step - loss: 3139583232.0000 - mae: 40555.1289 - mse: 3139583232.0000 - val_loss: 3842895104.0000 - val_mae: 41910.5430 - val_mse: 3842895104.0000\n",
            "Epoch 31/100\n",
            "37/37 [==============================] - 0s 2ms/step - loss: 3109903104.0000 - mae: 40498.0703 - mse: 3109903104.0000 - val_loss: 3816120832.0000 - val_mae: 41474.6328 - val_mse: 3816120832.0000\n",
            "Epoch 32/100\n",
            "37/37 [==============================] - 0s 2ms/step - loss: 3079267072.0000 - mae: 40064.6953 - mse: 3079267072.0000 - val_loss: 3798075648.0000 - val_mae: 41331.0781 - val_mse: 3798075648.0000\n",
            "Epoch 33/100\n",
            "37/37 [==============================] - 0s 2ms/step - loss: 3047951360.0000 - mae: 39968.2305 - mse: 3047951360.0000 - val_loss: 3773152512.0000 - val_mae: 40962.7500 - val_mse: 3773152512.0000\n",
            "Epoch 34/100\n",
            "37/37 [==============================] - 0s 2ms/step - loss: 3015843584.0000 - mae: 39555.9844 - mse: 3015843584.0000 - val_loss: 3756406272.0000 - val_mae: 40851.7383 - val_mse: 3756406272.0000\n",
            "Epoch 35/100\n",
            "37/37 [==============================] - 0s 2ms/step - loss: 2986929920.0000 - mae: 39474.1250 - mse: 2986929920.0000 - val_loss: 3732521216.0000 - val_mae: 40450.2070 - val_mse: 3732521216.0000\n",
            "Epoch 36/100\n",
            "37/37 [==============================] - 0s 2ms/step - loss: 2954573056.0000 - mae: 39092.1328 - mse: 2954573056.0000 - val_loss: 3711839744.0000 - val_mae: 40220.0391 - val_mse: 3711839744.0000\n",
            "Epoch 37/100\n",
            "37/37 [==============================] - 0s 2ms/step - loss: 2920547328.0000 - mae: 38706.2422 - mse: 2920547328.0000 - val_loss: 3704076544.0000 - val_mae: 40302.1445 - val_mse: 3704076544.0000\n",
            "Epoch 38/100\n",
            "37/37 [==============================] - 0s 2ms/step - loss: 2889610496.0000 - mae: 38735.9258 - mse: 2889610496.0000 - val_loss: 3679363584.0000 - val_mae: 39918.5586 - val_mse: 3679363584.0000\n",
            "Epoch 39/100\n",
            "37/37 [==============================] - 0s 2ms/step - loss: 2860947456.0000 - mae: 38375.8906 - mse: 2860947456.0000 - val_loss: 3664229632.0000 - val_mae: 39736.9570 - val_mse: 3664229632.0000\n",
            "Epoch 40/100\n",
            "37/37 [==============================] - 0s 2ms/step - loss: 2833003264.0000 - mae: 38152.6133 - mse: 2833003264.0000 - val_loss: 3648459776.0000 - val_mae: 39533.1523 - val_mse: 3648459776.0000\n",
            "Epoch 41/100\n",
            "37/37 [==============================] - 0s 2ms/step - loss: 2803923968.0000 - mae: 38072.3672 - mse: 2803923968.0000 - val_loss: 3624111360.0000 - val_mae: 39079.2109 - val_mse: 3624111360.0000\n",
            "Epoch 42/100\n",
            "37/37 [==============================] - 0s 2ms/step - loss: 2781379584.0000 - mae: 37612.8711 - mse: 2781379584.0000 - val_loss: 3612264960.0000 - val_mae: 38945.3398 - val_mse: 3612264960.0000\n",
            "Epoch 43/100\n",
            "37/37 [==============================] - 0s 2ms/step - loss: 2754473984.0000 - mae: 37528.6836 - mse: 2754473984.0000 - val_loss: 3597659648.0000 - val_mae: 38735.3203 - val_mse: 3597659648.0000\n",
            "Epoch 44/100\n",
            "37/37 [==============================] - 0s 2ms/step - loss: 2727392512.0000 - mae: 37238.5352 - mse: 2727392512.0000 - val_loss: 3581635584.0000 - val_mae: 38460.4258 - val_mse: 3581635584.0000\n",
            "Epoch 45/100\n",
            "37/37 [==============================] - 0s 2ms/step - loss: 2704498432.0000 - mae: 37042.0820 - mse: 2704498432.0000 - val_loss: 3565589504.0000 - val_mae: 38137.0977 - val_mse: 3565589504.0000\n",
            "Epoch 46/100\n",
            "37/37 [==============================] - 0s 2ms/step - loss: 2680385024.0000 - mae: 36680.3906 - mse: 2680385024.0000 - val_loss: 3563517184.0000 - val_mae: 38271.8633 - val_mse: 3563517184.0000\n",
            "Epoch 47/100\n",
            "37/37 [==============================] - 0s 2ms/step - loss: 2653039360.0000 - mae: 36584.0195 - mse: 2653039360.0000 - val_loss: 3556930304.0000 - val_mae: 38215.5312 - val_mse: 3556930304.0000\n",
            "Epoch 48/100\n",
            "37/37 [==============================] - 0s 2ms/step - loss: 2625580800.0000 - mae: 36431.9297 - mse: 2625580800.0000 - val_loss: 3543089920.0000 - val_mae: 37980.8984 - val_mse: 3543089920.0000\n",
            "Epoch 49/100\n",
            "37/37 [==============================] - 0s 2ms/step - loss: 2603198208.0000 - mae: 36180.8828 - mse: 2603198208.0000 - val_loss: 3530746368.0000 - val_mae: 37764.1758 - val_mse: 3530746368.0000\n",
            "Epoch 50/100\n",
            "37/37 [==============================] - 0s 2ms/step - loss: 2577586432.0000 - mae: 36082.5781 - mse: 2577586432.0000 - val_loss: 3510906368.0000 - val_mae: 37345.4023 - val_mse: 3510906368.0000\n",
            "Epoch 51/100\n",
            "37/37 [==============================] - 0s 2ms/step - loss: 2556389632.0000 - mae: 35694.7500 - mse: 2556389632.0000 - val_loss: 3511776768.0000 - val_mae: 37445.8711 - val_mse: 3511776768.0000\n",
            "Epoch 52/100\n",
            "37/37 [==============================] - 0s 2ms/step - loss: 2531533056.0000 - mae: 35696.9844 - mse: 2531533056.0000 - val_loss: 3496691200.0000 - val_mae: 37135.9102 - val_mse: 3496691200.0000\n",
            "Epoch 53/100\n",
            "37/37 [==============================] - 0s 2ms/step - loss: 2506542848.0000 - mae: 35262.2148 - mse: 2506542848.0000 - val_loss: 3505077248.0000 - val_mae: 37357.5977 - val_mse: 3505077248.0000\n",
            "Epoch 54/100\n",
            "37/37 [==============================] - 0s 2ms/step - loss: 2484380160.0000 - mae: 35321.5664 - mse: 2484380160.0000 - val_loss: 3482477824.0000 - val_mae: 36876.4023 - val_mse: 3482477824.0000\n",
            "Epoch 55/100\n",
            "37/37 [==============================] - 0s 2ms/step - loss: 2461118976.0000 - mae: 34904.0664 - mse: 2461118976.0000 - val_loss: 3470195712.0000 - val_mae: 36608.5391 - val_mse: 3470195712.0000\n",
            "Epoch 56/100\n",
            "37/37 [==============================] - 0s 2ms/step - loss: 2438462208.0000 - mae: 34643.3398 - mse: 2438462208.0000 - val_loss: 3469416704.0000 - val_mae: 36595.2930 - val_mse: 3469416704.0000\n",
            "Epoch 57/100\n",
            "37/37 [==============================] - 0s 2ms/step - loss: 2421306112.0000 - mae: 34519.6797 - mse: 2421306112.0000 - val_loss: 3464006400.0000 - val_mae: 36470.9766 - val_mse: 3464006400.0000\n",
            "Epoch 58/100\n",
            "37/37 [==============================] - 0s 2ms/step - loss: 2399523584.0000 - mae: 34481.2070 - mse: 2399523584.0000 - val_loss: 3452215296.0000 - val_mae: 36194.1562 - val_mse: 3452215296.0000\n",
            "Epoch 59/100\n",
            "37/37 [==============================] - 0s 2ms/step - loss: 2378127872.0000 - mae: 34227.9805 - mse: 2378127872.0000 - val_loss: 3442506752.0000 - val_mae: 35962.5039 - val_mse: 3442506752.0000\n",
            "Epoch 60/100\n",
            "37/37 [==============================] - 0s 2ms/step - loss: 2354659840.0000 - mae: 33887.8203 - mse: 2354659840.0000 - val_loss: 3453873920.0000 - val_mae: 36122.3594 - val_mse: 3453873920.0000\n",
            "Epoch 61/100\n",
            "37/37 [==============================] - 0s 2ms/step - loss: 2334820352.0000 - mae: 33890.5195 - mse: 2334820352.0000 - val_loss: 3443145728.0000 - val_mae: 35863.2695 - val_mse: 3443145728.0000\n",
            "Epoch 62/100\n",
            "37/37 [==============================] - 0s 2ms/step - loss: 2315432448.0000 - mae: 33678.5742 - mse: 2315432448.0000 - val_loss: 3440949504.0000 - val_mae: 35748.0977 - val_mse: 3440949504.0000\n",
            "Epoch 63/100\n",
            "37/37 [==============================] - 0s 2ms/step - loss: 2298940160.0000 - mae: 33470.2930 - mse: 2298940160.0000 - val_loss: 3422462208.0000 - val_mae: 35324.6562 - val_mse: 3422462208.0000\n",
            "Epoch 64/100\n",
            "37/37 [==============================] - 0s 2ms/step - loss: 2280034816.0000 - mae: 33187.1875 - mse: 2280034816.0000 - val_loss: 3416338688.0000 - val_mae: 35121.8203 - val_mse: 3416338688.0000\n",
            "Epoch 65/100\n",
            "37/37 [==============================] - 0s 2ms/step - loss: 2262522368.0000 - mae: 32910.6133 - mse: 2262522368.0000 - val_loss: 3425616896.0000 - val_mae: 35209.1953 - val_mse: 3425616896.0000\n",
            "Epoch 66/100\n",
            "37/37 [==============================] - 0s 2ms/step - loss: 2245923072.0000 - mae: 32790.7578 - mse: 2245923072.0000 - val_loss: 3436267264.0000 - val_mae: 35308.3555 - val_mse: 3436267264.0000\n",
            "Epoch 67/100\n",
            "37/37 [==============================] - 0s 2ms/step - loss: 2230782720.0000 - mae: 32707.6719 - mse: 2230782720.0000 - val_loss: 3430068992.0000 - val_mae: 35108.8672 - val_mse: 3430068992.0000\n",
            "Epoch 68/100\n",
            "37/37 [==============================] - 0s 2ms/step - loss: 2212709888.0000 - mae: 32704.1953 - mse: 2212709888.0000 - val_loss: 3420849152.0000 - val_mae: 34851.2266 - val_mse: 3420849152.0000\n",
            "Epoch 69/100\n",
            "37/37 [==============================] - 0s 2ms/step - loss: 2195653120.0000 - mae: 32328.6953 - mse: 2195653120.0000 - val_loss: 3439978496.0000 - val_mae: 35049.4375 - val_mse: 3439978496.0000\n",
            "Epoch 70/100\n",
            "37/37 [==============================] - 0s 2ms/step - loss: 2179913216.0000 - mae: 32315.9863 - mse: 2179913216.0000 - val_loss: 3422456832.0000 - val_mae: 34670.6641 - val_mse: 3422456832.0000\n",
            "Epoch 71/100\n",
            "37/37 [==============================] - 0s 2ms/step - loss: 2161630976.0000 - mae: 32094.7598 - mse: 2161630976.0000 - val_loss: 3423237376.0000 - val_mae: 34580.4531 - val_mse: 3423237376.0000\n",
            "Epoch 72/100\n",
            "37/37 [==============================] - 0s 2ms/step - loss: 2146015872.0000 - mae: 31925.2676 - mse: 2146015872.0000 - val_loss: 3420689408.0000 - val_mae: 34445.2070 - val_mse: 3420689408.0000\n",
            "Epoch 73/100\n",
            "37/37 [==============================] - 0s 2ms/step - loss: 2134375552.0000 - mae: 31719.5762 - mse: 2134375552.0000 - val_loss: 3434330112.0000 - val_mae: 34554.6289 - val_mse: 3434330112.0000\n",
            "Epoch 74/100\n",
            "37/37 [==============================] - 0s 2ms/step - loss: 2120415872.0000 - mae: 31737.2812 - mse: 2120415872.0000 - val_loss: 3426704640.0000 - val_mae: 34346.9453 - val_mse: 3426704640.0000\n",
            "Epoch 75/100\n",
            "37/37 [==============================] - 0s 2ms/step - loss: 2105884928.0000 - mae: 31685.0723 - mse: 2105884928.0000 - val_loss: 3406571264.0000 - val_mae: 33964.6562 - val_mse: 3406571264.0000\n",
            "Epoch 76/100\n",
            "37/37 [==============================] - 0s 2ms/step - loss: 2095927424.0000 - mae: 31304.7734 - mse: 2095927424.0000 - val_loss: 3433095168.0000 - val_mae: 34237.7344 - val_mse: 3433095168.0000\n",
            "Epoch 77/100\n",
            "37/37 [==============================] - 0s 2ms/step - loss: 2084722432.0000 - mae: 31331.6406 - mse: 2084722432.0000 - val_loss: 3432311040.0000 - val_mae: 34124.1250 - val_mse: 3432311040.0000\n",
            "Epoch 78/100\n",
            "37/37 [==============================] - 0s 2ms/step - loss: 2072192000.0000 - mae: 31230.2578 - mse: 2072192000.0000 - val_loss: 3424042752.0000 - val_mae: 33914.9297 - val_mse: 3424042752.0000\n",
            "Epoch 79/100\n",
            "37/37 [==============================] - 0s 2ms/step - loss: 2060632320.0000 - mae: 31040.7578 - mse: 2060632320.0000 - val_loss: 3450400256.0000 - val_mae: 34131.4023 - val_mse: 3450400256.0000\n",
            "Epoch 80/100\n",
            "37/37 [==============================] - 0s 2ms/step - loss: 2050985472.0000 - mae: 31003.0176 - mse: 2050985472.0000 - val_loss: 3442829312.0000 - val_mae: 33936.9414 - val_mse: 3442829312.0000\n",
            "Epoch 81/100\n",
            "37/37 [==============================] - 0s 2ms/step - loss: 2038594688.0000 - mae: 30995.0645 - mse: 2038594688.0000 - val_loss: 3427264000.0000 - val_mae: 33646.0508 - val_mse: 3427264000.0000\n",
            "Epoch 82/100\n",
            "37/37 [==============================] - 0s 2ms/step - loss: 2031849472.0000 - mae: 30707.9824 - mse: 2031849472.0000 - val_loss: 3448304896.0000 - val_mae: 33816.2070 - val_mse: 3448304896.0000\n",
            "Epoch 83/100\n",
            "37/37 [==============================] - 0s 2ms/step - loss: 2021385216.0000 - mae: 30759.6406 - mse: 2021385216.0000 - val_loss: 3441311744.0000 - val_mae: 33614.5469 - val_mse: 3441311744.0000\n",
            "Epoch 84/100\n",
            "37/37 [==============================] - 0s 2ms/step - loss: 2010853376.0000 - mae: 30549.9512 - mse: 2010853376.0000 - val_loss: 3463438080.0000 - val_mae: 33775.1680 - val_mse: 3463438080.0000\n",
            "Epoch 85/100\n",
            "37/37 [==============================] - 0s 2ms/step - loss: 2005238016.0000 - mae: 30537.1094 - mse: 2005238016.0000 - val_loss: 3479594752.0000 - val_mae: 33844.7422 - val_mse: 3479594752.0000\n",
            "Epoch 86/100\n",
            "37/37 [==============================] - 0s 2ms/step - loss: 1996874240.0000 - mae: 30561.2148 - mse: 1996874240.0000 - val_loss: 3468077568.0000 - val_mae: 33629.7578 - val_mse: 3468077568.0000\n",
            "Epoch 87/100\n",
            "37/37 [==============================] - 0s 2ms/step - loss: 1987672576.0000 - mae: 30383.3359 - mse: 1987672576.0000 - val_loss: 3494161152.0000 - val_mae: 33798.5703 - val_mse: 3494161152.0000\n",
            "Epoch 88/100\n",
            "37/37 [==============================] - 0s 2ms/step - loss: 1982883712.0000 - mae: 30411.8770 - mse: 1982883712.0000 - val_loss: 3480596224.0000 - val_mae: 33578.9336 - val_mse: 3480596224.0000\n",
            "Epoch 89/100\n",
            "37/37 [==============================] - 0s 2ms/step - loss: 1974389888.0000 - mae: 30263.8965 - mse: 1974389888.0000 - val_loss: 3493206272.0000 - val_mae: 33601.9922 - val_mse: 3493206272.0000\n",
            "Epoch 90/100\n",
            "37/37 [==============================] - 0s 2ms/step - loss: 1967312640.0000 - mae: 30237.6445 - mse: 1967312640.0000 - val_loss: 3501355008.0000 - val_mae: 33577.8086 - val_mse: 3501355008.0000\n",
            "Epoch 91/100\n",
            "37/37 [==============================] - 0s 2ms/step - loss: 1960607488.0000 - mae: 30158.8086 - mse: 1960607488.0000 - val_loss: 3494182912.0000 - val_mae: 33436.6680 - val_mse: 3494182912.0000\n",
            "Epoch 92/100\n",
            "37/37 [==============================] - 0s 2ms/step - loss: 1954829824.0000 - mae: 30039.5957 - mse: 1954829824.0000 - val_loss: 3510245632.0000 - val_mae: 33501.4336 - val_mse: 3510245632.0000\n",
            "Epoch 93/100\n",
            "37/37 [==============================] - 0s 2ms/step - loss: 1948438272.0000 - mae: 30078.1602 - mse: 1948438272.0000 - val_loss: 3520514304.0000 - val_mae: 33507.8125 - val_mse: 3520514304.0000\n",
            "Epoch 94/100\n",
            "37/37 [==============================] - 0s 2ms/step - loss: 1942041088.0000 - mae: 29981.0488 - mse: 1942041088.0000 - val_loss: 3517384448.0000 - val_mae: 33409.7422 - val_mse: 3517384448.0000\n",
            "Epoch 95/100\n",
            "37/37 [==============================] - 0s 2ms/step - loss: 1934925952.0000 - mae: 29935.8320 - mse: 1934925952.0000 - val_loss: 3510071296.0000 - val_mae: 33278.2773 - val_mse: 3510071296.0000\n",
            "Epoch 96/100\n",
            "37/37 [==============================] - 0s 2ms/step - loss: 1930926208.0000 - mae: 29837.0820 - mse: 1930926208.0000 - val_loss: 3524171008.0000 - val_mae: 33331.4336 - val_mse: 3524171008.0000\n",
            "Epoch 97/100\n",
            "37/37 [==============================] - 0s 2ms/step - loss: 1925513216.0000 - mae: 29792.1504 - mse: 1925513216.0000 - val_loss: 3542031360.0000 - val_mae: 33416.7539 - val_mse: 3542031360.0000\n",
            "Epoch 98/100\n",
            "37/37 [==============================] - 0s 2ms/step - loss: 1919030784.0000 - mae: 29848.5957 - mse: 1919030784.0000 - val_loss: 3534795008.0000 - val_mae: 33295.1914 - val_mse: 3534795008.0000\n",
            "Epoch 99/100\n",
            "37/37 [==============================] - 0s 2ms/step - loss: 1912672384.0000 - mae: 29707.2129 - mse: 1912672384.0000 - val_loss: 3571360000.0000 - val_mae: 33522.6797 - val_mse: 3571360000.0000\n",
            "Epoch 100/100\n",
            "37/37 [==============================] - 0s 2ms/step - loss: 1910703872.0000 - mae: 29869.6680 - mse: 1910703872.0000 - val_loss: 3532204032.0000 - val_mae: 33174.1172 - val_mse: 3532204032.0000\n"
          ],
          "name": "stdout"
        }
      ]
    },
    {
      "cell_type": "code",
      "metadata": {
        "id": "vcx-Y2xz0wrY",
        "colab_type": "code",
        "colab": {
          "base_uri": "https://localhost:8080/",
          "height": 573
        },
        "outputId": "80749853-a76f-4d65-e6d7-5b3424f77dfa"
      },
      "source": [
        "history_dict = history.history\n",
        "\n",
        "acc = history_dict['mae']\n",
        "val_acc = history_dict['val_mae']\n",
        "loss=history_dict['loss']\n",
        "val_loss=history_dict['val_loss']\n",
        "\n",
        "epochs = range(1, len(acc) + 1)\n",
        "\n",
        "plt.figure(figsize=(6,4))\n",
        "plt.plot(epochs, loss, 'bo', label='Training loss')\n",
        "plt.plot(epochs, val_loss, 'b', label='Validation loss')\n",
        "plt.title('Training and validation loss')\n",
        "plt.xlabel('Epochs')\n",
        "plt.ylabel('Loss')\n",
        "plt.legend()\n",
        "plt.show()\n",
        "\n",
        "plt.figure(figsize=(6,4))\n",
        "plt.plot(epochs, acc, 'bo', label='Training acc')\n",
        "plt.plot(epochs, val_acc, 'b', label='Validation acc')\n",
        "plt.title('Training and validation accuracy')\n",
        "plt.xlabel('Epochs')\n",
        "plt.ylabel('Accuracy')\n",
        "plt.legend(loc='lower right')\n",
        "#plt.ylim((0.5,1))\n",
        "plt.show()"
      ],
      "execution_count": 32,
      "outputs": [
        {
          "output_type": "display_data",
          "data": {
            "image/png": "[encoded data removed]",
            "text/plain": [
              "<Figure size 432x288 with 1 Axes>"
            ]
          },
          "metadata": {
            "tags": [],
            "needs_background": "light"
          }
        },
        {
          "output_type": "display_data",
          "data": {
            "image/png": "[encoded data removed]",
            "text/plain": [
              "<Figure size 432x288 with 1 Axes>"
            ]
          },
          "metadata": {
            "tags": [],
            "needs_background": "light"
          }
        }
      ]
    },
    {
      "cell_type": "code",
      "metadata": {
        "id": "gFqelhMH1bwX",
        "colab_type": "code",
        "colab": {
          "base_uri": "https://localhost:8080/",
          "height": 35
        },
        "outputId": "b62983fd-ed25-47fc-d633-922ef8471151"
      },
      "source": [
        "history_dict.keys()"
      ],
      "execution_count": 23,
      "outputs": [
        {
          "output_type": "execute_result",
          "data": {
            "text/plain": [
              "dict_keys(['loss', 'mae', 'mse', 'val_loss', 'val_mae', 'val_mse'])"
            ]
          },
          "metadata": {
            "tags": []
          },
          "execution_count": 23
        }
      ]
    },
    {
      "cell_type": "code",
      "metadata": {
        "id": "FaysLyLU1zFd",
        "colab_type": "code",
        "colab": {}
      },
      "source": [
        ""
      ],
      "execution_count": null,
      "outputs": []
    }
  ]
}